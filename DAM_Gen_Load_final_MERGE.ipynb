{
  "cells": [
    {
      "cell_type": "code",
      "execution_count": null,
      "id": "f5a0b474-ab2c-4f39-8b0e-750a8c656f39",
      "metadata": {
        "id": "f5a0b474-ab2c-4f39-8b0e-750a8c656f39",
        "outputId": "7e5059e8-fc88-4d70-a105-0b46bec9b4b3"
      },
      "outputs": [
        {
          "name": "stdout",
          "output_type": "stream",
          "text": [
            "Collecting polars\n",
            "  Using cached polars-1.24.0-cp39-abi3-manylinux_2_17_x86_64.manylinux2014_x86_64.whl.metadata (14 kB)\n",
            "Using cached polars-1.24.0-cp39-abi3-manylinux_2_17_x86_64.manylinux2014_x86_64.whl (34.3 MB)\n",
            "Installing collected packages: polars\n",
            "Successfully installed polars-1.24.0\n"
          ]
        }
      ],
      "source": [
        "! pip install polars"
      ]
    },
    {
      "cell_type": "code",
      "execution_count": null,
      "id": "29fb7361-4fb0-4dd2-858c-fa70930d58ed",
      "metadata": {
        "id": "29fb7361-4fb0-4dd2-858c-fa70930d58ed"
      },
      "outputs": [],
      "source": [
        "import polars as pl"
      ]
    },
    {
      "cell_type": "code",
      "execution_count": null,
      "id": "e30de77e-4a7b-444b-aa28-55e9d42cbeac",
      "metadata": {
        "id": "e30de77e-4a7b-444b-aa28-55e9d42cbeac"
      },
      "outputs": [],
      "source": [
        "from datetime import datetime, timedelta"
      ]
    },
    {
      "cell_type": "code",
      "execution_count": null,
      "id": "0c8f4efb-8d94-4124-8844-2c1f462f9af6",
      "metadata": {
        "id": "0c8f4efb-8d94-4124-8844-2c1f462f9af6"
      },
      "outputs": [],
      "source": [
        "s3_path1 = 's3://ercot-60d-reports/DAM 60 day reports/dam_load_resource_data_60d/dam_load_resource_data_60d.parquet'\n",
        "s3_path2 = 's3://ercot-60d-reports/DAM 60 day reports/dam_gen_resource_data_60d/dam_gen_resource_data_60d.parquet'\n",
        "dam_load = pl.read_parquet(s3_path1)\n",
        "dam_gen = pl.read_parquet(s3_path2)"
      ]
    },
    {
      "cell_type": "markdown",
      "id": "424d6851-5c06-4032-90a9-e3018f36e957",
      "metadata": {
        "id": "424d6851-5c06-4032-90a9-e3018f36e957"
      },
      "source": [
        "# DAM Gen"
      ]
    },
    {
      "cell_type": "code",
      "execution_count": null,
      "id": "6b1f0d21-763d-4442-a4d6-b1f1f4be71a2",
      "metadata": {
        "id": "6b1f0d21-763d-4442-a4d6-b1f1f4be71a2"
      },
      "outputs": [],
      "source": [
        "# 1. extract name prefix into a column\n",
        "dam_gen = dam_gen.with_columns(\n",
        "    pl.col(\"resource_name\").str.split(\"_\").list.get(0).alias(\"resource_prefix\")\n",
        ")"
      ]
    },
    {
      "cell_type": "code",
      "execution_count": null,
      "id": "9646c639-1670-43a6-a203-06dad5833893",
      "metadata": {
        "id": "9646c639-1670-43a6-a203-06dad5833893",
        "outputId": "e07f2e76-1f2f-4f86-adc4-161945bed795"
      },
      "outputs": [
        {
          "data": {
            "text/html": [
              "<div><style>\n",
              ".dataframe > thead > tr,\n",
              ".dataframe > tbody > tr {\n",
              "  text-align: right;\n",
              "  white-space: pre-wrap;\n",
              "}\n",
              "</style>\n",
              "<small>shape: (5, 49)</small><table border=\"1\" class=\"dataframe\"><thead><tr><th>delivery_date</th><th>hour_ending</th><th>qse</th><th>dme</th><th>resource_name</th><th>resource_type</th><th>qse_submitted_curve_mw1</th><th>qse_submitted_curve_price1</th><th>qse_submitted_curve_mw2</th><th>qse_submitted_curve_price2</th><th>qse_submitted_curve_mw3</th><th>qse_submitted_curve_price3</th><th>qse_submitted_curve_mw4</th><th>qse_submitted_curve_price4</th><th>qse_submitted_curve_mw5</th><th>qse_submitted_curve_price5</th><th>qse_submitted_curve_mw6</th><th>qse_submitted_curve_price6</th><th>qse_submitted_curve_mw7</th><th>qse_submitted_curve_price7</th><th>qse_submitted_curve_mw8</th><th>qse_submitted_curve_price8</th><th>qse_submitted_curve_mw9</th><th>qse_submitted_curve_price9</th><th>qse_submitted_curve_mw10</th><th>qse_submitted_curve_price10</th><th>start_up_hot</th><th>start_up_inter</th><th>start_up_cold</th><th>min_gen_cost</th><th>hsl</th><th>lsl</th><th>resource_status</th><th>awarded_quantity</th><th>settlement_point_name</th><th>energy_settlement_point_price</th><th>regup_awarded</th><th>regup_mcpc</th><th>regdown_awarded</th><th>regdown_mcpc</th><th>rrspfr_awarded</th><th>rrsffr_awarded</th><th>rrsufr_awarded</th><th>rrs_mcpc</th><th>nonspin_awarded</th><th>nonspin_mcpc</th><th>ecrssd_awarded</th><th>ecrs_mcpc</th><th>resource_prefix</th></tr><tr><td>date</td><td>i32</td><td>str</td><td>str</td><td>str</td><td>str</td><td>f64</td><td>f64</td><td>f64</td><td>f64</td><td>f64</td><td>f64</td><td>f64</td><td>f64</td><td>f64</td><td>f64</td><td>f64</td><td>f64</td><td>f64</td><td>f64</td><td>f64</td><td>f64</td><td>f64</td><td>f64</td><td>f64</td><td>f64</td><td>f64</td><td>f64</td><td>f64</td><td>f64</td><td>f64</td><td>f64</td><td>str</td><td>f64</td><td>str</td><td>f64</td><td>f64</td><td>f64</td><td>f64</td><td>f64</td><td>f64</td><td>f64</td><td>f64</td><td>f64</td><td>f64</td><td>f64</td><td>f64</td><td>f64</td><td>str</td></tr></thead><tbody><tr><td>2023-05-02</td><td>1</td><td>&quot;QGOLDN&quot;</td><td>&quot;YGOLDE&quot;</td><td>&quot;AEEC_ANTLP_1&quot;</td><td>&quot;DSL&quot;</td><td>null</td><td>null</td><td>null</td><td>null</td><td>null</td><td>null</td><td>null</td><td>null</td><td>null</td><td>null</td><td>null</td><td>null</td><td>null</td><td>null</td><td>null</td><td>null</td><td>null</td><td>null</td><td>null</td><td>null</td><td>null</td><td>null</td><td>null</td><td>null</td><td>54.0</td><td>30.0</td><td>&quot;OUT&quot;</td><td>null</td><td>&quot;AEEC&quot;</td><td>9.34</td><td>null</td><td>null</td><td>null</td><td>null</td><td>null</td><td>null</td><td>null</td><td>null</td><td>null</td><td>null</td><td>null</td><td>null</td><td>&quot;AEEC&quot;</td></tr><tr><td>2023-05-02</td><td>1</td><td>&quot;QGOLDN&quot;</td><td>&quot;YGOLDE&quot;</td><td>&quot;AEEC_ANTLP_2&quot;</td><td>&quot;DSL&quot;</td><td>null</td><td>null</td><td>null</td><td>null</td><td>null</td><td>null</td><td>null</td><td>null</td><td>null</td><td>null</td><td>null</td><td>null</td><td>null</td><td>null</td><td>null</td><td>null</td><td>null</td><td>null</td><td>null</td><td>null</td><td>null</td><td>null</td><td>null</td><td>null</td><td>54.0</td><td>30.0</td><td>&quot;OUT&quot;</td><td>null</td><td>&quot;AEEC&quot;</td><td>9.34</td><td>null</td><td>null</td><td>null</td><td>null</td><td>null</td><td>null</td><td>null</td><td>null</td><td>null</td><td>null</td><td>null</td><td>null</td><td>&quot;AEEC&quot;</td></tr><tr><td>2023-05-02</td><td>1</td><td>&quot;QGOLDN&quot;</td><td>&quot;YGOLDE&quot;</td><td>&quot;AEEC_ANTLP_3&quot;</td><td>&quot;DSL&quot;</td><td>null</td><td>null</td><td>null</td><td>null</td><td>null</td><td>null</td><td>null</td><td>null</td><td>null</td><td>null</td><td>null</td><td>null</td><td>null</td><td>null</td><td>null</td><td>null</td><td>null</td><td>null</td><td>null</td><td>null</td><td>null</td><td>null</td><td>null</td><td>null</td><td>54.0</td><td>30.0</td><td>&quot;OUT&quot;</td><td>null</td><td>&quot;AEEC&quot;</td><td>9.34</td><td>null</td><td>null</td><td>null</td><td>null</td><td>null</td><td>null</td><td>null</td><td>null</td><td>null</td><td>null</td><td>null</td><td>null</td><td>&quot;AEEC&quot;</td></tr><tr><td>2023-05-02</td><td>1</td><td>&quot;QGOLDN&quot;</td><td>&quot;YGOLDE&quot;</td><td>&quot;AEEC_ELK_1&quot;</td><td>&quot;SCGT90&quot;</td><td>null</td><td>null</td><td>null</td><td>null</td><td>null</td><td>null</td><td>null</td><td>null</td><td>null</td><td>null</td><td>null</td><td>null</td><td>null</td><td>null</td><td>null</td><td>null</td><td>null</td><td>null</td><td>null</td><td>null</td><td>null</td><td>null</td><td>null</td><td>null</td><td>190.9</td><td>85.0</td><td>&quot;EMRSWGR&quot;</td><td>null</td><td>&quot;AEEC&quot;</td><td>9.34</td><td>null</td><td>null</td><td>null</td><td>null</td><td>null</td><td>null</td><td>null</td><td>null</td><td>null</td><td>null</td><td>null</td><td>null</td><td>&quot;AEEC&quot;</td></tr><tr><td>2023-05-02</td><td>1</td><td>&quot;QGOLDN&quot;</td><td>&quot;YGOLDE&quot;</td><td>&quot;AEEC_ELK_2&quot;</td><td>&quot;SCGT90&quot;</td><td>85.0</td><td>19.66</td><td>96.8</td><td>20.22</td><td>108.5</td><td>20.77</td><td>120.3</td><td>21.32</td><td>132.0</td><td>21.88</td><td>143.8</td><td>22.43</td><td>155.6</td><td>22.99</td><td>167.3</td><td>23.54</td><td>179.1</td><td>24.1</td><td>190.9</td><td>24.65</td><td>5902.01</td><td>5902.01</td><td>5902.01</td><td>28.88</td><td>190.9</td><td>85.0</td><td>&quot;OFF&quot;</td><td>0.0</td><td>&quot;AEEC&quot;</td><td>9.34</td><td>null</td><td>null</td><td>null</td><td>null</td><td>null</td><td>null</td><td>null</td><td>null</td><td>null</td><td>null</td><td>null</td><td>null</td><td>&quot;AEEC&quot;</td></tr></tbody></table></div>"
            ],
            "text/plain": [
              "shape: (5, 49)\n",
              "┌────────────┬────────────┬────────┬────────┬───┬────────────┬────────────┬───────────┬────────────┐\n",
              "│ delivery_d ┆ hour_endin ┆ qse    ┆ dme    ┆ … ┆ nonspin_mc ┆ ecrssd_awa ┆ ecrs_mcpc ┆ resource_p │\n",
              "│ ate        ┆ g          ┆ ---    ┆ ---    ┆   ┆ pc         ┆ rded       ┆ ---       ┆ refix      │\n",
              "│ ---        ┆ ---        ┆ str    ┆ str    ┆   ┆ ---        ┆ ---        ┆ f64       ┆ ---        │\n",
              "│ date       ┆ i32        ┆        ┆        ┆   ┆ f64        ┆ f64        ┆           ┆ str        │\n",
              "╞════════════╪════════════╪════════╪════════╪═══╪════════════╪════════════╪═══════════╪════════════╡\n",
              "│ 2023-05-02 ┆ 1          ┆ QGOLDN ┆ YGOLDE ┆ … ┆ null       ┆ null       ┆ null      ┆ AEEC       │\n",
              "│ 2023-05-02 ┆ 1          ┆ QGOLDN ┆ YGOLDE ┆ … ┆ null       ┆ null       ┆ null      ┆ AEEC       │\n",
              "│ 2023-05-02 ┆ 1          ┆ QGOLDN ┆ YGOLDE ┆ … ┆ null       ┆ null       ┆ null      ┆ AEEC       │\n",
              "│ 2023-05-02 ┆ 1          ┆ QGOLDN ┆ YGOLDE ┆ … ┆ null       ┆ null       ┆ null      ┆ AEEC       │\n",
              "│ 2023-05-02 ┆ 1          ┆ QGOLDN ┆ YGOLDE ┆ … ┆ null       ┆ null       ┆ null      ┆ AEEC       │\n",
              "└────────────┴────────────┴────────┴────────┴───┴────────────┴────────────┴───────────┴────────────┘"
            ]
          },
          "execution_count": 7,
          "metadata": {},
          "output_type": "execute_result"
        }
      ],
      "source": [
        "dam_gen.head()"
      ]
    },
    {
      "cell_type": "code",
      "execution_count": null,
      "id": "610f1daf-65f4-4826-bf51-201f6c36273a",
      "metadata": {
        "id": "610f1daf-65f4-4826-bf51-201f6c36273a"
      },
      "outputs": [],
      "source": [
        "# 2. add 'isBESS' dummy column\n",
        "dam_gen = dam_gen.with_columns(\n",
        "    (pl.when(pl.col(\"resource_type\") == \"PWRSTR\")\n",
        "     .then(1)\n",
        "     .otherwise(0))\n",
        "    .alias(\"isBESS\")\n",
        ")"
      ]
    },
    {
      "cell_type": "code",
      "execution_count": null,
      "id": "75a7b0f2-0444-4cce-aae6-d86f573d7827",
      "metadata": {
        "id": "75a7b0f2-0444-4cce-aae6-d86f573d7827",
        "outputId": "a0d3f138-c436-4f5f-fc96-974af4649c22"
      },
      "outputs": [
        {
          "data": {
            "text/html": [
              "<div><style>\n",
              ".dataframe > thead > tr,\n",
              ".dataframe > tbody > tr {\n",
              "  text-align: right;\n",
              "  white-space: pre-wrap;\n",
              "}\n",
              "</style>\n",
              "<small>shape: (5, 50)</small><table border=\"1\" class=\"dataframe\"><thead><tr><th>delivery_date</th><th>hour_ending</th><th>qse</th><th>dme</th><th>resource_name</th><th>resource_type</th><th>qse_submitted_curve_mw1</th><th>qse_submitted_curve_price1</th><th>qse_submitted_curve_mw2</th><th>qse_submitted_curve_price2</th><th>qse_submitted_curve_mw3</th><th>qse_submitted_curve_price3</th><th>qse_submitted_curve_mw4</th><th>qse_submitted_curve_price4</th><th>qse_submitted_curve_mw5</th><th>qse_submitted_curve_price5</th><th>qse_submitted_curve_mw6</th><th>qse_submitted_curve_price6</th><th>qse_submitted_curve_mw7</th><th>qse_submitted_curve_price7</th><th>qse_submitted_curve_mw8</th><th>qse_submitted_curve_price8</th><th>qse_submitted_curve_mw9</th><th>qse_submitted_curve_price9</th><th>qse_submitted_curve_mw10</th><th>qse_submitted_curve_price10</th><th>start_up_hot</th><th>start_up_inter</th><th>start_up_cold</th><th>min_gen_cost</th><th>hsl</th><th>lsl</th><th>resource_status</th><th>awarded_quantity</th><th>settlement_point_name</th><th>energy_settlement_point_price</th><th>regup_awarded</th><th>regup_mcpc</th><th>regdown_awarded</th><th>regdown_mcpc</th><th>rrspfr_awarded</th><th>rrsffr_awarded</th><th>rrsufr_awarded</th><th>rrs_mcpc</th><th>nonspin_awarded</th><th>nonspin_mcpc</th><th>ecrssd_awarded</th><th>ecrs_mcpc</th><th>resource_prefix</th><th>isBESS</th></tr><tr><td>date</td><td>i32</td><td>str</td><td>str</td><td>str</td><td>str</td><td>f64</td><td>f64</td><td>f64</td><td>f64</td><td>f64</td><td>f64</td><td>f64</td><td>f64</td><td>f64</td><td>f64</td><td>f64</td><td>f64</td><td>f64</td><td>f64</td><td>f64</td><td>f64</td><td>f64</td><td>f64</td><td>f64</td><td>f64</td><td>f64</td><td>f64</td><td>f64</td><td>f64</td><td>f64</td><td>f64</td><td>str</td><td>f64</td><td>str</td><td>f64</td><td>f64</td><td>f64</td><td>f64</td><td>f64</td><td>f64</td><td>f64</td><td>f64</td><td>f64</td><td>f64</td><td>f64</td><td>f64</td><td>f64</td><td>str</td><td>i32</td></tr></thead><tbody><tr><td>2023-05-02</td><td>1</td><td>&quot;QBRD11&quot;</td><td>&quot;YBROAD&quot;</td><td>&quot;ALVIN_UNIT1&quot;</td><td>&quot;PWRSTR&quot;</td><td>0.0</td><td>0.0</td><td>0.0</td><td>0.01</td><td>0.0</td><td>50.0</td><td>0.0</td><td>75.0</td><td>0.0</td><td>4999.0</td><td>9.9</td><td>5000.0</td><td>null</td><td>null</td><td>null</td><td>null</td><td>null</td><td>null</td><td>null</td><td>null</td><td>0.0</td><td>0.0</td><td>0.0</td><td>0.0</td><td>8.5</td><td>0.0</td><td>&quot;ON&quot;</td><td>0.0</td><td>&quot;ALVIN_RN&quot;</td><td>19.96</td><td>0.0</td><td>4.17</td><td>4.5</td><td>9.8</td><td>4.0</td><td>0.0</td><td>0.0</td><td>1.5</td><td>0.0</td><td>2.14</td><td>null</td><td>null</td><td>&quot;ALVIN&quot;</td><td>1</td></tr><tr><td>2023-05-02</td><td>1</td><td>&quot;QENE11&quot;</td><td>&quot;YENELT&quot;</td><td>&quot;ANCHOR_BESS1&quot;</td><td>&quot;PWRSTR&quot;</td><td>null</td><td>null</td><td>null</td><td>null</td><td>null</td><td>null</td><td>null</td><td>null</td><td>null</td><td>null</td><td>null</td><td>null</td><td>null</td><td>null</td><td>null</td><td>null</td><td>null</td><td>null</td><td>null</td><td>null</td><td>null</td><td>null</td><td>null</td><td>null</td><td>35.2</td><td>0.0</td><td>&quot;ONTEST&quot;</td><td>null</td><td>&quot;ANCHOR_ALL&quot;</td><td>14.45</td><td>null</td><td>null</td><td>null</td><td>null</td><td>null</td><td>null</td><td>null</td><td>null</td><td>null</td><td>null</td><td>null</td><td>null</td><td>&quot;ANCHOR&quot;</td><td>1</td></tr><tr><td>2023-05-02</td><td>1</td><td>&quot;QENE11&quot;</td><td>&quot;YENELT&quot;</td><td>&quot;ANCHOR_BESS2&quot;</td><td>&quot;PWRSTR&quot;</td><td>null</td><td>null</td><td>null</td><td>null</td><td>null</td><td>null</td><td>null</td><td>null</td><td>null</td><td>null</td><td>null</td><td>null</td><td>null</td><td>null</td><td>null</td><td>null</td><td>null</td><td>null</td><td>null</td><td>null</td><td>null</td><td>null</td><td>null</td><td>null</td><td>36.3</td><td>0.0</td><td>&quot;ONTEST&quot;</td><td>null</td><td>&quot;ANCHOR_ALL&quot;</td><td>14.45</td><td>null</td><td>null</td><td>null</td><td>null</td><td>null</td><td>null</td><td>null</td><td>null</td><td>null</td><td>null</td><td>null</td><td>null</td><td>&quot;ANCHOR&quot;</td><td>1</td></tr><tr><td>2023-05-02</td><td>1</td><td>&quot;QBRD11&quot;</td><td>&quot;YBROAD&quot;</td><td>&quot;ANGLETON_UNIT1&quot;</td><td>&quot;PWRSTR&quot;</td><td>0.0</td><td>0.0</td><td>0.0</td><td>0.01</td><td>0.0</td><td>50.0</td><td>0.0</td><td>75.0</td><td>0.0</td><td>4999.0</td><td>9.9</td><td>5000.0</td><td>null</td><td>null</td><td>null</td><td>null</td><td>null</td><td>null</td><td>null</td><td>null</td><td>0.0</td><td>0.0</td><td>0.0</td><td>0.0</td><td>6.5</td><td>0.0</td><td>&quot;ON&quot;</td><td>0.0</td><td>&quot;BRPANGLE_RN&quot;</td><td>14.02</td><td>0.0</td><td>4.17</td><td>4.5</td><td>9.8</td><td>2.0</td><td>0.0</td><td>0.0</td><td>1.5</td><td>0.0</td><td>2.14</td><td>null</td><td>null</td><td>&quot;ANGLETON&quot;</td><td>1</td></tr><tr><td>2023-05-02</td><td>1</td><td>&quot;QENEL6&quot;</td><td>&quot;YENELT&quot;</td><td>&quot;AZURE_BESS1&quot;</td><td>&quot;PWRSTR&quot;</td><td>0.0</td><td>4999.0</td><td>77.6</td><td>4999.1</td><td>null</td><td>null</td><td>null</td><td>null</td><td>null</td><td>null</td><td>null</td><td>null</td><td>null</td><td>null</td><td>null</td><td>null</td><td>null</td><td>null</td><td>null</td><td>null</td><td>0.0</td><td>0.0</td><td>0.0</td><td>0.0</td><td>77.6</td><td>0.0</td><td>&quot;OUT&quot;</td><td>0.0</td><td>&quot;AZURE_RN&quot;</td><td>14.13</td><td>null</td><td>null</td><td>null</td><td>null</td><td>null</td><td>null</td><td>null</td><td>null</td><td>null</td><td>null</td><td>null</td><td>null</td><td>&quot;AZURE&quot;</td><td>1</td></tr></tbody></table></div>"
            ],
            "text/plain": [
              "shape: (5, 50)\n",
              "┌─────────────┬─────────────┬────────┬────────┬───┬─────────────┬───────────┬─────────────┬────────┐\n",
              "│ delivery_da ┆ hour_ending ┆ qse    ┆ dme    ┆ … ┆ ecrssd_awar ┆ ecrs_mcpc ┆ resource_pr ┆ isBESS │\n",
              "│ te          ┆ ---         ┆ ---    ┆ ---    ┆   ┆ ded         ┆ ---       ┆ efix        ┆ ---    │\n",
              "│ ---         ┆ i32         ┆ str    ┆ str    ┆   ┆ ---         ┆ f64       ┆ ---         ┆ i32    │\n",
              "│ date        ┆             ┆        ┆        ┆   ┆ f64         ┆           ┆ str         ┆        │\n",
              "╞═════════════╪═════════════╪════════╪════════╪═══╪═════════════╪═══════════╪═════════════╪════════╡\n",
              "│ 2023-05-02  ┆ 1           ┆ QBRD11 ┆ YBROAD ┆ … ┆ null        ┆ null      ┆ ALVIN       ┆ 1      │\n",
              "│ 2023-05-02  ┆ 1           ┆ QENE11 ┆ YENELT ┆ … ┆ null        ┆ null      ┆ ANCHOR      ┆ 1      │\n",
              "│ 2023-05-02  ┆ 1           ┆ QENE11 ┆ YENELT ┆ … ┆ null        ┆ null      ┆ ANCHOR      ┆ 1      │\n",
              "│ 2023-05-02  ┆ 1           ┆ QBRD11 ┆ YBROAD ┆ … ┆ null        ┆ null      ┆ ANGLETON    ┆ 1      │\n",
              "│ 2023-05-02  ┆ 1           ┆ QENEL6 ┆ YENELT ┆ … ┆ null        ┆ null      ┆ AZURE       ┆ 1      │\n",
              "└─────────────┴─────────────┴────────┴────────┴───┴─────────────┴───────────┴─────────────┴────────┘"
            ]
          },
          "execution_count": 8,
          "metadata": {},
          "output_type": "execute_result"
        }
      ],
      "source": [
        "# check column values\n",
        "dam_gen.filter(pl.col('resource_type') == 'PWRSTR').head()"
      ]
    },
    {
      "cell_type": "code",
      "execution_count": null,
      "id": "a9751eae-dd87-4fc1-8e99-1e1f6b8f1abc",
      "metadata": {
        "id": "a9751eae-dd87-4fc1-8e99-1e1f6b8f1abc"
      },
      "outputs": [],
      "source": [
        "# 3. adjsut timestamp format\n",
        "# Convert the 'date' column to datetime (already in YYYY-MM-DD format, so no need for a specific format)\n",
        "dam_gen = dam_gen.with_columns(\n",
        "    pl.col('delivery_date').cast(pl.Datetime).alias('delivery_date')\n",
        ")\n",
        "\n",
        "# Add duration\n",
        "dam_gen = dam_gen.with_columns(\n",
        "    (pl.col('delivery_date') + pl.duration(hours=pl.col('hour_ending'))).alias('date_time')\n",
        ")\n",
        "\n",
        "# Format the date_time column as '%m/%d/%Y %H:%M'\n",
        "dam_gen = dam_gen.with_columns(\n",
        "    pl.col('date_time').dt.strftime('%m/%d/%Y %H:%M').alias('date_time')\n",
        ")\n",
        "\n",
        "# Fix: Convert date_time to datetime format\n",
        "dam_gen = dam_gen.with_columns(\n",
        "    pl.col('date_time').str.to_datetime(\"%m/%d/%Y %H:%M\", strict=False)\n",
        ")"
      ]
    },
    {
      "cell_type": "code",
      "execution_count": null,
      "id": "cf68708d-ecfc-406f-80f5-9cb3ecfb1040",
      "metadata": {
        "id": "cf68708d-ecfc-406f-80f5-9cb3ecfb1040",
        "outputId": "eddabda4-8777-4618-a9db-800a503dcd1c"
      },
      "outputs": [
        {
          "data": {
            "text/html": [
              "<div><style>\n",
              ".dataframe > thead > tr,\n",
              ".dataframe > tbody > tr {\n",
              "  text-align: right;\n",
              "  white-space: pre-wrap;\n",
              "}\n",
              "</style>\n",
              "<small>shape: (5, 51)</small><table border=\"1\" class=\"dataframe\"><thead><tr><th>delivery_date</th><th>hour_ending</th><th>qse</th><th>dme</th><th>resource_name</th><th>resource_type</th><th>qse_submitted_curve_mw1</th><th>qse_submitted_curve_price1</th><th>qse_submitted_curve_mw2</th><th>qse_submitted_curve_price2</th><th>qse_submitted_curve_mw3</th><th>qse_submitted_curve_price3</th><th>qse_submitted_curve_mw4</th><th>qse_submitted_curve_price4</th><th>qse_submitted_curve_mw5</th><th>qse_submitted_curve_price5</th><th>qse_submitted_curve_mw6</th><th>qse_submitted_curve_price6</th><th>qse_submitted_curve_mw7</th><th>qse_submitted_curve_price7</th><th>qse_submitted_curve_mw8</th><th>qse_submitted_curve_price8</th><th>qse_submitted_curve_mw9</th><th>qse_submitted_curve_price9</th><th>qse_submitted_curve_mw10</th><th>qse_submitted_curve_price10</th><th>start_up_hot</th><th>start_up_inter</th><th>start_up_cold</th><th>min_gen_cost</th><th>hsl</th><th>lsl</th><th>resource_status</th><th>awarded_quantity</th><th>settlement_point_name</th><th>energy_settlement_point_price</th><th>regup_awarded</th><th>regup_mcpc</th><th>regdown_awarded</th><th>regdown_mcpc</th><th>rrspfr_awarded</th><th>rrsffr_awarded</th><th>rrsufr_awarded</th><th>rrs_mcpc</th><th>nonspin_awarded</th><th>nonspin_mcpc</th><th>ecrssd_awarded</th><th>ecrs_mcpc</th><th>resource_prefix</th><th>isBESS</th><th>date_time</th></tr><tr><td>datetime[μs]</td><td>i32</td><td>str</td><td>str</td><td>str</td><td>str</td><td>f64</td><td>f64</td><td>f64</td><td>f64</td><td>f64</td><td>f64</td><td>f64</td><td>f64</td><td>f64</td><td>f64</td><td>f64</td><td>f64</td><td>f64</td><td>f64</td><td>f64</td><td>f64</td><td>f64</td><td>f64</td><td>f64</td><td>f64</td><td>f64</td><td>f64</td><td>f64</td><td>f64</td><td>f64</td><td>f64</td><td>str</td><td>f64</td><td>str</td><td>f64</td><td>f64</td><td>f64</td><td>f64</td><td>f64</td><td>f64</td><td>f64</td><td>f64</td><td>f64</td><td>f64</td><td>f64</td><td>f64</td><td>f64</td><td>str</td><td>i32</td><td>datetime[μs]</td></tr></thead><tbody><tr><td>2023-05-02 00:00:00</td><td>1</td><td>&quot;QGOLDN&quot;</td><td>&quot;YGOLDE&quot;</td><td>&quot;AEEC_ANTLP_1&quot;</td><td>&quot;DSL&quot;</td><td>null</td><td>null</td><td>null</td><td>null</td><td>null</td><td>null</td><td>null</td><td>null</td><td>null</td><td>null</td><td>null</td><td>null</td><td>null</td><td>null</td><td>null</td><td>null</td><td>null</td><td>null</td><td>null</td><td>null</td><td>null</td><td>null</td><td>null</td><td>null</td><td>54.0</td><td>30.0</td><td>&quot;OUT&quot;</td><td>null</td><td>&quot;AEEC&quot;</td><td>9.34</td><td>null</td><td>null</td><td>null</td><td>null</td><td>null</td><td>null</td><td>null</td><td>null</td><td>null</td><td>null</td><td>null</td><td>null</td><td>&quot;AEEC&quot;</td><td>0</td><td>2023-05-02 01:00:00</td></tr><tr><td>2023-05-02 00:00:00</td><td>1</td><td>&quot;QGOLDN&quot;</td><td>&quot;YGOLDE&quot;</td><td>&quot;AEEC_ANTLP_2&quot;</td><td>&quot;DSL&quot;</td><td>null</td><td>null</td><td>null</td><td>null</td><td>null</td><td>null</td><td>null</td><td>null</td><td>null</td><td>null</td><td>null</td><td>null</td><td>null</td><td>null</td><td>null</td><td>null</td><td>null</td><td>null</td><td>null</td><td>null</td><td>null</td><td>null</td><td>null</td><td>null</td><td>54.0</td><td>30.0</td><td>&quot;OUT&quot;</td><td>null</td><td>&quot;AEEC&quot;</td><td>9.34</td><td>null</td><td>null</td><td>null</td><td>null</td><td>null</td><td>null</td><td>null</td><td>null</td><td>null</td><td>null</td><td>null</td><td>null</td><td>&quot;AEEC&quot;</td><td>0</td><td>2023-05-02 01:00:00</td></tr><tr><td>2023-05-02 00:00:00</td><td>1</td><td>&quot;QGOLDN&quot;</td><td>&quot;YGOLDE&quot;</td><td>&quot;AEEC_ANTLP_3&quot;</td><td>&quot;DSL&quot;</td><td>null</td><td>null</td><td>null</td><td>null</td><td>null</td><td>null</td><td>null</td><td>null</td><td>null</td><td>null</td><td>null</td><td>null</td><td>null</td><td>null</td><td>null</td><td>null</td><td>null</td><td>null</td><td>null</td><td>null</td><td>null</td><td>null</td><td>null</td><td>null</td><td>54.0</td><td>30.0</td><td>&quot;OUT&quot;</td><td>null</td><td>&quot;AEEC&quot;</td><td>9.34</td><td>null</td><td>null</td><td>null</td><td>null</td><td>null</td><td>null</td><td>null</td><td>null</td><td>null</td><td>null</td><td>null</td><td>null</td><td>&quot;AEEC&quot;</td><td>0</td><td>2023-05-02 01:00:00</td></tr><tr><td>2023-05-02 00:00:00</td><td>1</td><td>&quot;QGOLDN&quot;</td><td>&quot;YGOLDE&quot;</td><td>&quot;AEEC_ELK_1&quot;</td><td>&quot;SCGT90&quot;</td><td>null</td><td>null</td><td>null</td><td>null</td><td>null</td><td>null</td><td>null</td><td>null</td><td>null</td><td>null</td><td>null</td><td>null</td><td>null</td><td>null</td><td>null</td><td>null</td><td>null</td><td>null</td><td>null</td><td>null</td><td>null</td><td>null</td><td>null</td><td>null</td><td>190.9</td><td>85.0</td><td>&quot;EMRSWGR&quot;</td><td>null</td><td>&quot;AEEC&quot;</td><td>9.34</td><td>null</td><td>null</td><td>null</td><td>null</td><td>null</td><td>null</td><td>null</td><td>null</td><td>null</td><td>null</td><td>null</td><td>null</td><td>&quot;AEEC&quot;</td><td>0</td><td>2023-05-02 01:00:00</td></tr><tr><td>2023-05-02 00:00:00</td><td>1</td><td>&quot;QGOLDN&quot;</td><td>&quot;YGOLDE&quot;</td><td>&quot;AEEC_ELK_2&quot;</td><td>&quot;SCGT90&quot;</td><td>85.0</td><td>19.66</td><td>96.8</td><td>20.22</td><td>108.5</td><td>20.77</td><td>120.3</td><td>21.32</td><td>132.0</td><td>21.88</td><td>143.8</td><td>22.43</td><td>155.6</td><td>22.99</td><td>167.3</td><td>23.54</td><td>179.1</td><td>24.1</td><td>190.9</td><td>24.65</td><td>5902.01</td><td>5902.01</td><td>5902.01</td><td>28.88</td><td>190.9</td><td>85.0</td><td>&quot;OFF&quot;</td><td>0.0</td><td>&quot;AEEC&quot;</td><td>9.34</td><td>null</td><td>null</td><td>null</td><td>null</td><td>null</td><td>null</td><td>null</td><td>null</td><td>null</td><td>null</td><td>null</td><td>null</td><td>&quot;AEEC&quot;</td><td>0</td><td>2023-05-02 01:00:00</td></tr></tbody></table></div>"
            ],
            "text/plain": [
              "shape: (5, 51)\n",
              "┌─────────────┬─────────────┬────────┬────────┬───┬───────────┬─────────────┬────────┬─────────────┐\n",
              "│ delivery_da ┆ hour_ending ┆ qse    ┆ dme    ┆ … ┆ ecrs_mcpc ┆ resource_pr ┆ isBESS ┆ date_time   │\n",
              "│ te          ┆ ---         ┆ ---    ┆ ---    ┆   ┆ ---       ┆ efix        ┆ ---    ┆ ---         │\n",
              "│ ---         ┆ i32         ┆ str    ┆ str    ┆   ┆ f64       ┆ ---         ┆ i32    ┆ datetime[μs │\n",
              "│ datetime[μs ┆             ┆        ┆        ┆   ┆           ┆ str         ┆        ┆ ]           │\n",
              "│ ]           ┆             ┆        ┆        ┆   ┆           ┆             ┆        ┆             │\n",
              "╞═════════════╪═════════════╪════════╪════════╪═══╪═══════════╪═════════════╪════════╪═════════════╡\n",
              "│ 2023-05-02  ┆ 1           ┆ QGOLDN ┆ YGOLDE ┆ … ┆ null      ┆ AEEC        ┆ 0      ┆ 2023-05-02  │\n",
              "│ 00:00:00    ┆             ┆        ┆        ┆   ┆           ┆             ┆        ┆ 01:00:00    │\n",
              "│ 2023-05-02  ┆ 1           ┆ QGOLDN ┆ YGOLDE ┆ … ┆ null      ┆ AEEC        ┆ 0      ┆ 2023-05-02  │\n",
              "│ 00:00:00    ┆             ┆        ┆        ┆   ┆           ┆             ┆        ┆ 01:00:00    │\n",
              "│ 2023-05-02  ┆ 1           ┆ QGOLDN ┆ YGOLDE ┆ … ┆ null      ┆ AEEC        ┆ 0      ┆ 2023-05-02  │\n",
              "│ 00:00:00    ┆             ┆        ┆        ┆   ┆           ┆             ┆        ┆ 01:00:00    │\n",
              "│ 2023-05-02  ┆ 1           ┆ QGOLDN ┆ YGOLDE ┆ … ┆ null      ┆ AEEC        ┆ 0      ┆ 2023-05-02  │\n",
              "│ 00:00:00    ┆             ┆        ┆        ┆   ┆           ┆             ┆        ┆ 01:00:00    │\n",
              "│ 2023-05-02  ┆ 1           ┆ QGOLDN ┆ YGOLDE ┆ … ┆ null      ┆ AEEC        ┆ 0      ┆ 2023-05-02  │\n",
              "│ 00:00:00    ┆             ┆        ┆        ┆   ┆           ┆             ┆        ┆ 01:00:00    │\n",
              "└─────────────┴─────────────┴────────┴────────┴───┴───────────┴─────────────┴────────┴─────────────┘"
            ]
          },
          "execution_count": 10,
          "metadata": {},
          "output_type": "execute_result"
        }
      ],
      "source": [
        "dam_gen.head()"
      ]
    },
    {
      "cell_type": "code",
      "execution_count": null,
      "id": "d4959987-dd6b-406e-9fbb-9e6a23293bef",
      "metadata": {
        "id": "d4959987-dd6b-406e-9fbb-9e6a23293bef"
      },
      "outputs": [],
      "source": [
        "# 4. reduce columns\n",
        "dam_gen = dam_gen.drop(['dme','hsl','lsl','resource_status','qse_submitted_curve_mw1',\n",
        "                        'qse_submitted_curve_price1', 'qse_submitted_curve_mw2',\n",
        "                        'qse_submitted_curve_price2', 'qse_submitted_curve_mw3',\n",
        "                        'qse_submitted_curve_price3', 'qse_submitted_curve_mw4',\n",
        "                        'qse_submitted_curve_price4', 'qse_submitted_curve_mw5',\n",
        "                        'qse_submitted_curve_price5', 'qse_submitted_curve_mw6',\n",
        "                        'qse_submitted_curve_price6', 'qse_submitted_curve_mw7',\n",
        "                        'qse_submitted_curve_price7', 'qse_submitted_curve_mw8', 'qse_submitted_curve_price8',\n",
        "                        'qse_submitted_curve_mw9', 'qse_submitted_curve_price9', 'qse_submitted_curve_mw10', 'qse_submitted_curve_price10'])"
      ]
    },
    {
      "cell_type": "code",
      "execution_count": null,
      "id": "d60f70a4-9067-4aeb-bdfe-a3fa5484f4dd",
      "metadata": {
        "scrolled": true,
        "id": "d60f70a4-9067-4aeb-bdfe-a3fa5484f4dd",
        "outputId": "c30611fe-ec79-4537-a415-13310249bbc3"
      },
      "outputs": [
        {
          "data": {
            "text/html": [
              "<div><style>\n",
              ".dataframe > thead > tr,\n",
              ".dataframe > tbody > tr {\n",
              "  text-align: right;\n",
              "  white-space: pre-wrap;\n",
              "}\n",
              "</style>\n",
              "<small>shape: (5, 36)</small><table border=\"1\" class=\"dataframe\"><thead><tr><th>delivery_date</th><th>hour_ending</th><th>qse</th><th>resource_name</th><th>resource_type</th><th>start_up_hot</th><th>start_up_inter</th><th>start_up_cold</th><th>min_gen_cost</th><th>awarded_quantity</th><th>settlement_point_name</th><th>energy_settlement_point_price</th><th>regup_awarded</th><th>regup_mcpc</th><th>regdown_awarded</th><th>regdown_mcpc</th><th>rrspfr_awarded</th><th>rrsffr_awarded</th><th>rrsufr_awarded</th><th>rrs_mcpc</th><th>nonspin_awarded</th><th>nonspin_mcpc</th><th>ecrssd_awarded</th><th>ecrs_mcpc</th><th>resource_prefix</th><th>isBESS</th><th>date_time</th><th>resource_function</th><th>regup_revenue</th><th>regdown_revenue</th><th>rrspfr_revenue</th><th>rrsffr_revenue</th><th>rrsufr_revenue</th><th>nonspin_revenue</th><th>ecrssd_revenue</th><th>total_revenue</th></tr><tr><td>datetime[μs]</td><td>i32</td><td>str</td><td>str</td><td>str</td><td>f64</td><td>f64</td><td>f64</td><td>f64</td><td>f64</td><td>str</td><td>f64</td><td>f64</td><td>f64</td><td>f64</td><td>f64</td><td>f64</td><td>f64</td><td>f64</td><td>f64</td><td>f64</td><td>f64</td><td>f64</td><td>f64</td><td>str</td><td>i32</td><td>datetime[μs]</td><td>str</td><td>f64</td><td>f64</td><td>f64</td><td>f64</td><td>f64</td><td>f64</td><td>f64</td><td>f64</td></tr></thead><tbody><tr><td>2023-05-02 00:00:00</td><td>1</td><td>&quot;QGOLDN&quot;</td><td>&quot;AEEC_ANTLP_1&quot;</td><td>&quot;DSL&quot;</td><td>null</td><td>null</td><td>null</td><td>null</td><td>null</td><td>&quot;AEEC&quot;</td><td>9.34</td><td>null</td><td>null</td><td>null</td><td>null</td><td>null</td><td>null</td><td>null</td><td>null</td><td>null</td><td>null</td><td>null</td><td>null</td><td>&quot;AEEC&quot;</td><td>0</td><td>2023-05-02 01:00:00</td><td>&quot;GEN&quot;</td><td>null</td><td>null</td><td>null</td><td>null</td><td>null</td><td>null</td><td>null</td><td>0.0</td></tr><tr><td>2023-05-02 00:00:00</td><td>1</td><td>&quot;QGOLDN&quot;</td><td>&quot;AEEC_ANTLP_2&quot;</td><td>&quot;DSL&quot;</td><td>null</td><td>null</td><td>null</td><td>null</td><td>null</td><td>&quot;AEEC&quot;</td><td>9.34</td><td>null</td><td>null</td><td>null</td><td>null</td><td>null</td><td>null</td><td>null</td><td>null</td><td>null</td><td>null</td><td>null</td><td>null</td><td>&quot;AEEC&quot;</td><td>0</td><td>2023-05-02 01:00:00</td><td>&quot;GEN&quot;</td><td>null</td><td>null</td><td>null</td><td>null</td><td>null</td><td>null</td><td>null</td><td>0.0</td></tr><tr><td>2023-05-02 00:00:00</td><td>1</td><td>&quot;QGOLDN&quot;</td><td>&quot;AEEC_ANTLP_3&quot;</td><td>&quot;DSL&quot;</td><td>null</td><td>null</td><td>null</td><td>null</td><td>null</td><td>&quot;AEEC&quot;</td><td>9.34</td><td>null</td><td>null</td><td>null</td><td>null</td><td>null</td><td>null</td><td>null</td><td>null</td><td>null</td><td>null</td><td>null</td><td>null</td><td>&quot;AEEC&quot;</td><td>0</td><td>2023-05-02 01:00:00</td><td>&quot;GEN&quot;</td><td>null</td><td>null</td><td>null</td><td>null</td><td>null</td><td>null</td><td>null</td><td>0.0</td></tr><tr><td>2023-05-02 00:00:00</td><td>1</td><td>&quot;QGOLDN&quot;</td><td>&quot;AEEC_ELK_1&quot;</td><td>&quot;SCGT90&quot;</td><td>null</td><td>null</td><td>null</td><td>null</td><td>null</td><td>&quot;AEEC&quot;</td><td>9.34</td><td>null</td><td>null</td><td>null</td><td>null</td><td>null</td><td>null</td><td>null</td><td>null</td><td>null</td><td>null</td><td>null</td><td>null</td><td>&quot;AEEC&quot;</td><td>0</td><td>2023-05-02 01:00:00</td><td>&quot;GEN&quot;</td><td>null</td><td>null</td><td>null</td><td>null</td><td>null</td><td>null</td><td>null</td><td>0.0</td></tr><tr><td>2023-05-02 00:00:00</td><td>1</td><td>&quot;QGOLDN&quot;</td><td>&quot;AEEC_ELK_2&quot;</td><td>&quot;SCGT90&quot;</td><td>5902.01</td><td>5902.01</td><td>5902.01</td><td>28.88</td><td>0.0</td><td>&quot;AEEC&quot;</td><td>9.34</td><td>null</td><td>null</td><td>null</td><td>null</td><td>null</td><td>null</td><td>null</td><td>null</td><td>null</td><td>null</td><td>null</td><td>null</td><td>&quot;AEEC&quot;</td><td>0</td><td>2023-05-02 01:00:00</td><td>&quot;GEN&quot;</td><td>null</td><td>null</td><td>null</td><td>null</td><td>null</td><td>null</td><td>null</td><td>0.0</td></tr></tbody></table></div>"
            ],
            "text/plain": [
              "shape: (5, 36)\n",
              "┌────────────┬────────────┬────────┬───────────┬───┬───────────┬───────────┬───────────┬───────────┐\n",
              "│ delivery_d ┆ hour_endin ┆ qse    ┆ resource_ ┆ … ┆ rrsufr_re ┆ nonspin_r ┆ ecrssd_re ┆ total_rev │\n",
              "│ ate        ┆ g          ┆ ---    ┆ name      ┆   ┆ venue     ┆ evenue    ┆ venue     ┆ enue      │\n",
              "│ ---        ┆ ---        ┆ str    ┆ ---       ┆   ┆ ---       ┆ ---       ┆ ---       ┆ ---       │\n",
              "│ datetime[μ ┆ i32        ┆        ┆ str       ┆   ┆ f64       ┆ f64       ┆ f64       ┆ f64       │\n",
              "│ s]         ┆            ┆        ┆           ┆   ┆           ┆           ┆           ┆           │\n",
              "╞════════════╪════════════╪════════╪═══════════╪═══╪═══════════╪═══════════╪═══════════╪═══════════╡\n",
              "│ 2023-05-02 ┆ 1          ┆ QGOLDN ┆ AEEC_ANTL ┆ … ┆ null      ┆ null      ┆ null      ┆ 0.0       │\n",
              "│ 00:00:00   ┆            ┆        ┆ P_1       ┆   ┆           ┆           ┆           ┆           │\n",
              "│ 2023-05-02 ┆ 1          ┆ QGOLDN ┆ AEEC_ANTL ┆ … ┆ null      ┆ null      ┆ null      ┆ 0.0       │\n",
              "│ 00:00:00   ┆            ┆        ┆ P_2       ┆   ┆           ┆           ┆           ┆           │\n",
              "│ 2023-05-02 ┆ 1          ┆ QGOLDN ┆ AEEC_ANTL ┆ … ┆ null      ┆ null      ┆ null      ┆ 0.0       │\n",
              "│ 00:00:00   ┆            ┆        ┆ P_3       ┆   ┆           ┆           ┆           ┆           │\n",
              "│ 2023-05-02 ┆ 1          ┆ QGOLDN ┆ AEEC_ELK_ ┆ … ┆ null      ┆ null      ┆ null      ┆ 0.0       │\n",
              "│ 00:00:00   ┆            ┆        ┆ 1         ┆   ┆           ┆           ┆           ┆           │\n",
              "│ 2023-05-02 ┆ 1          ┆ QGOLDN ┆ AEEC_ELK_ ┆ … ┆ null      ┆ null      ┆ null      ┆ 0.0       │\n",
              "│ 00:00:00   ┆            ┆        ┆ 2         ┆   ┆           ┆           ┆           ┆           │\n",
              "└────────────┴────────────┴────────┴───────────┴───┴───────────┴───────────┴───────────┴───────────┘"
            ]
          },
          "execution_count": 33,
          "metadata": {},
          "output_type": "execute_result"
        }
      ],
      "source": [
        "dam_gen.head()"
      ]
    },
    {
      "cell_type": "code",
      "execution_count": null,
      "id": "0cfbd7e2-cdfa-4246-ad55-ba55ec5d07f4",
      "metadata": {
        "id": "0cfbd7e2-cdfa-4246-ad55-ba55ec5d07f4"
      },
      "outputs": [],
      "source": [
        "# 5. add 'resource_function' column = 'GEN' for further concatination\n",
        "dam_gen = dam_gen.with_columns(pl.lit('GEN').alias('resource_function'))"
      ]
    },
    {
      "cell_type": "code",
      "execution_count": null,
      "id": "5d34b111-03a1-4223-8b59-187264a65e6d",
      "metadata": {
        "id": "5d34b111-03a1-4223-8b59-187264a65e6d"
      },
      "outputs": [],
      "source": [
        "# 6. add 'revenue' columns\n",
        "dam_gen = dam_gen.with_columns(\n",
        "    (pl.col(\"regup_awarded\") * pl.col(\"regup_mcpc\")).alias(\"regup_revenue\"),\n",
        "    (pl.col(\"regdown_awarded\") * pl.col(\"regdown_mcpc\")).alias(\"regdown_revenue\"),\n",
        "    (pl.col(\"rrspfr_awarded\") * pl.col(\"rrs_mcpc\")).alias(\"rrspfr_revenue\"),\n",
        "    (pl.col(\"rrsffr_awarded\") * pl.col(\"rrs_mcpc\")).alias(\"rrsffr_revenue\"),\n",
        "    (pl.col(\"rrsufr_awarded\") * pl.col(\"rrs_mcpc\")).alias(\"rrsufr_revenue\"),\n",
        "    (pl.col(\"nonspin_awarded\") * pl.col(\"nonspin_mcpc\")).alias(\"nonspin_revenue\"),\n",
        "    (pl.col(\"ecrssd_awarded\") * pl.col(\"ecrs_mcpc\")).alias(\"ecrssd_revenue\")\n",
        ")"
      ]
    },
    {
      "cell_type": "code",
      "execution_count": null,
      "id": "95c2db4c-8504-4523-8fbc-b28f594f2737",
      "metadata": {
        "id": "95c2db4c-8504-4523-8fbc-b28f594f2737"
      },
      "outputs": [],
      "source": [
        "# 7. add total revenue column\n",
        "dam_gen = dam_gen.with_columns(pl.sum_horizontal([\n",
        "        pl.col(\"regup_revenue\"), pl.col(\"regdown_revenue\"),\n",
        "        pl.col(\"rrspfr_revenue\"), pl.col(\"rrsffr_revenue\"),\n",
        "        pl.col(\"rrsufr_revenue\"), pl.col(\"nonspin_revenue\"),\n",
        "        pl.col(\"ecrssd_revenue\")\n",
        "    ]).alias(\"total_revenue\"))"
      ]
    },
    {
      "cell_type": "code",
      "execution_count": null,
      "id": "70af8e4a-2d16-4ca7-941a-e24183257066",
      "metadata": {
        "id": "70af8e4a-2d16-4ca7-941a-e24183257066"
      },
      "outputs": [],
      "source": [
        "# 8. export file\n",
        "dam_gen.write_csv(\"dam_gen_v2.csv\")\n",
        "dam_gen.write_parquet(\"dam_gen_v2.parquet\")"
      ]
    },
    {
      "cell_type": "markdown",
      "id": "633a6328-96c6-4a93-abda-7e0959b5e820",
      "metadata": {
        "id": "633a6328-96c6-4a93-abda-7e0959b5e820"
      },
      "source": [
        "# DAM Load"
      ]
    },
    {
      "cell_type": "code",
      "execution_count": null,
      "id": "4adba58b-9f5c-4ba7-9a33-dc89eefea82e",
      "metadata": {
        "id": "4adba58b-9f5c-4ba7-9a33-dc89eefea82e",
        "outputId": "d162f890-b1d1-4907-d596-7da85532e26e"
      },
      "outputs": [
        {
          "data": {
            "text/html": [
              "<div><style>\n",
              ".dataframe > thead > tr,\n",
              ".dataframe > tbody > tr {\n",
              "  text-align: right;\n",
              "  white-space: pre-wrap;\n",
              "}\n",
              "</style>\n",
              "<small>shape: (5, 18)</small><table border=\"1\" class=\"dataframe\"><thead><tr><th>delivery_date</th><th>hour_ending</th><th>load_resource_name</th><th>max_power_consumption_for_load_resource</th><th>low_power_consumption_for_load_resource</th><th>regup_awarded</th><th>regup_mcpc</th><th>regdown_awarded</th><th>regdown_mcpc</th><th>rrspfr_awarded</th><th>rrsffr_awarded</th><th>rrsufr_awarded</th><th>rrs_mcpc</th><th>nonspin_awarded</th><th>nonspin_mcpc</th><th>ecrssd_awarded</th><th>ecrsmd_awarded</th><th>ecrs_mcpc</th></tr><tr><td>date</td><td>i32</td><td>str</td><td>f64</td><td>f64</td><td>f64</td><td>f64</td><td>f64</td><td>f64</td><td>f64</td><td>f64</td><td>f64</td><td>f64</td><td>f64</td><td>f64</td><td>f64</td><td>f64</td><td>f64</td></tr></thead><tbody><tr><td>2023-05-02</td><td>1</td><td>&quot;AAPIPLNC_LD3&quot;</td><td>24.0</td><td>0.0</td><td>null</td><td>null</td><td>null</td><td>null</td><td>null</td><td>null</td><td>null</td><td>null</td><td>null</td><td>null</td><td>null</td><td>null</td><td>null</td></tr><tr><td>2023-05-02</td><td>1</td><td>&quot;AAPIPLNC_LD4&quot;</td><td>15.0</td><td>0.0</td><td>null</td><td>null</td><td>null</td><td>null</td><td>null</td><td>null</td><td>null</td><td>null</td><td>null</td><td>null</td><td>null</td><td>null</td><td>null</td></tr><tr><td>2023-05-02</td><td>1</td><td>&quot;ACRLY_LD1&quot;</td><td>2.0</td><td>0.0</td><td>null</td><td>null</td><td>null</td><td>null</td><td>null</td><td>null</td><td>null</td><td>null</td><td>null</td><td>null</td><td>null</td><td>null</td><td>null</td></tr><tr><td>2023-05-02</td><td>1</td><td>&quot;ADK_LD2&quot;</td><td>10.0</td><td>0.0</td><td>null</td><td>null</td><td>null</td><td>null</td><td>null</td><td>null</td><td>null</td><td>null</td><td>null</td><td>null</td><td>null</td><td>null</td><td>null</td></tr><tr><td>2023-05-02</td><td>1</td><td>&quot;ADK_LD3&quot;</td><td>10.0</td><td>0.2</td><td>null</td><td>null</td><td>null</td><td>null</td><td>null</td><td>null</td><td>null</td><td>null</td><td>null</td><td>null</td><td>null</td><td>null</td><td>null</td></tr></tbody></table></div>"
            ],
            "text/plain": [
              "shape: (5, 18)\n",
              "┌───────────┬───────────┬───────────┬───────────┬───┬───────────┬───────────┬───────────┬──────────┐\n",
              "│ delivery_ ┆ hour_endi ┆ load_reso ┆ max_power ┆ … ┆ nonspin_m ┆ ecrssd_aw ┆ ecrsmd_aw ┆ ecrs_mcp │\n",
              "│ date      ┆ ng        ┆ urce_name ┆ _consumpt ┆   ┆ cpc       ┆ arded     ┆ arded     ┆ c        │\n",
              "│ ---       ┆ ---       ┆ ---       ┆ ion_for_l ┆   ┆ ---       ┆ ---       ┆ ---       ┆ ---      │\n",
              "│ date      ┆ i32       ┆ str       ┆ oad…      ┆   ┆ f64       ┆ f64       ┆ f64       ┆ f64      │\n",
              "│           ┆           ┆           ┆ ---       ┆   ┆           ┆           ┆           ┆          │\n",
              "│           ┆           ┆           ┆ f64       ┆   ┆           ┆           ┆           ┆          │\n",
              "╞═══════════╪═══════════╪═══════════╪═══════════╪═══╪═══════════╪═══════════╪═══════════╪══════════╡\n",
              "│ 2023-05-0 ┆ 1         ┆ AAPIPLNC_ ┆ 24.0      ┆ … ┆ null      ┆ null      ┆ null      ┆ null     │\n",
              "│ 2         ┆           ┆ LD3       ┆           ┆   ┆           ┆           ┆           ┆          │\n",
              "│ 2023-05-0 ┆ 1         ┆ AAPIPLNC_ ┆ 15.0      ┆ … ┆ null      ┆ null      ┆ null      ┆ null     │\n",
              "│ 2         ┆           ┆ LD4       ┆           ┆   ┆           ┆           ┆           ┆          │\n",
              "│ 2023-05-0 ┆ 1         ┆ ACRLY_LD1 ┆ 2.0       ┆ … ┆ null      ┆ null      ┆ null      ┆ null     │\n",
              "│ 2         ┆           ┆           ┆           ┆   ┆           ┆           ┆           ┆          │\n",
              "│ 2023-05-0 ┆ 1         ┆ ADK_LD2   ┆ 10.0      ┆ … ┆ null      ┆ null      ┆ null      ┆ null     │\n",
              "│ 2         ┆           ┆           ┆           ┆   ┆           ┆           ┆           ┆          │\n",
              "│ 2023-05-0 ┆ 1         ┆ ADK_LD3   ┆ 10.0      ┆ … ┆ null      ┆ null      ┆ null      ┆ null     │\n",
              "│ 2         ┆           ┆           ┆           ┆   ┆           ┆           ┆           ┆          │\n",
              "└───────────┴───────────┴───────────┴───────────┴───┴───────────┴───────────┴───────────┴──────────┘"
            ]
          },
          "execution_count": 37,
          "metadata": {},
          "output_type": "execute_result"
        }
      ],
      "source": [
        "dam_load.head()"
      ]
    },
    {
      "cell_type": "code",
      "execution_count": null,
      "id": "39cad0c7-33e6-403b-9af6-3439cf383084",
      "metadata": {
        "id": "39cad0c7-33e6-403b-9af6-3439cf383084"
      },
      "outputs": [],
      "source": [
        "# 1. extract name prefix into a column\n",
        "dam_load = dam_load.with_columns(\n",
        "    pl.col(\"load_resource_name\").str.split(\"_\").list.get(0).alias(\"resource_prefix\")\n",
        ")"
      ]
    },
    {
      "cell_type": "code",
      "execution_count": null,
      "id": "d9565d8a-cdd5-4e13-9eab-c9ffe6ddb836",
      "metadata": {
        "id": "d9565d8a-cdd5-4e13-9eab-c9ffe6ddb836"
      },
      "outputs": [],
      "source": [
        "# 2. add 'isBESS' dummy column by comparing to DAM Gen\n",
        "\n",
        "# get interim bess prefix list from Gen\n",
        "bess_prefixes = set(dam_gen.filter(pl.col('isBESS') == 1)['resource_prefix'].to_list())\n",
        "\n",
        "# lookup values from the list to create column in Load\n",
        "dam_load = dam_load.with_columns(\n",
        "    pl.when(pl.col('resource_prefix').is_in(bess_prefixes))\n",
        "    .then(1)\n",
        "    .otherwise(0)\n",
        "    .alias(\"isBESS\")\n",
        ")"
      ]
    },
    {
      "cell_type": "code",
      "execution_count": null,
      "id": "26d1cc23-5c36-4dfc-b7b9-74f21780638f",
      "metadata": {
        "id": "26d1cc23-5c36-4dfc-b7b9-74f21780638f",
        "outputId": "8b1c3601-8c37-4bf3-f420-820187102a91"
      },
      "outputs": [
        {
          "data": {
            "text/html": [
              "<div><style>\n",
              ".dataframe > thead > tr,\n",
              ".dataframe > tbody > tr {\n",
              "  text-align: right;\n",
              "  white-space: pre-wrap;\n",
              "}\n",
              "</style>\n",
              "<small>shape: (5, 20)</small><table border=\"1\" class=\"dataframe\"><thead><tr><th>delivery_date</th><th>hour_ending</th><th>load_resource_name</th><th>max_power_consumption_for_load_resource</th><th>low_power_consumption_for_load_resource</th><th>regup_awarded</th><th>regup_mcpc</th><th>regdown_awarded</th><th>regdown_mcpc</th><th>rrspfr_awarded</th><th>rrsffr_awarded</th><th>rrsufr_awarded</th><th>rrs_mcpc</th><th>nonspin_awarded</th><th>nonspin_mcpc</th><th>ecrssd_awarded</th><th>ecrsmd_awarded</th><th>ecrs_mcpc</th><th>resource_prefix</th><th>isBESS</th></tr><tr><td>date</td><td>i32</td><td>str</td><td>f64</td><td>f64</td><td>f64</td><td>f64</td><td>f64</td><td>f64</td><td>f64</td><td>f64</td><td>f64</td><td>f64</td><td>f64</td><td>f64</td><td>f64</td><td>f64</td><td>f64</td><td>str</td><td>i32</td></tr></thead><tbody><tr><td>2023-05-02</td><td>1</td><td>&quot;ALVIN_LD1&quot;</td><td>9.9</td><td>0.0</td><td>0.0</td><td>4.17</td><td>1.0</td><td>9.8</td><td>0.0</td><td>0.0</td><td>0.0</td><td>1.5</td><td>0.0</td><td>2.14</td><td>null</td><td>null</td><td>null</td><td>&quot;ALVIN&quot;</td><td>1</td></tr><tr><td>2023-05-02</td><td>1</td><td>&quot;ANCHOR_LD1&quot;</td><td>35.2</td><td>0.0</td><td>null</td><td>null</td><td>null</td><td>null</td><td>null</td><td>null</td><td>null</td><td>null</td><td>null</td><td>null</td><td>null</td><td>null</td><td>null</td><td>&quot;ANCHOR&quot;</td><td>1</td></tr><tr><td>2023-05-02</td><td>1</td><td>&quot;ANCHOR_LD2&quot;</td><td>36.3</td><td>0.0</td><td>null</td><td>null</td><td>null</td><td>null</td><td>null</td><td>null</td><td>null</td><td>null</td><td>null</td><td>null</td><td>null</td><td>null</td><td>null</td><td>&quot;ANCHOR&quot;</td><td>1</td></tr><tr><td>2023-05-02</td><td>1</td><td>&quot;ANGLETON_LD1&quot;</td><td>9.9</td><td>0.0</td><td>0.0</td><td>4.17</td><td>1.0</td><td>9.8</td><td>0.0</td><td>0.0</td><td>0.0</td><td>1.5</td><td>0.0</td><td>2.14</td><td>null</td><td>null</td><td>null</td><td>&quot;ANGLETON&quot;</td><td>1</td></tr><tr><td>2023-05-02</td><td>1</td><td>&quot;AZURE_LD1&quot;</td><td>77.6</td><td>0.0</td><td>null</td><td>null</td><td>null</td><td>null</td><td>null</td><td>null</td><td>null</td><td>null</td><td>null</td><td>null</td><td>null</td><td>null</td><td>null</td><td>&quot;AZURE&quot;</td><td>1</td></tr></tbody></table></div>"
            ],
            "text/plain": [
              "shape: (5, 20)\n",
              "┌────────────┬────────────┬───────────┬───────────┬───┬───────────┬───────────┬───────────┬────────┐\n",
              "│ delivery_d ┆ hour_endin ┆ load_reso ┆ max_power ┆ … ┆ ecrsmd_aw ┆ ecrs_mcpc ┆ resource_ ┆ isBESS │\n",
              "│ ate        ┆ g          ┆ urce_name ┆ _consumpt ┆   ┆ arded     ┆ ---       ┆ prefix    ┆ ---    │\n",
              "│ ---        ┆ ---        ┆ ---       ┆ ion_for_l ┆   ┆ ---       ┆ f64       ┆ ---       ┆ i32    │\n",
              "│ date       ┆ i32        ┆ str       ┆ oad…      ┆   ┆ f64       ┆           ┆ str       ┆        │\n",
              "│            ┆            ┆           ┆ ---       ┆   ┆           ┆           ┆           ┆        │\n",
              "│            ┆            ┆           ┆ f64       ┆   ┆           ┆           ┆           ┆        │\n",
              "╞════════════╪════════════╪═══════════╪═══════════╪═══╪═══════════╪═══════════╪═══════════╪════════╡\n",
              "│ 2023-05-02 ┆ 1          ┆ ALVIN_LD1 ┆ 9.9       ┆ … ┆ null      ┆ null      ┆ ALVIN     ┆ 1      │\n",
              "│ 2023-05-02 ┆ 1          ┆ ANCHOR_LD ┆ 35.2      ┆ … ┆ null      ┆ null      ┆ ANCHOR    ┆ 1      │\n",
              "│            ┆            ┆ 1         ┆           ┆   ┆           ┆           ┆           ┆        │\n",
              "│ 2023-05-02 ┆ 1          ┆ ANCHOR_LD ┆ 36.3      ┆ … ┆ null      ┆ null      ┆ ANCHOR    ┆ 1      │\n",
              "│            ┆            ┆ 2         ┆           ┆   ┆           ┆           ┆           ┆        │\n",
              "│ 2023-05-02 ┆ 1          ┆ ANGLETON_ ┆ 9.9       ┆ … ┆ null      ┆ null      ┆ ANGLETON  ┆ 1      │\n",
              "│            ┆            ┆ LD1       ┆           ┆   ┆           ┆           ┆           ┆        │\n",
              "│ 2023-05-02 ┆ 1          ┆ AZURE_LD1 ┆ 77.6      ┆ … ┆ null      ┆ null      ┆ AZURE     ┆ 1      │\n",
              "└────────────┴────────────┴───────────┴───────────┴───┴───────────┴───────────┴───────────┴────────┘"
            ]
          },
          "execution_count": 40,
          "metadata": {},
          "output_type": "execute_result"
        }
      ],
      "source": [
        "# check\n",
        "dam_load.filter(pl.col('isBESS') == 1).head()"
      ]
    },
    {
      "cell_type": "code",
      "execution_count": null,
      "id": "574ed6b2-92bc-4fc8-8ec4-0d8bedd770a2",
      "metadata": {
        "id": "574ed6b2-92bc-4fc8-8ec4-0d8bedd770a2"
      },
      "outputs": [],
      "source": [
        "# 3. adjsut timestamp format\n",
        "# Convert the 'date' column to datetime (already in YYYY-MM-DD format, so no need for a specific format)\n",
        "dam_load = dam_load.with_columns(\n",
        "    pl.col('delivery_date').cast(pl.Datetime).alias('delivery_date')\n",
        ")\n",
        "\n",
        "# Add duration\n",
        "dam_load = dam_load.with_columns(\n",
        "    (pl.col('delivery_date') + pl.duration(hours=pl.col('hour_ending'))).alias('date_time')\n",
        ")\n",
        "\n",
        "# Format the date_time column as '%m/%d/%Y %H:%M'\n",
        "dam_load = dam_load.with_columns(\n",
        "    pl.col('date_time').dt.strftime('%m/%d/%Y %H:%M').alias('date_time')\n",
        ")\n",
        "\n",
        "# Fix: Convert date_time to datetime format\n",
        "dam_load = dam_load.with_columns(\n",
        "    pl.col('date_time').str.to_datetime(\"%m/%d/%Y %H:%M\", strict=False)\n",
        ")"
      ]
    },
    {
      "cell_type": "code",
      "execution_count": null,
      "id": "b656b4bb-3234-4409-91ac-ceed6323a5eb",
      "metadata": {
        "scrolled": true,
        "id": "b656b4bb-3234-4409-91ac-ceed6323a5eb",
        "outputId": "0e3d19bc-9282-4191-858f-acbe85a1aa1a"
      },
      "outputs": [
        {
          "data": {
            "text/html": [
              "<div><style>\n",
              ".dataframe > thead > tr,\n",
              ".dataframe > tbody > tr {\n",
              "  text-align: right;\n",
              "  white-space: pre-wrap;\n",
              "}\n",
              "</style>\n",
              "<small>shape: (5, 31)</small><table border=\"1\" class=\"dataframe\"><thead><tr><th>delivery_date</th><th>hour_ending</th><th>load_resource_name</th><th>max_power_consumption_for_load_resource</th><th>low_power_consumption_for_load_resource</th><th>regup_awarded</th><th>regup_mcpc</th><th>regdown_awarded</th><th>regdown_mcpc</th><th>rrspfr_awarded</th><th>rrsffr_awarded</th><th>rrsufr_awarded</th><th>rrs_mcpc</th><th>nonspin_awarded</th><th>nonspin_mcpc</th><th>ecrssd_awarded</th><th>ecrsmd_awarded</th><th>ecrs_mcpc</th><th>resource_prefix</th><th>isBESS</th><th>date_time</th><th>resource_function</th><th>regup_revenue</th><th>regdown_revenue</th><th>rrspfr_revenue</th><th>rrsffr_revenue</th><th>rrsufr_revenue</th><th>nonspin_revenue</th><th>ecrssd_revenue</th><th>ecrsmd_revenue</th><th>total_revenue</th></tr><tr><td>datetime[μs]</td><td>i32</td><td>str</td><td>f64</td><td>f64</td><td>f64</td><td>f64</td><td>f64</td><td>f64</td><td>f64</td><td>f64</td><td>f64</td><td>f64</td><td>f64</td><td>f64</td><td>f64</td><td>f64</td><td>f64</td><td>str</td><td>i32</td><td>datetime[μs]</td><td>str</td><td>f64</td><td>f64</td><td>f64</td><td>f64</td><td>f64</td><td>f64</td><td>f64</td><td>f64</td><td>f64</td></tr></thead><tbody><tr><td>2023-05-02 00:00:00</td><td>1</td><td>&quot;AAPIPLNC_LD3&quot;</td><td>24.0</td><td>0.0</td><td>null</td><td>null</td><td>null</td><td>null</td><td>null</td><td>null</td><td>null</td><td>null</td><td>null</td><td>null</td><td>null</td><td>null</td><td>null</td><td>&quot;AAPIPLNC&quot;</td><td>0</td><td>2023-05-02 01:00:00</td><td>&quot;LOAD&quot;</td><td>null</td><td>null</td><td>null</td><td>null</td><td>null</td><td>null</td><td>null</td><td>null</td><td>0.0</td></tr><tr><td>2023-05-02 00:00:00</td><td>1</td><td>&quot;AAPIPLNC_LD4&quot;</td><td>15.0</td><td>0.0</td><td>null</td><td>null</td><td>null</td><td>null</td><td>null</td><td>null</td><td>null</td><td>null</td><td>null</td><td>null</td><td>null</td><td>null</td><td>null</td><td>&quot;AAPIPLNC&quot;</td><td>0</td><td>2023-05-02 01:00:00</td><td>&quot;LOAD&quot;</td><td>null</td><td>null</td><td>null</td><td>null</td><td>null</td><td>null</td><td>null</td><td>null</td><td>0.0</td></tr><tr><td>2023-05-02 00:00:00</td><td>1</td><td>&quot;ACRLY_LD1&quot;</td><td>2.0</td><td>0.0</td><td>null</td><td>null</td><td>null</td><td>null</td><td>null</td><td>null</td><td>null</td><td>null</td><td>null</td><td>null</td><td>null</td><td>null</td><td>null</td><td>&quot;ACRLY&quot;</td><td>0</td><td>2023-05-02 01:00:00</td><td>&quot;LOAD&quot;</td><td>null</td><td>null</td><td>null</td><td>null</td><td>null</td><td>null</td><td>null</td><td>null</td><td>0.0</td></tr><tr><td>2023-05-02 00:00:00</td><td>1</td><td>&quot;ADK_LD2&quot;</td><td>10.0</td><td>0.0</td><td>null</td><td>null</td><td>null</td><td>null</td><td>null</td><td>null</td><td>null</td><td>null</td><td>null</td><td>null</td><td>null</td><td>null</td><td>null</td><td>&quot;ADK&quot;</td><td>0</td><td>2023-05-02 01:00:00</td><td>&quot;LOAD&quot;</td><td>null</td><td>null</td><td>null</td><td>null</td><td>null</td><td>null</td><td>null</td><td>null</td><td>0.0</td></tr><tr><td>2023-05-02 00:00:00</td><td>1</td><td>&quot;ADK_LD3&quot;</td><td>10.0</td><td>0.2</td><td>null</td><td>null</td><td>null</td><td>null</td><td>null</td><td>null</td><td>null</td><td>null</td><td>null</td><td>null</td><td>null</td><td>null</td><td>null</td><td>&quot;ADK&quot;</td><td>0</td><td>2023-05-02 01:00:00</td><td>&quot;LOAD&quot;</td><td>null</td><td>null</td><td>null</td><td>null</td><td>null</td><td>null</td><td>null</td><td>null</td><td>0.0</td></tr></tbody></table></div>"
            ],
            "text/plain": [
              "shape: (5, 31)\n",
              "┌───────────┬───────────┬───────────┬───────────┬───┬───────────┬───────────┬───────────┬──────────┐\n",
              "│ delivery_ ┆ hour_endi ┆ load_reso ┆ max_power ┆ … ┆ nonspin_r ┆ ecrssd_re ┆ ecrsmd_re ┆ total_re │\n",
              "│ date      ┆ ng        ┆ urce_name ┆ _consumpt ┆   ┆ evenue    ┆ venue     ┆ venue     ┆ venue    │\n",
              "│ ---       ┆ ---       ┆ ---       ┆ ion_for_l ┆   ┆ ---       ┆ ---       ┆ ---       ┆ ---      │\n",
              "│ datetime[ ┆ i32       ┆ str       ┆ oad…      ┆   ┆ f64       ┆ f64       ┆ f64       ┆ f64      │\n",
              "│ μs]       ┆           ┆           ┆ ---       ┆   ┆           ┆           ┆           ┆          │\n",
              "│           ┆           ┆           ┆ f64       ┆   ┆           ┆           ┆           ┆          │\n",
              "╞═══════════╪═══════════╪═══════════╪═══════════╪═══╪═══════════╪═══════════╪═══════════╪══════════╡\n",
              "│ 2023-05-0 ┆ 1         ┆ AAPIPLNC_ ┆ 24.0      ┆ … ┆ null      ┆ null      ┆ null      ┆ 0.0      │\n",
              "│ 2         ┆           ┆ LD3       ┆           ┆   ┆           ┆           ┆           ┆          │\n",
              "│ 00:00:00  ┆           ┆           ┆           ┆   ┆           ┆           ┆           ┆          │\n",
              "│ 2023-05-0 ┆ 1         ┆ AAPIPLNC_ ┆ 15.0      ┆ … ┆ null      ┆ null      ┆ null      ┆ 0.0      │\n",
              "│ 2         ┆           ┆ LD4       ┆           ┆   ┆           ┆           ┆           ┆          │\n",
              "│ 00:00:00  ┆           ┆           ┆           ┆   ┆           ┆           ┆           ┆          │\n",
              "│ 2023-05-0 ┆ 1         ┆ ACRLY_LD1 ┆ 2.0       ┆ … ┆ null      ┆ null      ┆ null      ┆ 0.0      │\n",
              "│ 2         ┆           ┆           ┆           ┆   ┆           ┆           ┆           ┆          │\n",
              "│ 00:00:00  ┆           ┆           ┆           ┆   ┆           ┆           ┆           ┆          │\n",
              "│ 2023-05-0 ┆ 1         ┆ ADK_LD2   ┆ 10.0      ┆ … ┆ null      ┆ null      ┆ null      ┆ 0.0      │\n",
              "│ 2         ┆           ┆           ┆           ┆   ┆           ┆           ┆           ┆          │\n",
              "│ 00:00:00  ┆           ┆           ┆           ┆   ┆           ┆           ┆           ┆          │\n",
              "│ 2023-05-0 ┆ 1         ┆ ADK_LD3   ┆ 10.0      ┆ … ┆ null      ┆ null      ┆ null      ┆ 0.0      │\n",
              "│ 2         ┆           ┆           ┆           ┆   ┆           ┆           ┆           ┆          │\n",
              "│ 00:00:00  ┆           ┆           ┆           ┆   ┆           ┆           ┆           ┆          │\n",
              "└───────────┴───────────┴───────────┴───────────┴───┴───────────┴───────────┴───────────┴──────────┘"
            ]
          },
          "execution_count": 48,
          "metadata": {},
          "output_type": "execute_result"
        }
      ],
      "source": [
        "dam_load.head()"
      ]
    },
    {
      "cell_type": "code",
      "execution_count": null,
      "id": "e65b541d-8e7d-4bb8-ab46-fb300e10bab2",
      "metadata": {
        "id": "e65b541d-8e7d-4bb8-ab46-fb300e10bab2"
      },
      "outputs": [],
      "source": [
        "# 4. add 'resource_function' column = 'GEN' for further concatination\n",
        "dam_load = dam_load.with_columns(pl.lit('LOAD').alias('resource_function'))"
      ]
    },
    {
      "cell_type": "code",
      "execution_count": null,
      "id": "65a55499-1635-4dea-ba95-45a3d0c0af62",
      "metadata": {
        "id": "65a55499-1635-4dea-ba95-45a3d0c0af62"
      },
      "outputs": [],
      "source": [
        "# 5. add 'revenue' columns\n",
        "dam_load = dam_load.with_columns(\n",
        "    (pl.col(\"regup_awarded\") * pl.col(\"regup_mcpc\")).alias(\"regup_revenue\"),\n",
        "    (pl.col(\"regdown_awarded\") * pl.col(\"regdown_mcpc\")).alias(\"regdown_revenue\"),\n",
        "    (pl.col(\"rrspfr_awarded\") * pl.col(\"rrs_mcpc\")).alias(\"rrspfr_revenue\"),\n",
        "    (pl.col(\"rrsffr_awarded\") * pl.col(\"rrs_mcpc\")).alias(\"rrsffr_revenue\"),\n",
        "    (pl.col(\"rrsufr_awarded\") * pl.col(\"rrs_mcpc\")).alias(\"rrsufr_revenue\"),\n",
        "    (pl.col(\"nonspin_awarded\") * pl.col(\"nonspin_mcpc\")).alias(\"nonspin_revenue\"),\n",
        "    (pl.col(\"ecrssd_awarded\") * pl.col(\"ecrs_mcpc\")).alias(\"ecrssd_revenue\"),\n",
        "    (pl.col(\"ecrsmd_awarded\") * pl.col(\"ecrs_mcpc\")).alias(\"ecrsmd_revenue\")\n",
        ")"
      ]
    },
    {
      "cell_type": "code",
      "execution_count": null,
      "id": "fc38cc78-d64d-4c0a-8b21-5f2955d9944b",
      "metadata": {
        "id": "fc38cc78-d64d-4c0a-8b21-5f2955d9944b"
      },
      "outputs": [],
      "source": [
        "# add total revenue column\n",
        "dam_load = dam_load.with_columns(pl.sum_horizontal([\n",
        "        pl.col(\"regup_revenue\"), pl.col(\"regdown_revenue\"),\n",
        "        pl.col(\"rrspfr_revenue\"), pl.col(\"rrsffr_revenue\"),\n",
        "        pl.col(\"rrsufr_revenue\"), pl.col(\"nonspin_revenue\"),\n",
        "        pl.col(\"ecrssd_revenue\"),pl.col(\"ecrsmd_revenue\")\n",
        "    ]).alias(\"total_revenue\"))"
      ]
    },
    {
      "cell_type": "code",
      "execution_count": null,
      "id": "fbf5485c-3798-418a-b214-cbb302935a04",
      "metadata": {
        "id": "fbf5485c-3798-418a-b214-cbb302935a04"
      },
      "outputs": [],
      "source": [
        "# 5. export file\n",
        "dam_load.write_csv(\"dam_load_v2.csv\")\n",
        "dam_load.write_parquet(\"dam_load_v2.parquet\")"
      ]
    },
    {
      "cell_type": "markdown",
      "id": "9a870bd7-c9ac-4f28-99b7-7457b75dac15",
      "metadata": {
        "id": "9a870bd7-c9ac-4f28-99b7-7457b75dac15"
      },
      "source": [
        "# Concatenating GEN & LOAD data"
      ]
    },
    {
      "cell_type": "code",
      "execution_count": null,
      "id": "2be166b3-626f-4794-9a3c-7eb2bfee0346",
      "metadata": {
        "id": "2be166b3-626f-4794-9a3c-7eb2bfee0346"
      },
      "outputs": [],
      "source": [
        "# DAM Gen\n",
        "# 1. make copy\n",
        "dam_gen_2 = dam_gen"
      ]
    },
    {
      "cell_type": "code",
      "execution_count": null,
      "id": "a99ee48f-b4ea-4d02-91af-7bf84f68694e",
      "metadata": {
        "id": "a99ee48f-b4ea-4d02-91af-7bf84f68694e",
        "outputId": "b8acb695-92fc-427c-a624-5846f89d0403"
      },
      "outputs": [
        {
          "data": {
            "text/html": [
              "<div><style>\n",
              ".dataframe > thead > tr,\n",
              ".dataframe > tbody > tr {\n",
              "  text-align: right;\n",
              "  white-space: pre-wrap;\n",
              "}\n",
              "</style>\n",
              "<small>shape: (5, 36)</small><table border=\"1\" class=\"dataframe\"><thead><tr><th>delivery_date</th><th>hour_ending</th><th>qse</th><th>resource_name</th><th>resource_type</th><th>start_up_hot</th><th>start_up_inter</th><th>start_up_cold</th><th>min_gen_cost</th><th>awarded_quantity</th><th>settlement_point_name</th><th>energy_settlement_point_price</th><th>regup_awarded</th><th>regup_mcpc</th><th>regdown_awarded</th><th>regdown_mcpc</th><th>rrspfr_awarded</th><th>rrsffr_awarded</th><th>rrsufr_awarded</th><th>rrs_mcpc</th><th>nonspin_awarded</th><th>nonspin_mcpc</th><th>ecrssd_awarded</th><th>ecrs_mcpc</th><th>resource_prefix</th><th>isBESS</th><th>date_time</th><th>resource_function</th><th>regup_revenue</th><th>regdown_revenue</th><th>rrspfr_revenue</th><th>rrsffr_revenue</th><th>rrsufr_revenue</th><th>nonspin_revenue</th><th>ecrssd_revenue</th><th>total_revenue</th></tr><tr><td>datetime[μs]</td><td>i32</td><td>str</td><td>str</td><td>str</td><td>f64</td><td>f64</td><td>f64</td><td>f64</td><td>f64</td><td>str</td><td>f64</td><td>f64</td><td>f64</td><td>f64</td><td>f64</td><td>f64</td><td>f64</td><td>f64</td><td>f64</td><td>f64</td><td>f64</td><td>f64</td><td>f64</td><td>str</td><td>i32</td><td>datetime[μs]</td><td>str</td><td>f64</td><td>f64</td><td>f64</td><td>f64</td><td>f64</td><td>f64</td><td>f64</td><td>f64</td></tr></thead><tbody><tr><td>2023-05-02 00:00:00</td><td>1</td><td>&quot;QGOLDN&quot;</td><td>&quot;AEEC_ANTLP_1&quot;</td><td>&quot;DSL&quot;</td><td>null</td><td>null</td><td>null</td><td>null</td><td>null</td><td>&quot;AEEC&quot;</td><td>9.34</td><td>null</td><td>null</td><td>null</td><td>null</td><td>null</td><td>null</td><td>null</td><td>null</td><td>null</td><td>null</td><td>null</td><td>null</td><td>&quot;AEEC&quot;</td><td>0</td><td>2023-05-02 01:00:00</td><td>&quot;GEN&quot;</td><td>null</td><td>null</td><td>null</td><td>null</td><td>null</td><td>null</td><td>null</td><td>0.0</td></tr><tr><td>2023-05-02 00:00:00</td><td>1</td><td>&quot;QGOLDN&quot;</td><td>&quot;AEEC_ANTLP_2&quot;</td><td>&quot;DSL&quot;</td><td>null</td><td>null</td><td>null</td><td>null</td><td>null</td><td>&quot;AEEC&quot;</td><td>9.34</td><td>null</td><td>null</td><td>null</td><td>null</td><td>null</td><td>null</td><td>null</td><td>null</td><td>null</td><td>null</td><td>null</td><td>null</td><td>&quot;AEEC&quot;</td><td>0</td><td>2023-05-02 01:00:00</td><td>&quot;GEN&quot;</td><td>null</td><td>null</td><td>null</td><td>null</td><td>null</td><td>null</td><td>null</td><td>0.0</td></tr><tr><td>2023-05-02 00:00:00</td><td>1</td><td>&quot;QGOLDN&quot;</td><td>&quot;AEEC_ANTLP_3&quot;</td><td>&quot;DSL&quot;</td><td>null</td><td>null</td><td>null</td><td>null</td><td>null</td><td>&quot;AEEC&quot;</td><td>9.34</td><td>null</td><td>null</td><td>null</td><td>null</td><td>null</td><td>null</td><td>null</td><td>null</td><td>null</td><td>null</td><td>null</td><td>null</td><td>&quot;AEEC&quot;</td><td>0</td><td>2023-05-02 01:00:00</td><td>&quot;GEN&quot;</td><td>null</td><td>null</td><td>null</td><td>null</td><td>null</td><td>null</td><td>null</td><td>0.0</td></tr><tr><td>2023-05-02 00:00:00</td><td>1</td><td>&quot;QGOLDN&quot;</td><td>&quot;AEEC_ELK_1&quot;</td><td>&quot;SCGT90&quot;</td><td>null</td><td>null</td><td>null</td><td>null</td><td>null</td><td>&quot;AEEC&quot;</td><td>9.34</td><td>null</td><td>null</td><td>null</td><td>null</td><td>null</td><td>null</td><td>null</td><td>null</td><td>null</td><td>null</td><td>null</td><td>null</td><td>&quot;AEEC&quot;</td><td>0</td><td>2023-05-02 01:00:00</td><td>&quot;GEN&quot;</td><td>null</td><td>null</td><td>null</td><td>null</td><td>null</td><td>null</td><td>null</td><td>0.0</td></tr><tr><td>2023-05-02 00:00:00</td><td>1</td><td>&quot;QGOLDN&quot;</td><td>&quot;AEEC_ELK_2&quot;</td><td>&quot;SCGT90&quot;</td><td>5902.01</td><td>5902.01</td><td>5902.01</td><td>28.88</td><td>0.0</td><td>&quot;AEEC&quot;</td><td>9.34</td><td>null</td><td>null</td><td>null</td><td>null</td><td>null</td><td>null</td><td>null</td><td>null</td><td>null</td><td>null</td><td>null</td><td>null</td><td>&quot;AEEC&quot;</td><td>0</td><td>2023-05-02 01:00:00</td><td>&quot;GEN&quot;</td><td>null</td><td>null</td><td>null</td><td>null</td><td>null</td><td>null</td><td>null</td><td>0.0</td></tr></tbody></table></div>"
            ],
            "text/plain": [
              "shape: (5, 36)\n",
              "┌────────────┬────────────┬────────┬───────────┬───┬───────────┬───────────┬───────────┬───────────┐\n",
              "│ delivery_d ┆ hour_endin ┆ qse    ┆ resource_ ┆ … ┆ rrsufr_re ┆ nonspin_r ┆ ecrssd_re ┆ total_rev │\n",
              "│ ate        ┆ g          ┆ ---    ┆ name      ┆   ┆ venue     ┆ evenue    ┆ venue     ┆ enue      │\n",
              "│ ---        ┆ ---        ┆ str    ┆ ---       ┆   ┆ ---       ┆ ---       ┆ ---       ┆ ---       │\n",
              "│ datetime[μ ┆ i32        ┆        ┆ str       ┆   ┆ f64       ┆ f64       ┆ f64       ┆ f64       │\n",
              "│ s]         ┆            ┆        ┆           ┆   ┆           ┆           ┆           ┆           │\n",
              "╞════════════╪════════════╪════════╪═══════════╪═══╪═══════════╪═══════════╪═══════════╪═══════════╡\n",
              "│ 2023-05-02 ┆ 1          ┆ QGOLDN ┆ AEEC_ANTL ┆ … ┆ null      ┆ null      ┆ null      ┆ 0.0       │\n",
              "│ 00:00:00   ┆            ┆        ┆ P_1       ┆   ┆           ┆           ┆           ┆           │\n",
              "│ 2023-05-02 ┆ 1          ┆ QGOLDN ┆ AEEC_ANTL ┆ … ┆ null      ┆ null      ┆ null      ┆ 0.0       │\n",
              "│ 00:00:00   ┆            ┆        ┆ P_2       ┆   ┆           ┆           ┆           ┆           │\n",
              "│ 2023-05-02 ┆ 1          ┆ QGOLDN ┆ AEEC_ANTL ┆ … ┆ null      ┆ null      ┆ null      ┆ 0.0       │\n",
              "│ 00:00:00   ┆            ┆        ┆ P_3       ┆   ┆           ┆           ┆           ┆           │\n",
              "│ 2023-05-02 ┆ 1          ┆ QGOLDN ┆ AEEC_ELK_ ┆ … ┆ null      ┆ null      ┆ null      ┆ 0.0       │\n",
              "│ 00:00:00   ┆            ┆        ┆ 1         ┆   ┆           ┆           ┆           ┆           │\n",
              "│ 2023-05-02 ┆ 1          ┆ QGOLDN ┆ AEEC_ELK_ ┆ … ┆ null      ┆ null      ┆ null      ┆ 0.0       │\n",
              "│ 00:00:00   ┆            ┆        ┆ 2         ┆   ┆           ┆           ┆           ┆           │\n",
              "└────────────┴────────────┴────────┴───────────┴───┴───────────┴───────────┴───────────┴───────────┘"
            ]
          },
          "execution_count": 112,
          "metadata": {},
          "output_type": "execute_result"
        }
      ],
      "source": [
        "dam_gen_2.head()"
      ]
    },
    {
      "cell_type": "code",
      "execution_count": null,
      "id": "018245f0-8c9d-4121-be48-b03c3e45ac49",
      "metadata": {
        "id": "018245f0-8c9d-4121-be48-b03c3e45ac49"
      },
      "outputs": [],
      "source": [
        "# 2. add missing columns # with ld_ prefix for load\n",
        "dam_gen_2 = dam_gen_2.with_columns([\n",
        "    pl.lit(None).cast(pl.Float64).alias('ld_max_power_consumption_for_load_resource'),\n",
        "    pl.lit(None).cast(pl.Float64).alias('ld_low_power_consumption_for_load_resource'),\n",
        "    pl.lit(None).cast(pl.Float64).alias('ld_ecrsmd_awarded'),\n",
        "    pl.lit(None).cast(pl.Float64).alias('ld_ecrsmd_revenue')\n",
        "])"
      ]
    },
    {
      "cell_type": "code",
      "execution_count": null,
      "id": "6e9944bd-7556-4e0c-8ea5-1dfee45f599e",
      "metadata": {
        "id": "6e9944bd-7556-4e0c-8ea5-1dfee45f599e"
      },
      "outputs": [],
      "source": [
        "# 3. ad gn_ prefix to gen-specific columns\n",
        "dam_gen_2 = dam_gen_2.rename({'qse':'gn_qse',\n",
        "                              'resource_type':'gn_resource_type',\n",
        "                              'start_up_hot':'gn_start_up_hot',\n",
        "                             'start_up_inter':'gn_start_up_inter',\n",
        "                              'start_up_cold':'gn_start_up_cold',\n",
        "                              'min_gen_cost':'gn_min_gen_cost',\n",
        "                              'awarded_quantity':'gn_awarded_quantity',\n",
        "                              'settlement_point_name':'gn_settlement_point_name',\n",
        "                              'energy_settlement_point_price':'gn_energy_settlement_point_price'})"
      ]
    },
    {
      "cell_type": "code",
      "execution_count": null,
      "id": "e2082ce0-e546-40bf-9d8a-affaff8f14f3",
      "metadata": {
        "id": "e2082ce0-e546-40bf-9d8a-affaff8f14f3"
      },
      "outputs": [],
      "source": [
        "# DAM Load\n",
        "# 1. make copy\n",
        "dam_load_2 = dam_load"
      ]
    },
    {
      "cell_type": "code",
      "execution_count": null,
      "id": "d59757ee-8348-498b-a24e-342394c46d01",
      "metadata": {
        "scrolled": true,
        "id": "d59757ee-8348-498b-a24e-342394c46d01"
      },
      "outputs": [],
      "source": [
        "# 2. add missing columns # with gn_ prefix for gen\n",
        "dam_load_2 = dam_load_2.with_columns([\n",
        "    pl.lit(None).cast(pl.Utf8).alias('gn_qse'),\n",
        "    pl.lit(None).cast(pl.Utf8).alias('gn_resource_type'),\n",
        "    pl.lit(None).cast(pl.Float64).alias('gn_start_up_hot'),\n",
        "    pl.lit(None).cast(pl.Float64).alias('gn_start_up_inter'),\n",
        "    pl.lit(None).cast(pl.Float64).alias('gn_start_up_cold'),\n",
        "    pl.lit(None).cast(pl.Float64).alias('gn_min_gen_cost'),\n",
        "    pl.lit(None).cast(pl.Float64).alias('gn_awarded_quantity'),\n",
        "    pl.lit(None).cast(pl.Utf8).alias('gn_settlement_point_name'),\n",
        "    pl.lit(None).cast(pl.Float64).alias('gn_energy_settlement_point_price')\n",
        "])"
      ]
    },
    {
      "cell_type": "code",
      "execution_count": null,
      "id": "4d1c360e-19b9-4c4e-8be6-56f289735251",
      "metadata": {
        "id": "4d1c360e-19b9-4c4e-8be6-56f289735251"
      },
      "outputs": [],
      "source": [
        "# 3. rename 'resource_name' column and add ld_ to unique to load columns\n",
        "dam_load_2 = dam_load_2.rename({'load_resource_name': 'resource_name',\n",
        "                              'max_power_consumption_for_load_resource':'ld_max_power_consumption_for_load_resource',\n",
        "                              'low_power_consumption_for_load_resource':'ld_low_power_consumption_for_load_resource',\n",
        "                              'ecrsmd_awarded': 'ld_ecrsmd_awarded','ecrsmd_revenue':'ld_ecrsmd_revenue'}\n",
        "                              )"
      ]
    },
    {
      "cell_type": "code",
      "execution_count": null,
      "id": "75c4c79e-382d-427d-a90c-faea1c984bfd",
      "metadata": {
        "id": "75c4c79e-382d-427d-a90c-faea1c984bfd"
      },
      "outputs": [],
      "source": [
        "desired_column_order =['delivery_date','hour_ending','date_time',\n",
        " 'gn_qse','resource_name','gn_resource_type','resource_prefix','isBESS','resource_function',\n",
        " 'gn_start_up_hot','gn_start_up_inter','gn_start_up_cold','gn_min_gen_cost','gn_awarded_quantity','gn_settlement_point_name','gn_energy_settlement_point_price',\n",
        " 'regup_awarded','regup_mcpc','regup_revenue','regdown_awarded','regdown_mcpc','regdown_revenue',\n",
        " 'rrspfr_awarded','rrsffr_awarded','rrsufr_awarded','rrs_mcpc', 'rrspfr_revenue','rrsffr_revenue','rrsufr_revenue',\n",
        " 'nonspin_awarded','nonspin_mcpc', 'nonspin_revenue',\n",
        " 'ecrssd_awarded','ecrs_mcpc','ecrssd_revenue',\n",
        " 'total_revenue',\n",
        " 'ld_max_power_consumption_for_load_resource',\n",
        " 'ld_low_power_consumption_for_load_resource',\n",
        " 'ld_ecrsmd_awarded',\n",
        " 'ld_ecrsmd_revenue']"
      ]
    },
    {
      "cell_type": "code",
      "execution_count": null,
      "id": "3cb67c0e-8c4f-4042-bfb1-a39f2ea61621",
      "metadata": {
        "id": "3cb67c0e-8c4f-4042-bfb1-a39f2ea61621"
      },
      "outputs": [],
      "source": [
        "# assign order\n",
        "dam_gen_2 = dam_gen_2.select(desired_column_order)"
      ]
    },
    {
      "cell_type": "code",
      "execution_count": null,
      "id": "283eb62c-b966-4490-aa3a-8065736795da",
      "metadata": {
        "scrolled": true,
        "id": "283eb62c-b966-4490-aa3a-8065736795da",
        "outputId": "1417303a-8bbe-42dc-8c9f-588f423e1c27"
      },
      "outputs": [
        {
          "data": {
            "text/html": [
              "<div><style>\n",
              ".dataframe > thead > tr,\n",
              ".dataframe > tbody > tr {\n",
              "  text-align: right;\n",
              "  white-space: pre-wrap;\n",
              "}\n",
              "</style>\n",
              "<small>shape: (5, 40)</small><table border=\"1\" class=\"dataframe\"><thead><tr><th>delivery_date</th><th>hour_ending</th><th>date_time</th><th>gn_qse</th><th>resource_name</th><th>gn_resource_type</th><th>resource_prefix</th><th>isBESS</th><th>resource_function</th><th>gn_start_up_hot</th><th>gn_start_up_inter</th><th>gn_start_up_cold</th><th>gn_min_gen_cost</th><th>gn_awarded_quantity</th><th>gn_settlement_point_name</th><th>gn_energy_settlement_point_price</th><th>regup_awarded</th><th>regup_mcpc</th><th>regup_revenue</th><th>regdown_awarded</th><th>regdown_mcpc</th><th>regdown_revenue</th><th>rrspfr_awarded</th><th>rrsffr_awarded</th><th>rrsufr_awarded</th><th>rrs_mcpc</th><th>rrspfr_revenue</th><th>rrsffr_revenue</th><th>rrsufr_revenue</th><th>nonspin_awarded</th><th>nonspin_mcpc</th><th>nonspin_revenue</th><th>ecrssd_awarded</th><th>ecrs_mcpc</th><th>ecrssd_revenue</th><th>total_revenue</th><th>ld_max_power_consumption_for_load_resource</th><th>ld_low_power_consumption_for_load_resource</th><th>ld_ecrsmd_awarded</th><th>ld_ecrsmd_revenue</th></tr><tr><td>datetime[μs]</td><td>i32</td><td>datetime[μs]</td><td>str</td><td>str</td><td>str</td><td>str</td><td>i32</td><td>str</td><td>f64</td><td>f64</td><td>f64</td><td>f64</td><td>f64</td><td>str</td><td>f64</td><td>f64</td><td>f64</td><td>f64</td><td>f64</td><td>f64</td><td>f64</td><td>f64</td><td>f64</td><td>f64</td><td>f64</td><td>f64</td><td>f64</td><td>f64</td><td>f64</td><td>f64</td><td>f64</td><td>f64</td><td>f64</td><td>f64</td><td>f64</td><td>f64</td><td>f64</td><td>f64</td><td>f64</td></tr></thead><tbody><tr><td>2023-05-02 00:00:00</td><td>1</td><td>2023-05-02 01:00:00</td><td>&quot;QGOLDN&quot;</td><td>&quot;AEEC_ANTLP_1&quot;</td><td>&quot;DSL&quot;</td><td>&quot;AEEC&quot;</td><td>0</td><td>&quot;GEN&quot;</td><td>null</td><td>null</td><td>null</td><td>null</td><td>null</td><td>&quot;AEEC&quot;</td><td>9.34</td><td>null</td><td>null</td><td>null</td><td>null</td><td>null</td><td>null</td><td>null</td><td>null</td><td>null</td><td>null</td><td>null</td><td>null</td><td>null</td><td>null</td><td>null</td><td>null</td><td>null</td><td>null</td><td>null</td><td>0.0</td><td>null</td><td>null</td><td>null</td><td>null</td></tr><tr><td>2023-05-02 00:00:00</td><td>1</td><td>2023-05-02 01:00:00</td><td>&quot;QGOLDN&quot;</td><td>&quot;AEEC_ANTLP_2&quot;</td><td>&quot;DSL&quot;</td><td>&quot;AEEC&quot;</td><td>0</td><td>&quot;GEN&quot;</td><td>null</td><td>null</td><td>null</td><td>null</td><td>null</td><td>&quot;AEEC&quot;</td><td>9.34</td><td>null</td><td>null</td><td>null</td><td>null</td><td>null</td><td>null</td><td>null</td><td>null</td><td>null</td><td>null</td><td>null</td><td>null</td><td>null</td><td>null</td><td>null</td><td>null</td><td>null</td><td>null</td><td>null</td><td>0.0</td><td>null</td><td>null</td><td>null</td><td>null</td></tr><tr><td>2023-05-02 00:00:00</td><td>1</td><td>2023-05-02 01:00:00</td><td>&quot;QGOLDN&quot;</td><td>&quot;AEEC_ANTLP_3&quot;</td><td>&quot;DSL&quot;</td><td>&quot;AEEC&quot;</td><td>0</td><td>&quot;GEN&quot;</td><td>null</td><td>null</td><td>null</td><td>null</td><td>null</td><td>&quot;AEEC&quot;</td><td>9.34</td><td>null</td><td>null</td><td>null</td><td>null</td><td>null</td><td>null</td><td>null</td><td>null</td><td>null</td><td>null</td><td>null</td><td>null</td><td>null</td><td>null</td><td>null</td><td>null</td><td>null</td><td>null</td><td>null</td><td>0.0</td><td>null</td><td>null</td><td>null</td><td>null</td></tr><tr><td>2023-05-02 00:00:00</td><td>1</td><td>2023-05-02 01:00:00</td><td>&quot;QGOLDN&quot;</td><td>&quot;AEEC_ELK_1&quot;</td><td>&quot;SCGT90&quot;</td><td>&quot;AEEC&quot;</td><td>0</td><td>&quot;GEN&quot;</td><td>null</td><td>null</td><td>null</td><td>null</td><td>null</td><td>&quot;AEEC&quot;</td><td>9.34</td><td>null</td><td>null</td><td>null</td><td>null</td><td>null</td><td>null</td><td>null</td><td>null</td><td>null</td><td>null</td><td>null</td><td>null</td><td>null</td><td>null</td><td>null</td><td>null</td><td>null</td><td>null</td><td>null</td><td>0.0</td><td>null</td><td>null</td><td>null</td><td>null</td></tr><tr><td>2023-05-02 00:00:00</td><td>1</td><td>2023-05-02 01:00:00</td><td>&quot;QGOLDN&quot;</td><td>&quot;AEEC_ELK_2&quot;</td><td>&quot;SCGT90&quot;</td><td>&quot;AEEC&quot;</td><td>0</td><td>&quot;GEN&quot;</td><td>5902.01</td><td>5902.01</td><td>5902.01</td><td>28.88</td><td>0.0</td><td>&quot;AEEC&quot;</td><td>9.34</td><td>null</td><td>null</td><td>null</td><td>null</td><td>null</td><td>null</td><td>null</td><td>null</td><td>null</td><td>null</td><td>null</td><td>null</td><td>null</td><td>null</td><td>null</td><td>null</td><td>null</td><td>null</td><td>null</td><td>0.0</td><td>null</td><td>null</td><td>null</td><td>null</td></tr></tbody></table></div>"
            ],
            "text/plain": [
              "shape: (5, 40)\n",
              "┌────────────┬────────────┬───────────┬────────┬───┬───────────┬───────────┬───────────┬───────────┐\n",
              "│ delivery_d ┆ hour_endin ┆ date_time ┆ gn_qse ┆ … ┆ ld_max_po ┆ ld_low_po ┆ ld_ecrsmd ┆ ld_ecrsmd │\n",
              "│ ate        ┆ g          ┆ ---       ┆ ---    ┆   ┆ wer_consu ┆ wer_consu ┆ _awarded  ┆ _revenue  │\n",
              "│ ---        ┆ ---        ┆ datetime[ ┆ str    ┆   ┆ mption_fo ┆ mption_fo ┆ ---       ┆ ---       │\n",
              "│ datetime[μ ┆ i32        ┆ μs]       ┆        ┆   ┆ r_l…      ┆ r_l…      ┆ f64       ┆ f64       │\n",
              "│ s]         ┆            ┆           ┆        ┆   ┆ ---       ┆ ---       ┆           ┆           │\n",
              "│            ┆            ┆           ┆        ┆   ┆ f64       ┆ f64       ┆           ┆           │\n",
              "╞════════════╪════════════╪═══════════╪════════╪═══╪═══════════╪═══════════╪═══════════╪═══════════╡\n",
              "│ 2023-05-02 ┆ 1          ┆ 2023-05-0 ┆ QGOLDN ┆ … ┆ null      ┆ null      ┆ null      ┆ null      │\n",
              "│ 00:00:00   ┆            ┆ 2         ┆        ┆   ┆           ┆           ┆           ┆           │\n",
              "│            ┆            ┆ 01:00:00  ┆        ┆   ┆           ┆           ┆           ┆           │\n",
              "│ 2023-05-02 ┆ 1          ┆ 2023-05-0 ┆ QGOLDN ┆ … ┆ null      ┆ null      ┆ null      ┆ null      │\n",
              "│ 00:00:00   ┆            ┆ 2         ┆        ┆   ┆           ┆           ┆           ┆           │\n",
              "│            ┆            ┆ 01:00:00  ┆        ┆   ┆           ┆           ┆           ┆           │\n",
              "│ 2023-05-02 ┆ 1          ┆ 2023-05-0 ┆ QGOLDN ┆ … ┆ null      ┆ null      ┆ null      ┆ null      │\n",
              "│ 00:00:00   ┆            ┆ 2         ┆        ┆   ┆           ┆           ┆           ┆           │\n",
              "│            ┆            ┆ 01:00:00  ┆        ┆   ┆           ┆           ┆           ┆           │\n",
              "│ 2023-05-02 ┆ 1          ┆ 2023-05-0 ┆ QGOLDN ┆ … ┆ null      ┆ null      ┆ null      ┆ null      │\n",
              "│ 00:00:00   ┆            ┆ 2         ┆        ┆   ┆           ┆           ┆           ┆           │\n",
              "│            ┆            ┆ 01:00:00  ┆        ┆   ┆           ┆           ┆           ┆           │\n",
              "│ 2023-05-02 ┆ 1          ┆ 2023-05-0 ┆ QGOLDN ┆ … ┆ null      ┆ null      ┆ null      ┆ null      │\n",
              "│ 00:00:00   ┆            ┆ 2         ┆        ┆   ┆           ┆           ┆           ┆           │\n",
              "│            ┆            ┆ 01:00:00  ┆        ┆   ┆           ┆           ┆           ┆           │\n",
              "└────────────┴────────────┴───────────┴────────┴───┴───────────┴───────────┴───────────┴───────────┘"
            ]
          },
          "execution_count": 120,
          "metadata": {},
          "output_type": "execute_result"
        }
      ],
      "source": [
        "dam_gen_2.head()"
      ]
    },
    {
      "cell_type": "code",
      "execution_count": null,
      "id": "20109282-b3d9-44ef-aa22-722942d996f7",
      "metadata": {
        "id": "20109282-b3d9-44ef-aa22-722942d996f7"
      },
      "outputs": [],
      "source": [
        "# assign order\n",
        "dam_load_2 = dam_load_2.select(desired_column_order)"
      ]
    },
    {
      "cell_type": "code",
      "execution_count": null,
      "id": "f3be00f5-f3cf-4d1e-9da4-2c49b3bb13b4",
      "metadata": {
        "id": "f3be00f5-f3cf-4d1e-9da4-2c49b3bb13b4"
      },
      "outputs": [],
      "source": [
        "# merge gen and load\n",
        "dam_gen_load_merged = dam_gen_2.vstack(dam_load_2)"
      ]
    },
    {
      "cell_type": "code",
      "execution_count": null,
      "id": "99c909c7-e464-4a62-8637-02534377d4d2",
      "metadata": {
        "id": "99c909c7-e464-4a62-8637-02534377d4d2",
        "outputId": "aac3ab77-4bd6-4c4d-eefd-75dbb1cf3288"
      },
      "outputs": [
        {
          "data": {
            "text/html": [
              "<div><style>\n",
              ".dataframe > thead > tr,\n",
              ".dataframe > tbody > tr {\n",
              "  text-align: right;\n",
              "  white-space: pre-wrap;\n",
              "}\n",
              "</style>\n",
              "<small>shape: (5, 40)</small><table border=\"1\" class=\"dataframe\"><thead><tr><th>delivery_date</th><th>hour_ending</th><th>date_time</th><th>gn_qse</th><th>resource_name</th><th>gn_resource_type</th><th>resource_prefix</th><th>isBESS</th><th>resource_function</th><th>gn_start_up_hot</th><th>gn_start_up_inter</th><th>gn_start_up_cold</th><th>gn_min_gen_cost</th><th>gn_awarded_quantity</th><th>gn_settlement_point_name</th><th>gn_energy_settlement_point_price</th><th>regup_awarded</th><th>regup_mcpc</th><th>regup_revenue</th><th>regdown_awarded</th><th>regdown_mcpc</th><th>regdown_revenue</th><th>rrspfr_awarded</th><th>rrsffr_awarded</th><th>rrsufr_awarded</th><th>rrs_mcpc</th><th>rrspfr_revenue</th><th>rrsffr_revenue</th><th>rrsufr_revenue</th><th>nonspin_awarded</th><th>nonspin_mcpc</th><th>nonspin_revenue</th><th>ecrssd_awarded</th><th>ecrs_mcpc</th><th>ecrssd_revenue</th><th>total_revenue</th><th>ld_max_power_consumption_for_load_resource</th><th>ld_low_power_consumption_for_load_resource</th><th>ld_ecrsmd_awarded</th><th>ld_ecrsmd_revenue</th></tr><tr><td>datetime[μs]</td><td>i32</td><td>datetime[μs]</td><td>str</td><td>str</td><td>str</td><td>str</td><td>i32</td><td>str</td><td>f64</td><td>f64</td><td>f64</td><td>f64</td><td>f64</td><td>str</td><td>f64</td><td>f64</td><td>f64</td><td>f64</td><td>f64</td><td>f64</td><td>f64</td><td>f64</td><td>f64</td><td>f64</td><td>f64</td><td>f64</td><td>f64</td><td>f64</td><td>f64</td><td>f64</td><td>f64</td><td>f64</td><td>f64</td><td>f64</td><td>f64</td><td>f64</td><td>f64</td><td>f64</td><td>f64</td></tr></thead><tbody><tr><td>2024-11-11 00:00:00</td><td>24</td><td>2024-11-12 00:00:00</td><td>null</td><td>&quot;WXOCF_LD3&quot;</td><td>null</td><td>&quot;WXOCF&quot;</td><td>0</td><td>&quot;LOAD&quot;</td><td>null</td><td>null</td><td>null</td><td>null</td><td>null</td><td>null</td><td>null</td><td>null</td><td>null</td><td>null</td><td>null</td><td>null</td><td>null</td><td>null</td><td>null</td><td>null</td><td>null</td><td>null</td><td>null</td><td>null</td><td>null</td><td>null</td><td>null</td><td>null</td><td>null</td><td>null</td><td>0.0</td><td>23.0</td><td>0.0</td><td>null</td><td>null</td></tr><tr><td>2024-11-11 00:00:00</td><td>24</td><td>2024-11-12 00:00:00</td><td>null</td><td>&quot;W_HARLIN_LD1&quot;</td><td>null</td><td>&quot;W&quot;</td><td>1</td><td>&quot;LOAD&quot;</td><td>null</td><td>null</td><td>null</td><td>null</td><td>null</td><td>null</td><td>null</td><td>null</td><td>null</td><td>null</td><td>null</td><td>null</td><td>null</td><td>null</td><td>null</td><td>null</td><td>null</td><td>null</td><td>null</td><td>null</td><td>null</td><td>null</td><td>null</td><td>null</td><td>null</td><td>null</td><td>0.0</td><td>2.0</td><td>0.0</td><td>null</td><td>null</td></tr><tr><td>2024-11-11 00:00:00</td><td>24</td><td>2024-11-12 00:00:00</td><td>null</td><td>&quot;X4_LD1&quot;</td><td>null</td><td>&quot;X4&quot;</td><td>1</td><td>&quot;LOAD&quot;</td><td>null</td><td>null</td><td>null</td><td>null</td><td>null</td><td>null</td><td>null</td><td>0.0</td><td>1.61</td><td>0.0</td><td>5.0</td><td>0.49</td><td>2.45</td><td>0.0</td><td>0.0</td><td>0.0</td><td>0.81</td><td>0.0</td><td>0.0</td><td>0.0</td><td>0.0</td><td>0.99</td><td>0.0</td><td>0.0</td><td>0.81</td><td>0.0</td><td>2.45</td><td>10.0</td><td>0.0</td><td>0.0</td><td>0.0</td></tr><tr><td>2024-11-11 00:00:00</td><td>24</td><td>2024-11-12 00:00:00</td><td>null</td><td>&quot;YATES_LD1&quot;</td><td>null</td><td>&quot;YATES&quot;</td><td>0</td><td>&quot;LOAD&quot;</td><td>null</td><td>null</td><td>null</td><td>null</td><td>null</td><td>null</td><td>null</td><td>null</td><td>null</td><td>null</td><td>null</td><td>null</td><td>null</td><td>null</td><td>null</td><td>null</td><td>null</td><td>null</td><td>null</td><td>null</td><td>null</td><td>null</td><td>null</td><td>null</td><td>null</td><td>null</td><td>0.0</td><td>5.1</td><td>0.0</td><td>null</td><td>null</td></tr><tr><td>2024-11-11 00:00:00</td><td>24</td><td>2024-11-12 00:00:00</td><td>null</td><td>&quot;ZIER_SLR_LD1&quot;</td><td>null</td><td>&quot;ZIER&quot;</td><td>1</td><td>&quot;LOAD&quot;</td><td>null</td><td>null</td><td>null</td><td>null</td><td>null</td><td>null</td><td>null</td><td>null</td><td>null</td><td>null</td><td>null</td><td>null</td><td>null</td><td>null</td><td>null</td><td>null</td><td>null</td><td>null</td><td>null</td><td>null</td><td>null</td><td>null</td><td>null</td><td>null</td><td>null</td><td>null</td><td>0.0</td><td>40.0</td><td>0.0</td><td>null</td><td>null</td></tr></tbody></table></div>"
            ],
            "text/plain": [
              "shape: (5, 40)\n",
              "┌────────────┬────────────┬───────────┬────────┬───┬───────────┬───────────┬───────────┬───────────┐\n",
              "│ delivery_d ┆ hour_endin ┆ date_time ┆ gn_qse ┆ … ┆ ld_max_po ┆ ld_low_po ┆ ld_ecrsmd ┆ ld_ecrsmd │\n",
              "│ ate        ┆ g          ┆ ---       ┆ ---    ┆   ┆ wer_consu ┆ wer_consu ┆ _awarded  ┆ _revenue  │\n",
              "│ ---        ┆ ---        ┆ datetime[ ┆ str    ┆   ┆ mption_fo ┆ mption_fo ┆ ---       ┆ ---       │\n",
              "│ datetime[μ ┆ i32        ┆ μs]       ┆        ┆   ┆ r_l…      ┆ r_l…      ┆ f64       ┆ f64       │\n",
              "│ s]         ┆            ┆           ┆        ┆   ┆ ---       ┆ ---       ┆           ┆           │\n",
              "│            ┆            ┆           ┆        ┆   ┆ f64       ┆ f64       ┆           ┆           │\n",
              "╞════════════╪════════════╪═══════════╪════════╪═══╪═══════════╪═══════════╪═══════════╪═══════════╡\n",
              "│ 2024-11-11 ┆ 24         ┆ 2024-11-1 ┆ null   ┆ … ┆ 23.0      ┆ 0.0       ┆ null      ┆ null      │\n",
              "│ 00:00:00   ┆            ┆ 2         ┆        ┆   ┆           ┆           ┆           ┆           │\n",
              "│            ┆            ┆ 00:00:00  ┆        ┆   ┆           ┆           ┆           ┆           │\n",
              "│ 2024-11-11 ┆ 24         ┆ 2024-11-1 ┆ null   ┆ … ┆ 2.0       ┆ 0.0       ┆ null      ┆ null      │\n",
              "│ 00:00:00   ┆            ┆ 2         ┆        ┆   ┆           ┆           ┆           ┆           │\n",
              "│            ┆            ┆ 00:00:00  ┆        ┆   ┆           ┆           ┆           ┆           │\n",
              "│ 2024-11-11 ┆ 24         ┆ 2024-11-1 ┆ null   ┆ … ┆ 10.0      ┆ 0.0       ┆ 0.0       ┆ 0.0       │\n",
              "│ 00:00:00   ┆            ┆ 2         ┆        ┆   ┆           ┆           ┆           ┆           │\n",
              "│            ┆            ┆ 00:00:00  ┆        ┆   ┆           ┆           ┆           ┆           │\n",
              "│ 2024-11-11 ┆ 24         ┆ 2024-11-1 ┆ null   ┆ … ┆ 5.1       ┆ 0.0       ┆ null      ┆ null      │\n",
              "│ 00:00:00   ┆            ┆ 2         ┆        ┆   ┆           ┆           ┆           ┆           │\n",
              "│            ┆            ┆ 00:00:00  ┆        ┆   ┆           ┆           ┆           ┆           │\n",
              "│ 2024-11-11 ┆ 24         ┆ 2024-11-1 ┆ null   ┆ … ┆ 40.0      ┆ 0.0       ┆ null      ┆ null      │\n",
              "│ 00:00:00   ┆            ┆ 2         ┆        ┆   ┆           ┆           ┆           ┆           │\n",
              "│            ┆            ┆ 00:00:00  ┆        ┆   ┆           ┆           ┆           ┆           │\n",
              "└────────────┴────────────┴───────────┴────────┴───┴───────────┴───────────┴───────────┴───────────┘"
            ]
          },
          "execution_count": 36,
          "metadata": {},
          "output_type": "execute_result"
        }
      ],
      "source": [
        "dam_gen_load_merged.tail()"
      ]
    },
    {
      "cell_type": "code",
      "execution_count": null,
      "id": "a68793f9-4585-4f8e-95f6-f9c2d8b89aac",
      "metadata": {
        "id": "a68793f9-4585-4f8e-95f6-f9c2d8b89aac",
        "outputId": "a8a0e9de-6284-4c86-843d-f6760b7e95de"
      },
      "outputs": [
        {
          "data": {
            "text/plain": [
              "(28284999, 40)"
            ]
          },
          "execution_count": 34,
          "metadata": {},
          "output_type": "execute_result"
        }
      ],
      "source": [
        "dam_gen_load_merged.shape"
      ]
    },
    {
      "cell_type": "code",
      "execution_count": null,
      "id": "0bcf4d52-52f1-4ed6-a7b6-2cf7c5967b26",
      "metadata": {
        "id": "0bcf4d52-52f1-4ed6-a7b6-2cf7c5967b26",
        "outputId": "01c1354a-82a3-4238-b8ad-20578d4ba2e1"
      },
      "outputs": [
        {
          "data": {
            "text/plain": [
              "(18873509, 40)"
            ]
          },
          "execution_count": 134,
          "metadata": {},
          "output_type": "execute_result"
        }
      ],
      "source": [
        "dam_gen_2.shape"
      ]
    },
    {
      "cell_type": "code",
      "execution_count": null,
      "id": "e2bda73d-d6c7-49dd-a42d-ee372a1c1179",
      "metadata": {
        "id": "e2bda73d-d6c7-49dd-a42d-ee372a1c1179",
        "outputId": "1d1dc329-912e-4d19-8865-a20ccfe4cb3f"
      },
      "outputs": [
        {
          "data": {
            "text/plain": [
              "(9411490, 40)"
            ]
          },
          "execution_count": 135,
          "metadata": {},
          "output_type": "execute_result"
        }
      ],
      "source": [
        "dam_load_2.shape"
      ]
    },
    {
      "cell_type": "code",
      "execution_count": null,
      "id": "0d19296f-80fa-46df-98af-94f67f4a4aaa",
      "metadata": {
        "id": "0d19296f-80fa-46df-98af-94f67f4a4aaa",
        "outputId": "fd6c0b56-c692-4957-c840-0d4348b536bb"
      },
      "outputs": [
        {
          "data": {
            "text/plain": [
              "28284999"
            ]
          },
          "execution_count": 136,
          "metadata": {},
          "output_type": "execute_result"
        }
      ],
      "source": [
        "18873509+9411490"
      ]
    },
    {
      "cell_type": "code",
      "execution_count": null,
      "id": "1a86c8d8-98e3-4325-add8-4e7f756729cd",
      "metadata": {
        "id": "1a86c8d8-98e3-4325-add8-4e7f756729cd"
      },
      "outputs": [],
      "source": [
        "# export file\n",
        "dam_gen_load_merged.write_csv(\"dam_gen_load_merged.csv\")"
      ]
    }
  ],
  "metadata": {
    "kernelspec": {
      "display_name": "Python 3 (ipykernel)",
      "language": "python",
      "name": "python3"
    },
    "language_info": {
      "codemirror_mode": {
        "name": "ipython",
        "version": 3
      },
      "file_extension": ".py",
      "mimetype": "text/x-python",
      "name": "python",
      "nbconvert_exporter": "python",
      "pygments_lexer": "ipython3",
      "version": "3.11.11"
    },
    "colab": {
      "provenance": []
    }
  },
  "nbformat": 4,
  "nbformat_minor": 5
}