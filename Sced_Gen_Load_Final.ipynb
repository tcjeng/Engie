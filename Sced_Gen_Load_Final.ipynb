{
  "cells": [
    {
      "cell_type": "code",
      "execution_count": null,
      "id": "98cc1ff9-4ae4-4d73-abc1-7b52c0b3e61b",
      "metadata": {
        "id": "98cc1ff9-4ae4-4d73-abc1-7b52c0b3e61b",
        "outputId": "cab510af-d37f-4a4d-ce9c-64995c77e0ae"
      },
      "outputs": [
        {
          "name": "stdout",
          "output_type": "stream",
          "text": [
            "Requirement already satisfied: polars in /opt/conda/lib/python3.11/site-packages (1.24.0)\n"
          ]
        }
      ],
      "source": [
        "! pip install polars"
      ]
    },
    {
      "cell_type": "code",
      "execution_count": null,
      "id": "f8911229-e965-47cb-a85f-64b2ac83dc07",
      "metadata": {
        "id": "f8911229-e965-47cb-a85f-64b2ac83dc07"
      },
      "outputs": [],
      "source": [
        "import polars as pl"
      ]
    },
    {
      "cell_type": "code",
      "execution_count": null,
      "id": "cea0765c-0c1a-4db2-8b19-f58bffdc0abb",
      "metadata": {
        "id": "cea0765c-0c1a-4db2-8b19-f58bffdc0abb"
      },
      "outputs": [],
      "source": [
        "from datetime import datetime, timedelta"
      ]
    },
    {
      "cell_type": "markdown",
      "id": "f42e81e6-0eec-4ab8-bc79-1395a53c7b32",
      "metadata": {
        "id": "f42e81e6-0eec-4ab8-bc79-1395a53c7b32"
      },
      "source": [
        "## SCED GEN"
      ]
    },
    {
      "cell_type": "code",
      "execution_count": null,
      "id": "9b0c6ab8-5456-4bb9-a9e8-1e4d9b065b6b",
      "metadata": {
        "id": "9b0c6ab8-5456-4bb9-a9e8-1e4d9b065b6b"
      },
      "outputs": [],
      "source": [
        "sced_gen_12=pl.read_parquet(\"s3://ercot-60d-reports/SCED 60 day reports/sced_gen_resource_data_60d/2024/1-2/sced_gen_resource_data_60d_1-2.parquet\")"
      ]
    },
    {
      "cell_type": "code",
      "execution_count": null,
      "id": "c6a07fb3-ba62-429f-808d-65726374cfa2",
      "metadata": {
        "id": "c6a07fb3-ba62-429f-808d-65726374cfa2"
      },
      "outputs": [],
      "source": [
        "sced_gen_34=pl.read_parquet(\"s3://ercot-60d-reports/SCED 60 day reports/sced_gen_resource_data_60d/2024/3-4/sced_gen_resource_data_60d_3-4.parquet\")"
      ]
    },
    {
      "cell_type": "code",
      "execution_count": null,
      "id": "338a480b-0d0a-40e9-b91f-9f270fbf49a2",
      "metadata": {
        "id": "338a480b-0d0a-40e9-b91f-9f270fbf49a2"
      },
      "outputs": [],
      "source": [
        "sced_gen_56=pl.read_parquet(\"s3://ercot-60d-reports/SCED 60 day reports/sced_gen_resource_data_60d/2024/5-6/sced_gen_resource_data_60d_5-6.parquet\")"
      ]
    },
    {
      "cell_type": "code",
      "execution_count": null,
      "id": "4ffb40e4-de7f-40bb-a256-5837c4f56c1f",
      "metadata": {
        "id": "4ffb40e4-de7f-40bb-a256-5837c4f56c1f"
      },
      "outputs": [],
      "source": [
        "sced_gen_78=pl.read_parquet(\"s3://ercot-60d-reports/SCED 60 day reports/sced_gen_resource_data_60d/2024/7-8/sced_gen_resource_data_60d_7-8.parquet\")"
      ]
    },
    {
      "cell_type": "code",
      "execution_count": null,
      "id": "e42fdabf-de9e-4ea2-861b-bc7a5104068a",
      "metadata": {
        "id": "e42fdabf-de9e-4ea2-861b-bc7a5104068a"
      },
      "outputs": [],
      "source": [
        "sced_gen_910=pl.read_parquet(\"s3://ercot-60d-reports/SCED 60 day reports/sced_gen_resource_data_60d/2024/9-10/sced_gen_resource_data_60d_9-10.parquet\")"
      ]
    },
    {
      "cell_type": "code",
      "execution_count": null,
      "id": "ef30b345-7df4-4eda-8da0-767aad8de099",
      "metadata": {
        "id": "ef30b345-7df4-4eda-8da0-767aad8de099"
      },
      "outputs": [],
      "source": [
        "sced_gen_1112=pl.read_parquet(\"s3://ercot-60d-reports/SCED 60 day reports/sced_gen_resource_data_60d/2024/11-12/sced_gen_resource_data_60d_11-12.parquet\")"
      ]
    },
    {
      "cell_type": "markdown",
      "id": "4ce77eb9-8e2e-45eb-90c4-2946b0fc9034",
      "metadata": {
        "id": "4ce77eb9-8e2e-45eb-90c4-2946b0fc9034"
      },
      "source": [
        "## Dropping all the sced_curve and submitted_tpo columns"
      ]
    },
    {
      "cell_type": "code",
      "execution_count": null,
      "id": "1fe64c8b-2564-4b9a-9f53-9030fa5ea3ae",
      "metadata": {
        "id": "1fe64c8b-2564-4b9a-9f53-9030fa5ea3ae"
      },
      "outputs": [],
      "source": [
        "def drop_unwanted_columns(df):\n",
        "    return df.drop([col for col in df.columns if col.startswith((\"sced2_curve_\", \"sced1_curve_\", \"submitted_tpo_\"))])"
      ]
    },
    {
      "cell_type": "code",
      "execution_count": null,
      "id": "01535415-adda-4f8d-91e9-e9fc1abbb3a5",
      "metadata": {
        "id": "01535415-adda-4f8d-91e9-e9fc1abbb3a5"
      },
      "outputs": [],
      "source": [
        "sced_gen_12 = drop_unwanted_columns(sced_gen_12)\n",
        "sced_gen_34 = drop_unwanted_columns(sced_gen_34)\n",
        "sced_gen_56 = drop_unwanted_columns(sced_gen_56)\n",
        "sced_gen_78 = drop_unwanted_columns(sced_gen_78)\n",
        "sced_gen_910 = drop_unwanted_columns(sced_gen_910)\n",
        "sced_gen_1112 = drop_unwanted_columns(sced_gen_1112)"
      ]
    },
    {
      "cell_type": "code",
      "execution_count": null,
      "id": "2d5f1fb8-5b7f-48cc-b79f-6bf977e3df0d",
      "metadata": {
        "id": "2d5f1fb8-5b7f-48cc-b79f-6bf977e3df0d",
        "outputId": "ad100673-f4a6-4a7c-c69f-8140cb79d839"
      },
      "outputs": [
        {
          "data": {
            "text/html": [
              "<div><style>\n",
              ".dataframe > thead > tr,\n",
              ".dataframe > tbody > tr {\n",
              "  text-align: right;\n",
              "  white-space: pre-wrap;\n",
              "}\n",
              "</style>\n",
              "<small>shape: (5, 28)</small><table border=\"1\" class=\"dataframe\"><thead><tr><th>sced_time_stamp</th><th>repeated_hour_flag</th><th>qse</th><th>dme</th><th>resource_name</th><th>resource_type</th><th>output_schedule</th><th>hsl</th><th>hasl</th><th>hdl</th><th>lsl</th><th>lasl</th><th>ldl</th><th>telemetered_resource_status</th><th>base_point</th><th>telemetered_net_output_</th><th>ancillary_service_regup</th><th>ancillary_service_regdn</th><th>ancillary_service_rrs</th><th>ancillary_service_rrsffr</th><th>ancillary_service_nsrs</th><th>ancillary_service_ecrs</th><th>bid_type</th><th>start_up_cold_offer</th><th>start_up_hot_offer</th><th>start_up_inter_offer</th><th>min_gen_cost</th><th>proxy_extension</th></tr><tr><td>datetime[ns]</td><td>str</td><td>str</td><td>str</td><td>str</td><td>str</td><td>f64</td><td>f64</td><td>f64</td><td>f64</td><td>f64</td><td>f64</td><td>f64</td><td>str</td><td>f64</td><td>f64</td><td>f64</td><td>f64</td><td>f64</td><td>f64</td><td>f64</td><td>f64</td><td>str</td><td>f64</td><td>f64</td><td>f64</td><td>f64</td><td>str</td></tr></thead><tbody><tr><td>2023-11-02 00:00:33</td><td>&quot;N&quot;</td><td>&quot;QSUE66&quot;</td><td>&quot;Y7VSOL&quot;</td><td>&quot;7RNCHSLR_UNIT1&quot;</td><td>&quot;PVGR&quot;</td><td>0.0</td><td>0.0</td><td>0.0</td><td>0.0</td><td>0.0</td><td>0.0</td><td>0.0</td><td>&quot;OUT&quot;</td><td>0.0</td><td>0.0</td><td>0.0</td><td>0.0</td><td>0.0</td><td>0.0</td><td>0.0</td><td>0.0</td><td>null</td><td>null</td><td>null</td><td>null</td><td>null</td><td>&quot;No&quot;</td></tr><tr><td>2023-11-02 00:00:33</td><td>&quot;N&quot;</td><td>&quot;QSUE66&quot;</td><td>&quot;Y7VSOL&quot;</td><td>&quot;7RNCHSLR_UNIT2&quot;</td><td>&quot;PVGR&quot;</td><td>0.0</td><td>0.0</td><td>0.0</td><td>0.0</td><td>0.0</td><td>0.0</td><td>0.0</td><td>&quot;OUT&quot;</td><td>0.0</td><td>0.0</td><td>0.0</td><td>0.0</td><td>0.0</td><td>0.0</td><td>0.0</td><td>0.0</td><td>null</td><td>null</td><td>null</td><td>null</td><td>null</td><td>&quot;No&quot;</td></tr><tr><td>2023-11-02 00:00:33</td><td>&quot;N&quot;</td><td>&quot;QSUE66&quot;</td><td>&quot;Y7VSOL&quot;</td><td>&quot;7RNCHSLR_UNIT3&quot;</td><td>&quot;PVGR&quot;</td><td>0.0</td><td>0.0</td><td>0.0</td><td>0.0</td><td>0.0</td><td>0.0</td><td>0.0</td><td>&quot;OUT&quot;</td><td>0.0</td><td>0.0</td><td>0.0</td><td>0.0</td><td>0.0</td><td>0.0</td><td>0.0</td><td>0.0</td><td>null</td><td>null</td><td>null</td><td>null</td><td>null</td><td>&quot;No&quot;</td></tr><tr><td>2023-11-02 00:00:33</td><td>&quot;N&quot;</td><td>&quot;QGOLDN&quot;</td><td>&quot;YGOLDE&quot;</td><td>&quot;AEEC_ANTLP_1&quot;</td><td>&quot;DSL&quot;</td><td>0.0</td><td>54.0</td><td>54.0</td><td>0.0</td><td>30.0</td><td>30.0</td><td>0.0</td><td>&quot;OFF&quot;</td><td>0.0</td><td>0.0</td><td>0.0</td><td>0.0</td><td>0.0</td><td>0.0</td><td>0.0</td><td>0.0</td><td>&quot;3PT&quot;</td><td>172.5</td><td>172.5</td><td>172.5</td><td>38.72</td><td>&quot;No&quot;</td></tr><tr><td>2023-11-02 00:00:33</td><td>&quot;N&quot;</td><td>&quot;QGOLDN&quot;</td><td>&quot;YGOLDE&quot;</td><td>&quot;AEEC_ANTLP_2&quot;</td><td>&quot;DSL&quot;</td><td>0.0</td><td>54.0</td><td>54.0</td><td>0.0</td><td>30.0</td><td>30.0</td><td>0.0</td><td>&quot;OFF&quot;</td><td>0.0</td><td>0.0</td><td>0.0</td><td>0.0</td><td>0.0</td><td>0.0</td><td>0.0</td><td>0.0</td><td>&quot;3PT&quot;</td><td>115.0</td><td>115.0</td><td>115.0</td><td>38.72</td><td>&quot;No&quot;</td></tr></tbody></table></div>"
            ],
            "text/plain": [
              "shape: (5, 28)\n",
              "┌────────────┬────────────┬────────┬────────┬───┬────────────┬────────────┬────────────┬───────────┐\n",
              "│ sced_time_ ┆ repeated_h ┆ qse    ┆ dme    ┆ … ┆ start_up_h ┆ start_up_i ┆ min_gen_co ┆ proxy_ext │\n",
              "│ stamp      ┆ our_flag   ┆ ---    ┆ ---    ┆   ┆ ot_offer   ┆ nter_offer ┆ st         ┆ ension    │\n",
              "│ ---        ┆ ---        ┆ str    ┆ str    ┆   ┆ ---        ┆ ---        ┆ ---        ┆ ---       │\n",
              "│ datetime[n ┆ str        ┆        ┆        ┆   ┆ f64        ┆ f64        ┆ f64        ┆ str       │\n",
              "│ s]         ┆            ┆        ┆        ┆   ┆            ┆            ┆            ┆           │\n",
              "╞════════════╪════════════╪════════╪════════╪═══╪════════════╪════════════╪════════════╪═══════════╡\n",
              "│ 2023-11-02 ┆ N          ┆ QSUE66 ┆ Y7VSOL ┆ … ┆ null       ┆ null       ┆ null       ┆ No        │\n",
              "│ 00:00:33   ┆            ┆        ┆        ┆   ┆            ┆            ┆            ┆           │\n",
              "│ 2023-11-02 ┆ N          ┆ QSUE66 ┆ Y7VSOL ┆ … ┆ null       ┆ null       ┆ null       ┆ No        │\n",
              "│ 00:00:33   ┆            ┆        ┆        ┆   ┆            ┆            ┆            ┆           │\n",
              "│ 2023-11-02 ┆ N          ┆ QSUE66 ┆ Y7VSOL ┆ … ┆ null       ┆ null       ┆ null       ┆ No        │\n",
              "│ 00:00:33   ┆            ┆        ┆        ┆   ┆            ┆            ┆            ┆           │\n",
              "│ 2023-11-02 ┆ N          ┆ QGOLDN ┆ YGOLDE ┆ … ┆ 172.5      ┆ 172.5      ┆ 38.72      ┆ No        │\n",
              "│ 00:00:33   ┆            ┆        ┆        ┆   ┆            ┆            ┆            ┆           │\n",
              "│ 2023-11-02 ┆ N          ┆ QGOLDN ┆ YGOLDE ┆ … ┆ 115.0      ┆ 115.0      ┆ 38.72      ┆ No        │\n",
              "│ 00:00:33   ┆            ┆        ┆        ┆   ┆            ┆            ┆            ┆           │\n",
              "└────────────┴────────────┴────────┴────────┴───┴────────────┴────────────┴────────────┴───────────┘"
            ]
          },
          "execution_count": 181,
          "metadata": {},
          "output_type": "execute_result"
        }
      ],
      "source": [
        "sced_gen_12.head()"
      ]
    },
    {
      "cell_type": "markdown",
      "id": "06dc3e4b-3b16-41bd-aea0-4dc4c6943624",
      "metadata": {
        "id": "06dc3e4b-3b16-41bd-aea0-4dc4c6943624"
      },
      "source": [
        "## Concatenating the SCED gen files into a single df"
      ]
    },
    {
      "cell_type": "code",
      "execution_count": null,
      "id": "a1cc8e85-3335-4fe7-b714-2a5ffc373ec8",
      "metadata": {
        "id": "a1cc8e85-3335-4fe7-b714-2a5ffc373ec8"
      },
      "outputs": [],
      "source": [
        "sced_gen = pl.concat([sced_gen_12, sced_gen_34, sced_gen_56, sced_gen_78, sced_gen_910, sced_gen_1112], how=\"vertical\")"
      ]
    },
    {
      "cell_type": "code",
      "execution_count": null,
      "id": "bb430a4a-b208-45d8-bde5-96c5324da3b9",
      "metadata": {
        "id": "bb430a4a-b208-45d8-bde5-96c5324da3b9",
        "outputId": "7c92c0dd-8489-4f01-a76e-24918885bd9a"
      },
      "outputs": [
        {
          "data": {
            "text/html": [
              "<div><style>\n",
              ".dataframe > thead > tr,\n",
              ".dataframe > tbody > tr {\n",
              "  text-align: right;\n",
              "  white-space: pre-wrap;\n",
              "}\n",
              "</style>\n",
              "<small>shape: (5, 28)</small><table border=\"1\" class=\"dataframe\"><thead><tr><th>sced_time_stamp</th><th>repeated_hour_flag</th><th>qse</th><th>dme</th><th>resource_name</th><th>resource_type</th><th>output_schedule</th><th>hsl</th><th>hasl</th><th>hdl</th><th>lsl</th><th>lasl</th><th>ldl</th><th>telemetered_resource_status</th><th>base_point</th><th>telemetered_net_output_</th><th>ancillary_service_regup</th><th>ancillary_service_regdn</th><th>ancillary_service_rrs</th><th>ancillary_service_rrsffr</th><th>ancillary_service_nsrs</th><th>ancillary_service_ecrs</th><th>bid_type</th><th>start_up_cold_offer</th><th>start_up_hot_offer</th><th>start_up_inter_offer</th><th>min_gen_cost</th><th>proxy_extension</th></tr><tr><td>datetime[ns]</td><td>str</td><td>str</td><td>str</td><td>str</td><td>str</td><td>f64</td><td>f64</td><td>f64</td><td>f64</td><td>f64</td><td>f64</td><td>f64</td><td>str</td><td>f64</td><td>f64</td><td>f64</td><td>f64</td><td>f64</td><td>f64</td><td>f64</td><td>f64</td><td>str</td><td>f64</td><td>f64</td><td>f64</td><td>f64</td><td>str</td></tr></thead><tbody><tr><td>2023-11-02 00:00:33</td><td>&quot;N&quot;</td><td>&quot;QSUE66&quot;</td><td>&quot;Y7VSOL&quot;</td><td>&quot;7RNCHSLR_UNIT1&quot;</td><td>&quot;PVGR&quot;</td><td>0.0</td><td>0.0</td><td>0.0</td><td>0.0</td><td>0.0</td><td>0.0</td><td>0.0</td><td>&quot;OUT&quot;</td><td>0.0</td><td>0.0</td><td>0.0</td><td>0.0</td><td>0.0</td><td>0.0</td><td>0.0</td><td>0.0</td><td>null</td><td>null</td><td>null</td><td>null</td><td>null</td><td>&quot;No&quot;</td></tr><tr><td>2023-11-02 00:00:33</td><td>&quot;N&quot;</td><td>&quot;QSUE66&quot;</td><td>&quot;Y7VSOL&quot;</td><td>&quot;7RNCHSLR_UNIT2&quot;</td><td>&quot;PVGR&quot;</td><td>0.0</td><td>0.0</td><td>0.0</td><td>0.0</td><td>0.0</td><td>0.0</td><td>0.0</td><td>&quot;OUT&quot;</td><td>0.0</td><td>0.0</td><td>0.0</td><td>0.0</td><td>0.0</td><td>0.0</td><td>0.0</td><td>0.0</td><td>null</td><td>null</td><td>null</td><td>null</td><td>null</td><td>&quot;No&quot;</td></tr><tr><td>2023-11-02 00:00:33</td><td>&quot;N&quot;</td><td>&quot;QSUE66&quot;</td><td>&quot;Y7VSOL&quot;</td><td>&quot;7RNCHSLR_UNIT3&quot;</td><td>&quot;PVGR&quot;</td><td>0.0</td><td>0.0</td><td>0.0</td><td>0.0</td><td>0.0</td><td>0.0</td><td>0.0</td><td>&quot;OUT&quot;</td><td>0.0</td><td>0.0</td><td>0.0</td><td>0.0</td><td>0.0</td><td>0.0</td><td>0.0</td><td>0.0</td><td>null</td><td>null</td><td>null</td><td>null</td><td>null</td><td>&quot;No&quot;</td></tr><tr><td>2023-11-02 00:00:33</td><td>&quot;N&quot;</td><td>&quot;QGOLDN&quot;</td><td>&quot;YGOLDE&quot;</td><td>&quot;AEEC_ANTLP_1&quot;</td><td>&quot;DSL&quot;</td><td>0.0</td><td>54.0</td><td>54.0</td><td>0.0</td><td>30.0</td><td>30.0</td><td>0.0</td><td>&quot;OFF&quot;</td><td>0.0</td><td>0.0</td><td>0.0</td><td>0.0</td><td>0.0</td><td>0.0</td><td>0.0</td><td>0.0</td><td>&quot;3PT&quot;</td><td>172.5</td><td>172.5</td><td>172.5</td><td>38.72</td><td>&quot;No&quot;</td></tr><tr><td>2023-11-02 00:00:33</td><td>&quot;N&quot;</td><td>&quot;QGOLDN&quot;</td><td>&quot;YGOLDE&quot;</td><td>&quot;AEEC_ANTLP_2&quot;</td><td>&quot;DSL&quot;</td><td>0.0</td><td>54.0</td><td>54.0</td><td>0.0</td><td>30.0</td><td>30.0</td><td>0.0</td><td>&quot;OFF&quot;</td><td>0.0</td><td>0.0</td><td>0.0</td><td>0.0</td><td>0.0</td><td>0.0</td><td>0.0</td><td>0.0</td><td>&quot;3PT&quot;</td><td>115.0</td><td>115.0</td><td>115.0</td><td>38.72</td><td>&quot;No&quot;</td></tr></tbody></table></div>"
            ],
            "text/plain": [
              "shape: (5, 28)\n",
              "┌────────────┬────────────┬────────┬────────┬───┬────────────┬────────────┬────────────┬───────────┐\n",
              "│ sced_time_ ┆ repeated_h ┆ qse    ┆ dme    ┆ … ┆ start_up_h ┆ start_up_i ┆ min_gen_co ┆ proxy_ext │\n",
              "│ stamp      ┆ our_flag   ┆ ---    ┆ ---    ┆   ┆ ot_offer   ┆ nter_offer ┆ st         ┆ ension    │\n",
              "│ ---        ┆ ---        ┆ str    ┆ str    ┆   ┆ ---        ┆ ---        ┆ ---        ┆ ---       │\n",
              "│ datetime[n ┆ str        ┆        ┆        ┆   ┆ f64        ┆ f64        ┆ f64        ┆ str       │\n",
              "│ s]         ┆            ┆        ┆        ┆   ┆            ┆            ┆            ┆           │\n",
              "╞════════════╪════════════╪════════╪════════╪═══╪════════════╪════════════╪════════════╪═══════════╡\n",
              "│ 2023-11-02 ┆ N          ┆ QSUE66 ┆ Y7VSOL ┆ … ┆ null       ┆ null       ┆ null       ┆ No        │\n",
              "│ 00:00:33   ┆            ┆        ┆        ┆   ┆            ┆            ┆            ┆           │\n",
              "│ 2023-11-02 ┆ N          ┆ QSUE66 ┆ Y7VSOL ┆ … ┆ null       ┆ null       ┆ null       ┆ No        │\n",
              "│ 00:00:33   ┆            ┆        ┆        ┆   ┆            ┆            ┆            ┆           │\n",
              "│ 2023-11-02 ┆ N          ┆ QSUE66 ┆ Y7VSOL ┆ … ┆ null       ┆ null       ┆ null       ┆ No        │\n",
              "│ 00:00:33   ┆            ┆        ┆        ┆   ┆            ┆            ┆            ┆           │\n",
              "│ 2023-11-02 ┆ N          ┆ QGOLDN ┆ YGOLDE ┆ … ┆ 172.5      ┆ 172.5      ┆ 38.72      ┆ No        │\n",
              "│ 00:00:33   ┆            ┆        ┆        ┆   ┆            ┆            ┆            ┆           │\n",
              "│ 2023-11-02 ┆ N          ┆ QGOLDN ┆ YGOLDE ┆ … ┆ 115.0      ┆ 115.0      ┆ 38.72      ┆ No        │\n",
              "│ 00:00:33   ┆            ┆        ┆        ┆   ┆            ┆            ┆            ┆           │\n",
              "└────────────┴────────────┴────────┴────────┴───┴────────────┴────────────┴────────────┴───────────┘"
            ]
          },
          "execution_count": 183,
          "metadata": {},
          "output_type": "execute_result"
        }
      ],
      "source": [
        "sced_gen.head()"
      ]
    },
    {
      "cell_type": "code",
      "execution_count": null,
      "id": "0b91dbb3-4507-43f5-8b2a-346d57fe7dcd",
      "metadata": {
        "id": "0b91dbb3-4507-43f5-8b2a-346d57fe7dcd"
      },
      "outputs": [],
      "source": [
        "# 1. extract name prefix into a column\n",
        "sced_gen = sced_gen.with_columns(\n",
        "    pl.col(\"resource_name\").str.split(\"_\").list.get(0).alias(\"resource_prefix\")\n",
        ")"
      ]
    },
    {
      "cell_type": "code",
      "execution_count": null,
      "id": "14794fdc-151d-4107-963b-2cffbada5109",
      "metadata": {
        "id": "14794fdc-151d-4107-963b-2cffbada5109"
      },
      "outputs": [],
      "source": [
        "# 2. add 'isBESS' dummy column\n",
        "sced_gen = sced_gen.with_columns(\n",
        "    (pl.when(pl.col(\"resource_type\") == \"PWRSTR\")\n",
        "     .then(1)\n",
        "     .otherwise(0))\n",
        "    .alias(\"isBESS\")\n",
        ")"
      ]
    },
    {
      "cell_type": "code",
      "execution_count": null,
      "id": "9071c4fc-5a98-4bca-b32a-b3652921383c",
      "metadata": {
        "id": "9071c4fc-5a98-4bca-b32a-b3652921383c",
        "outputId": "fe3cd1e6-0e09-4f98-8ceb-dec030fabfcc"
      },
      "outputs": [
        {
          "data": {
            "text/html": [
              "<div><style>\n",
              ".dataframe > thead > tr,\n",
              ".dataframe > tbody > tr {\n",
              "  text-align: right;\n",
              "  white-space: pre-wrap;\n",
              "}\n",
              "</style>\n",
              "<small>shape: (5, 30)</small><table border=\"1\" class=\"dataframe\"><thead><tr><th>sced_time_stamp</th><th>repeated_hour_flag</th><th>qse</th><th>dme</th><th>resource_name</th><th>resource_type</th><th>output_schedule</th><th>hsl</th><th>hasl</th><th>hdl</th><th>lsl</th><th>lasl</th><th>ldl</th><th>telemetered_resource_status</th><th>base_point</th><th>telemetered_net_output_</th><th>ancillary_service_regup</th><th>ancillary_service_regdn</th><th>ancillary_service_rrs</th><th>ancillary_service_rrsffr</th><th>ancillary_service_nsrs</th><th>ancillary_service_ecrs</th><th>bid_type</th><th>start_up_cold_offer</th><th>start_up_hot_offer</th><th>start_up_inter_offer</th><th>min_gen_cost</th><th>proxy_extension</th><th>resource_prefix</th><th>isBESS</th></tr><tr><td>datetime[ns]</td><td>str</td><td>str</td><td>str</td><td>str</td><td>str</td><td>f64</td><td>f64</td><td>f64</td><td>f64</td><td>f64</td><td>f64</td><td>f64</td><td>str</td><td>f64</td><td>f64</td><td>f64</td><td>f64</td><td>f64</td><td>f64</td><td>f64</td><td>f64</td><td>str</td><td>f64</td><td>f64</td><td>f64</td><td>f64</td><td>str</td><td>str</td><td>i32</td></tr></thead><tbody><tr><td>2023-11-02 00:00:33</td><td>&quot;N&quot;</td><td>&quot;QSUE66&quot;</td><td>&quot;Y7VSOL&quot;</td><td>&quot;7RNCHSLR_UNIT1&quot;</td><td>&quot;PVGR&quot;</td><td>0.0</td><td>0.0</td><td>0.0</td><td>0.0</td><td>0.0</td><td>0.0</td><td>0.0</td><td>&quot;OUT&quot;</td><td>0.0</td><td>0.0</td><td>0.0</td><td>0.0</td><td>0.0</td><td>0.0</td><td>0.0</td><td>0.0</td><td>null</td><td>null</td><td>null</td><td>null</td><td>null</td><td>&quot;No&quot;</td><td>&quot;7RNCHSLR&quot;</td><td>0</td></tr><tr><td>2023-11-02 00:00:33</td><td>&quot;N&quot;</td><td>&quot;QSUE66&quot;</td><td>&quot;Y7VSOL&quot;</td><td>&quot;7RNCHSLR_UNIT2&quot;</td><td>&quot;PVGR&quot;</td><td>0.0</td><td>0.0</td><td>0.0</td><td>0.0</td><td>0.0</td><td>0.0</td><td>0.0</td><td>&quot;OUT&quot;</td><td>0.0</td><td>0.0</td><td>0.0</td><td>0.0</td><td>0.0</td><td>0.0</td><td>0.0</td><td>0.0</td><td>null</td><td>null</td><td>null</td><td>null</td><td>null</td><td>&quot;No&quot;</td><td>&quot;7RNCHSLR&quot;</td><td>0</td></tr><tr><td>2023-11-02 00:00:33</td><td>&quot;N&quot;</td><td>&quot;QSUE66&quot;</td><td>&quot;Y7VSOL&quot;</td><td>&quot;7RNCHSLR_UNIT3&quot;</td><td>&quot;PVGR&quot;</td><td>0.0</td><td>0.0</td><td>0.0</td><td>0.0</td><td>0.0</td><td>0.0</td><td>0.0</td><td>&quot;OUT&quot;</td><td>0.0</td><td>0.0</td><td>0.0</td><td>0.0</td><td>0.0</td><td>0.0</td><td>0.0</td><td>0.0</td><td>null</td><td>null</td><td>null</td><td>null</td><td>null</td><td>&quot;No&quot;</td><td>&quot;7RNCHSLR&quot;</td><td>0</td></tr><tr><td>2023-11-02 00:00:33</td><td>&quot;N&quot;</td><td>&quot;QGOLDN&quot;</td><td>&quot;YGOLDE&quot;</td><td>&quot;AEEC_ANTLP_1&quot;</td><td>&quot;DSL&quot;</td><td>0.0</td><td>54.0</td><td>54.0</td><td>0.0</td><td>30.0</td><td>30.0</td><td>0.0</td><td>&quot;OFF&quot;</td><td>0.0</td><td>0.0</td><td>0.0</td><td>0.0</td><td>0.0</td><td>0.0</td><td>0.0</td><td>0.0</td><td>&quot;3PT&quot;</td><td>172.5</td><td>172.5</td><td>172.5</td><td>38.72</td><td>&quot;No&quot;</td><td>&quot;AEEC&quot;</td><td>0</td></tr><tr><td>2023-11-02 00:00:33</td><td>&quot;N&quot;</td><td>&quot;QGOLDN&quot;</td><td>&quot;YGOLDE&quot;</td><td>&quot;AEEC_ANTLP_2&quot;</td><td>&quot;DSL&quot;</td><td>0.0</td><td>54.0</td><td>54.0</td><td>0.0</td><td>30.0</td><td>30.0</td><td>0.0</td><td>&quot;OFF&quot;</td><td>0.0</td><td>0.0</td><td>0.0</td><td>0.0</td><td>0.0</td><td>0.0</td><td>0.0</td><td>0.0</td><td>&quot;3PT&quot;</td><td>115.0</td><td>115.0</td><td>115.0</td><td>38.72</td><td>&quot;No&quot;</td><td>&quot;AEEC&quot;</td><td>0</td></tr></tbody></table></div>"
            ],
            "text/plain": [
              "shape: (5, 30)\n",
              "┌─────────────┬─────────────┬────────┬────────┬───┬─────────────┬────────────┬────────────┬────────┐\n",
              "│ sced_time_s ┆ repeated_ho ┆ qse    ┆ dme    ┆ … ┆ min_gen_cos ┆ proxy_exte ┆ resource_p ┆ isBESS │\n",
              "│ tamp        ┆ ur_flag     ┆ ---    ┆ ---    ┆   ┆ t           ┆ nsion      ┆ refix      ┆ ---    │\n",
              "│ ---         ┆ ---         ┆ str    ┆ str    ┆   ┆ ---         ┆ ---        ┆ ---        ┆ i32    │\n",
              "│ datetime[ns ┆ str         ┆        ┆        ┆   ┆ f64         ┆ str        ┆ str        ┆        │\n",
              "│ ]           ┆             ┆        ┆        ┆   ┆             ┆            ┆            ┆        │\n",
              "╞═════════════╪═════════════╪════════╪════════╪═══╪═════════════╪════════════╪════════════╪════════╡\n",
              "│ 2023-11-02  ┆ N           ┆ QSUE66 ┆ Y7VSOL ┆ … ┆ null        ┆ No         ┆ 7RNCHSLR   ┆ 0      │\n",
              "│ 00:00:33    ┆             ┆        ┆        ┆   ┆             ┆            ┆            ┆        │\n",
              "│ 2023-11-02  ┆ N           ┆ QSUE66 ┆ Y7VSOL ┆ … ┆ null        ┆ No         ┆ 7RNCHSLR   ┆ 0      │\n",
              "│ 00:00:33    ┆             ┆        ┆        ┆   ┆             ┆            ┆            ┆        │\n",
              "│ 2023-11-02  ┆ N           ┆ QSUE66 ┆ Y7VSOL ┆ … ┆ null        ┆ No         ┆ 7RNCHSLR   ┆ 0      │\n",
              "│ 00:00:33    ┆             ┆        ┆        ┆   ┆             ┆            ┆            ┆        │\n",
              "│ 2023-11-02  ┆ N           ┆ QGOLDN ┆ YGOLDE ┆ … ┆ 38.72       ┆ No         ┆ AEEC       ┆ 0      │\n",
              "│ 00:00:33    ┆             ┆        ┆        ┆   ┆             ┆            ┆            ┆        │\n",
              "│ 2023-11-02  ┆ N           ┆ QGOLDN ┆ YGOLDE ┆ … ┆ 38.72       ┆ No         ┆ AEEC       ┆ 0      │\n",
              "│ 00:00:33    ┆             ┆        ┆        ┆   ┆             ┆            ┆            ┆        │\n",
              "└─────────────┴─────────────┴────────┴────────┴───┴─────────────┴────────────┴────────────┴────────┘"
            ]
          },
          "execution_count": 187,
          "metadata": {},
          "output_type": "execute_result"
        }
      ],
      "source": [
        "sced_gen.head()"
      ]
    },
    {
      "cell_type": "code",
      "execution_count": null,
      "id": "93b4ca94-9a7b-45b3-8a23-f6f76c73ac46",
      "metadata": {
        "id": "93b4ca94-9a7b-45b3-8a23-f6f76c73ac46",
        "outputId": "75ccbfc6-5423-4e20-f1e3-4c9dca28cce3"
      },
      "outputs": [
        {
          "data": {
            "text/html": [
              "<div><style>\n",
              ".dataframe > thead > tr,\n",
              ".dataframe > tbody > tr {\n",
              "  text-align: right;\n",
              "  white-space: pre-wrap;\n",
              "}\n",
              "</style>\n",
              "<small>shape: (5, 30)</small><table border=\"1\" class=\"dataframe\"><thead><tr><th>sced_time_stamp</th><th>repeated_hour_flag</th><th>qse</th><th>dme</th><th>resource_name</th><th>resource_type</th><th>output_schedule</th><th>hsl</th><th>hasl</th><th>hdl</th><th>lsl</th><th>lasl</th><th>ldl</th><th>telemetered_resource_status</th><th>base_point</th><th>telemetered_net_output_</th><th>ancillary_service_regup</th><th>ancillary_service_regdn</th><th>ancillary_service_rrs</th><th>ancillary_service_rrsffr</th><th>ancillary_service_nsrs</th><th>ancillary_service_ecrs</th><th>bid_type</th><th>start_up_cold_offer</th><th>start_up_hot_offer</th><th>start_up_inter_offer</th><th>min_gen_cost</th><th>proxy_extension</th><th>resource_prefix</th><th>isBESS</th></tr><tr><td>datetime[ns]</td><td>str</td><td>str</td><td>str</td><td>str</td><td>str</td><td>f64</td><td>f64</td><td>f64</td><td>f64</td><td>f64</td><td>f64</td><td>f64</td><td>str</td><td>f64</td><td>f64</td><td>f64</td><td>f64</td><td>f64</td><td>f64</td><td>f64</td><td>f64</td><td>str</td><td>f64</td><td>f64</td><td>f64</td><td>f64</td><td>str</td><td>str</td><td>i32</td></tr></thead><tbody><tr><td>2023-11-02 00:00:33</td><td>&quot;N&quot;</td><td>&quot;QBRD11&quot;</td><td>&quot;YBRPIN&quot;</td><td>&quot;ALVIN_UNIT1&quot;</td><td>&quot;PWRSTR&quot;</td><td>0.0</td><td>9.9</td><td>2.9</td><td>2.9</td><td>0.0</td><td>0.0</td><td>0.0</td><td>&quot;ONREG&quot;</td><td>0.0</td><td>0.229</td><td>4.0</td><td>0.0</td><td>3.0</td><td>0.0</td><td>0.0</td><td>0.0</td><td>&quot;3PT&quot;</td><td>0.0</td><td>0.0</td><td>0.0</td><td>0.0</td><td>&quot;No&quot;</td><td>&quot;ALVIN&quot;</td><td>1</td></tr><tr><td>2023-11-02 00:00:33</td><td>&quot;N&quot;</td><td>&quot;QENE11&quot;</td><td>&quot;YENELT&quot;</td><td>&quot;ANCHOR_BESS1&quot;</td><td>&quot;PWRSTR&quot;</td><td>0.0</td><td>33.8</td><td>33.799999</td><td>33.799999</td><td>0.0</td><td>0.0</td><td>0.0</td><td>&quot;OUT&quot;</td><td>0.0</td><td>0.01176</td><td>0.0</td><td>0.0</td><td>0.0</td><td>0.0</td><td>0.0</td><td>0.0</td><td>null</td><td>null</td><td>null</td><td>null</td><td>null</td><td>&quot;No&quot;</td><td>&quot;ANCHOR&quot;</td><td>1</td></tr><tr><td>2023-11-02 00:00:33</td><td>&quot;N&quot;</td><td>&quot;QENE11&quot;</td><td>&quot;YENELT&quot;</td><td>&quot;ANCHOR_BESS2&quot;</td><td>&quot;PWRSTR&quot;</td><td>0.0</td><td>9.3</td><td>9.3</td><td>9.3</td><td>0.0</td><td>0.0</td><td>0.0</td><td>&quot;OUT&quot;</td><td>0.0</td><td>0.0</td><td>0.0</td><td>0.0</td><td>0.0</td><td>0.0</td><td>0.0</td><td>0.0</td><td>null</td><td>null</td><td>null</td><td>null</td><td>null</td><td>&quot;No&quot;</td><td>&quot;ANCHOR&quot;</td><td>1</td></tr><tr><td>2023-11-02 00:00:33</td><td>&quot;N&quot;</td><td>&quot;QBRD11&quot;</td><td>&quot;YBRPIN&quot;</td><td>&quot;ANGLETON_UNIT1&quot;</td><td>&quot;PWRSTR&quot;</td><td>0.0</td><td>9.9</td><td>2.9</td><td>2.9</td><td>0.0</td><td>0.0</td><td>0.0</td><td>&quot;ONFFRRRS&quot;</td><td>0.0</td><td>0.221</td><td>4.0</td><td>0.0</td><td>3.0</td><td>0.0</td><td>0.0</td><td>0.0</td><td>&quot;3PT&quot;</td><td>0.0</td><td>0.0</td><td>0.0</td><td>0.0</td><td>&quot;No&quot;</td><td>&quot;ANGLETON&quot;</td><td>1</td></tr><tr><td>2023-11-02 00:00:33</td><td>&quot;N&quot;</td><td>&quot;QENEL6&quot;</td><td>&quot;YENELT&quot;</td><td>&quot;AZURE_BESS1&quot;</td><td>&quot;PWRSTR&quot;</td><td>0.0</td><td>77.6</td><td>77.599998</td><td>77.599998</td><td>0.0</td><td>0.0</td><td>0.0</td><td>&quot;ON&quot;</td><td>0.0</td><td>0.87026</td><td>0.0</td><td>0.0</td><td>0.0</td><td>0.0</td><td>0.0</td><td>0.0</td><td>&quot;3PT&quot;</td><td>0.0</td><td>0.0</td><td>0.0</td><td>0.0</td><td>&quot;No&quot;</td><td>&quot;AZURE&quot;</td><td>1</td></tr></tbody></table></div>"
            ],
            "text/plain": [
              "shape: (5, 30)\n",
              "┌─────────────┬─────────────┬────────┬────────┬───┬─────────────┬────────────┬────────────┬────────┐\n",
              "│ sced_time_s ┆ repeated_ho ┆ qse    ┆ dme    ┆ … ┆ min_gen_cos ┆ proxy_exte ┆ resource_p ┆ isBESS │\n",
              "│ tamp        ┆ ur_flag     ┆ ---    ┆ ---    ┆   ┆ t           ┆ nsion      ┆ refix      ┆ ---    │\n",
              "│ ---         ┆ ---         ┆ str    ┆ str    ┆   ┆ ---         ┆ ---        ┆ ---        ┆ i32    │\n",
              "│ datetime[ns ┆ str         ┆        ┆        ┆   ┆ f64         ┆ str        ┆ str        ┆        │\n",
              "│ ]           ┆             ┆        ┆        ┆   ┆             ┆            ┆            ┆        │\n",
              "╞═════════════╪═════════════╪════════╪════════╪═══╪═════════════╪════════════╪════════════╪════════╡\n",
              "│ 2023-11-02  ┆ N           ┆ QBRD11 ┆ YBRPIN ┆ … ┆ 0.0         ┆ No         ┆ ALVIN      ┆ 1      │\n",
              "│ 00:00:33    ┆             ┆        ┆        ┆   ┆             ┆            ┆            ┆        │\n",
              "│ 2023-11-02  ┆ N           ┆ QENE11 ┆ YENELT ┆ … ┆ null        ┆ No         ┆ ANCHOR     ┆ 1      │\n",
              "│ 00:00:33    ┆             ┆        ┆        ┆   ┆             ┆            ┆            ┆        │\n",
              "│ 2023-11-02  ┆ N           ┆ QENE11 ┆ YENELT ┆ … ┆ null        ┆ No         ┆ ANCHOR     ┆ 1      │\n",
              "│ 00:00:33    ┆             ┆        ┆        ┆   ┆             ┆            ┆            ┆        │\n",
              "│ 2023-11-02  ┆ N           ┆ QBRD11 ┆ YBRPIN ┆ … ┆ 0.0         ┆ No         ┆ ANGLETON   ┆ 1      │\n",
              "│ 00:00:33    ┆             ┆        ┆        ┆   ┆             ┆            ┆            ┆        │\n",
              "│ 2023-11-02  ┆ N           ┆ QENEL6 ┆ YENELT ┆ … ┆ 0.0         ┆ No         ┆ AZURE      ┆ 1      │\n",
              "│ 00:00:33    ┆             ┆        ┆        ┆   ┆             ┆            ┆            ┆        │\n",
              "└─────────────┴─────────────┴────────┴────────┴───┴─────────────┴────────────┴────────────┴────────┘"
            ]
          },
          "execution_count": 189,
          "metadata": {},
          "output_type": "execute_result"
        }
      ],
      "source": [
        "# check column values\n",
        "sced_gen.filter(pl.col('resource_type') == 'PWRSTR').head()"
      ]
    },
    {
      "cell_type": "code",
      "execution_count": null,
      "id": "80209ba1-ac4c-41c2-adef-369ab810c3dd",
      "metadata": {
        "id": "80209ba1-ac4c-41c2-adef-369ab810c3dd"
      },
      "outputs": [],
      "source": [
        "# adjusting sced_time_stamp\n",
        "def process_sced_data(df: pl.DataFrame) -> pl.DataFrame:\n",
        "    df = df.with_columns([\n",
        "        # Adjust 'sced_time_stamp' to datetime\n",
        "        pl.col(\"sced_time_stamp\").cast(pl.Datetime).alias(\"sced_time_stamp\"),\n",
        "\n",
        "        # Extract delivery_date from the timestamp\n",
        "        pl.col(\"sced_time_stamp\").dt.date().alias(\"delivery_date\"),\n",
        "\n",
        "        # Create hour_ending (hour + 1)\n",
        "        (pl.col(\"sced_time_stamp\").dt.hour() + 1).alias(\"hour_ending\")\n",
        "    ])\n",
        "\n",
        "    # Adjust delivery_date for 00:00:00\n",
        "    df = df.with_columns([\n",
        "        pl.when(pl.col(\"sced_time_stamp\").dt.time() == pl.time(0, 0, 0))\n",
        "          .then(pl.col(\"delivery_date\") - pl.duration(days=1))\n",
        "          .otherwise(pl.col(\"delivery_date\"))\n",
        "          .alias(\"delivery_date\"),\n",
        "\n",
        "    # Adjust hour_ending for 00:00:00\n",
        "        pl.when(pl.col(\"sced_time_stamp\").dt.time() == pl.time(0, 0, 0))\n",
        "          .then(24)\n",
        "          .otherwise(pl.col(\"hour_ending\"))\n",
        "          .alias(\"hour_ending\")])\n",
        "\n",
        "    # Adjust hour_ending for HH:00:00\n",
        "    times_to_adjust = [f\"{h:02d}:00:00\" for h in range(1, 24)]\n",
        "\n",
        "    df = df.with_columns(\n",
        "        pl.when(\n",
        "            pl.col(\"sced_time_stamp\").dt.strftime(\"%H:%M:%S\").is_in(times_to_adjust))\n",
        "        .then(pl.col(\"hour_ending\") - 1)\n",
        "        .otherwise(pl.col(\"hour_ending\"))\n",
        "        .alias(\"hour_ending\"))\n",
        "\n",
        "    return df"
      ]
    },
    {
      "cell_type": "code",
      "execution_count": null,
      "id": "f1b0f15b-0008-470a-8683-6832ce4133f6",
      "metadata": {
        "id": "f1b0f15b-0008-470a-8683-6832ce4133f6"
      },
      "outputs": [],
      "source": [
        "sced_gen = process_sced_data(sced_gen)"
      ]
    },
    {
      "cell_type": "code",
      "execution_count": null,
      "id": "1c7e33c9-7e19-472d-9014-1ea9991a572b",
      "metadata": {
        "id": "1c7e33c9-7e19-472d-9014-1ea9991a572b",
        "outputId": "48b6f5bd-6888-43b1-dcfb-011faafbb3a4"
      },
      "outputs": [
        {
          "data": {
            "text/html": [
              "<div><style>\n",
              ".dataframe > thead > tr,\n",
              ".dataframe > tbody > tr {\n",
              "  text-align: right;\n",
              "  white-space: pre-wrap;\n",
              "}\n",
              "</style>\n",
              "<small>shape: (5, 32)</small><table border=\"1\" class=\"dataframe\"><thead><tr><th>sced_time_stamp</th><th>repeated_hour_flag</th><th>qse</th><th>dme</th><th>resource_name</th><th>resource_type</th><th>output_schedule</th><th>hsl</th><th>hasl</th><th>hdl</th><th>lsl</th><th>lasl</th><th>ldl</th><th>telemetered_resource_status</th><th>base_point</th><th>telemetered_net_output_</th><th>ancillary_service_regup</th><th>ancillary_service_regdn</th><th>ancillary_service_rrs</th><th>ancillary_service_rrsffr</th><th>ancillary_service_nsrs</th><th>ancillary_service_ecrs</th><th>bid_type</th><th>start_up_cold_offer</th><th>start_up_hot_offer</th><th>start_up_inter_offer</th><th>min_gen_cost</th><th>proxy_extension</th><th>resource_prefix</th><th>isBESS</th><th>delivery_date</th><th>hour_ending</th></tr><tr><td>datetime[μs]</td><td>str</td><td>str</td><td>str</td><td>str</td><td>str</td><td>f64</td><td>f64</td><td>f64</td><td>f64</td><td>f64</td><td>f64</td><td>f64</td><td>str</td><td>f64</td><td>f64</td><td>f64</td><td>f64</td><td>f64</td><td>f64</td><td>f64</td><td>f64</td><td>str</td><td>f64</td><td>f64</td><td>f64</td><td>f64</td><td>str</td><td>str</td><td>i32</td><td>date</td><td>i8</td></tr></thead><tbody><tr><td>2023-11-02 00:00:33</td><td>&quot;N&quot;</td><td>&quot;QSUE66&quot;</td><td>&quot;Y7VSOL&quot;</td><td>&quot;7RNCHSLR_UNIT1&quot;</td><td>&quot;PVGR&quot;</td><td>0.0</td><td>0.0</td><td>0.0</td><td>0.0</td><td>0.0</td><td>0.0</td><td>0.0</td><td>&quot;OUT&quot;</td><td>0.0</td><td>0.0</td><td>0.0</td><td>0.0</td><td>0.0</td><td>0.0</td><td>0.0</td><td>0.0</td><td>null</td><td>null</td><td>null</td><td>null</td><td>null</td><td>&quot;No&quot;</td><td>&quot;7RNCHSLR&quot;</td><td>0</td><td>2023-11-02</td><td>1</td></tr><tr><td>2023-11-02 00:00:33</td><td>&quot;N&quot;</td><td>&quot;QSUE66&quot;</td><td>&quot;Y7VSOL&quot;</td><td>&quot;7RNCHSLR_UNIT2&quot;</td><td>&quot;PVGR&quot;</td><td>0.0</td><td>0.0</td><td>0.0</td><td>0.0</td><td>0.0</td><td>0.0</td><td>0.0</td><td>&quot;OUT&quot;</td><td>0.0</td><td>0.0</td><td>0.0</td><td>0.0</td><td>0.0</td><td>0.0</td><td>0.0</td><td>0.0</td><td>null</td><td>null</td><td>null</td><td>null</td><td>null</td><td>&quot;No&quot;</td><td>&quot;7RNCHSLR&quot;</td><td>0</td><td>2023-11-02</td><td>1</td></tr><tr><td>2023-11-02 00:00:33</td><td>&quot;N&quot;</td><td>&quot;QSUE66&quot;</td><td>&quot;Y7VSOL&quot;</td><td>&quot;7RNCHSLR_UNIT3&quot;</td><td>&quot;PVGR&quot;</td><td>0.0</td><td>0.0</td><td>0.0</td><td>0.0</td><td>0.0</td><td>0.0</td><td>0.0</td><td>&quot;OUT&quot;</td><td>0.0</td><td>0.0</td><td>0.0</td><td>0.0</td><td>0.0</td><td>0.0</td><td>0.0</td><td>0.0</td><td>null</td><td>null</td><td>null</td><td>null</td><td>null</td><td>&quot;No&quot;</td><td>&quot;7RNCHSLR&quot;</td><td>0</td><td>2023-11-02</td><td>1</td></tr><tr><td>2023-11-02 00:00:33</td><td>&quot;N&quot;</td><td>&quot;QGOLDN&quot;</td><td>&quot;YGOLDE&quot;</td><td>&quot;AEEC_ANTLP_1&quot;</td><td>&quot;DSL&quot;</td><td>0.0</td><td>54.0</td><td>54.0</td><td>0.0</td><td>30.0</td><td>30.0</td><td>0.0</td><td>&quot;OFF&quot;</td><td>0.0</td><td>0.0</td><td>0.0</td><td>0.0</td><td>0.0</td><td>0.0</td><td>0.0</td><td>0.0</td><td>&quot;3PT&quot;</td><td>172.5</td><td>172.5</td><td>172.5</td><td>38.72</td><td>&quot;No&quot;</td><td>&quot;AEEC&quot;</td><td>0</td><td>2023-11-02</td><td>1</td></tr><tr><td>2023-11-02 00:00:33</td><td>&quot;N&quot;</td><td>&quot;QGOLDN&quot;</td><td>&quot;YGOLDE&quot;</td><td>&quot;AEEC_ANTLP_2&quot;</td><td>&quot;DSL&quot;</td><td>0.0</td><td>54.0</td><td>54.0</td><td>0.0</td><td>30.0</td><td>30.0</td><td>0.0</td><td>&quot;OFF&quot;</td><td>0.0</td><td>0.0</td><td>0.0</td><td>0.0</td><td>0.0</td><td>0.0</td><td>0.0</td><td>0.0</td><td>&quot;3PT&quot;</td><td>115.0</td><td>115.0</td><td>115.0</td><td>38.72</td><td>&quot;No&quot;</td><td>&quot;AEEC&quot;</td><td>0</td><td>2023-11-02</td><td>1</td></tr></tbody></table></div>"
            ],
            "text/plain": [
              "shape: (5, 32)\n",
              "┌─────────────┬─────────────┬────────┬────────┬───┬─────────────┬────────┬────────────┬────────────┐\n",
              "│ sced_time_s ┆ repeated_ho ┆ qse    ┆ dme    ┆ … ┆ resource_pr ┆ isBESS ┆ delivery_d ┆ hour_endin │\n",
              "│ tamp        ┆ ur_flag     ┆ ---    ┆ ---    ┆   ┆ efix        ┆ ---    ┆ ate        ┆ g          │\n",
              "│ ---         ┆ ---         ┆ str    ┆ str    ┆   ┆ ---         ┆ i32    ┆ ---        ┆ ---        │\n",
              "│ datetime[μs ┆ str         ┆        ┆        ┆   ┆ str         ┆        ┆ date       ┆ i8         │\n",
              "│ ]           ┆             ┆        ┆        ┆   ┆             ┆        ┆            ┆            │\n",
              "╞═════════════╪═════════════╪════════╪════════╪═══╪═════════════╪════════╪════════════╪════════════╡\n",
              "│ 2023-11-02  ┆ N           ┆ QSUE66 ┆ Y7VSOL ┆ … ┆ 7RNCHSLR    ┆ 0      ┆ 2023-11-02 ┆ 1          │\n",
              "│ 00:00:33    ┆             ┆        ┆        ┆   ┆             ┆        ┆            ┆            │\n",
              "│ 2023-11-02  ┆ N           ┆ QSUE66 ┆ Y7VSOL ┆ … ┆ 7RNCHSLR    ┆ 0      ┆ 2023-11-02 ┆ 1          │\n",
              "│ 00:00:33    ┆             ┆        ┆        ┆   ┆             ┆        ┆            ┆            │\n",
              "│ 2023-11-02  ┆ N           ┆ QSUE66 ┆ Y7VSOL ┆ … ┆ 7RNCHSLR    ┆ 0      ┆ 2023-11-02 ┆ 1          │\n",
              "│ 00:00:33    ┆             ┆        ┆        ┆   ┆             ┆        ┆            ┆            │\n",
              "│ 2023-11-02  ┆ N           ┆ QGOLDN ┆ YGOLDE ┆ … ┆ AEEC        ┆ 0      ┆ 2023-11-02 ┆ 1          │\n",
              "│ 00:00:33    ┆             ┆        ┆        ┆   ┆             ┆        ┆            ┆            │\n",
              "│ 2023-11-02  ┆ N           ┆ QGOLDN ┆ YGOLDE ┆ … ┆ AEEC        ┆ 0      ┆ 2023-11-02 ┆ 1          │\n",
              "│ 00:00:33    ┆             ┆        ┆        ┆   ┆             ┆        ┆            ┆            │\n",
              "└─────────────┴─────────────┴────────┴────────┴───┴─────────────┴────────┴────────────┴────────────┘"
            ]
          },
          "execution_count": 192,
          "metadata": {},
          "output_type": "execute_result"
        }
      ],
      "source": [
        "sced_gen.head()"
      ]
    },
    {
      "cell_type": "code",
      "execution_count": null,
      "id": "a9b78c30-5ef4-4a42-bc12-46e619a681c1",
      "metadata": {
        "id": "a9b78c30-5ef4-4a42-bc12-46e619a681c1",
        "outputId": "0cbe4b33-2a6a-4684-cf2e-617e80aaea57"
      },
      "outputs": [
        {
          "data": {
            "text/html": [
              "<div><style>\n",
              ".dataframe > thead > tr,\n",
              ".dataframe > tbody > tr {\n",
              "  text-align: right;\n",
              "  white-space: pre-wrap;\n",
              "}\n",
              "</style>\n",
              "<small>shape: (5, 14)</small><table border=\"1\" class=\"dataframe\"><thead><tr><th>qse</th><th>resource_name</th><th>resource_type</th><th>base_point</th><th>ancillary_service_regup</th><th>ancillary_service_regdn</th><th>ancillary_service_rrs</th><th>ancillary_service_rrsffr</th><th>ancillary_service_nsrs</th><th>ancillary_service_ecrs</th><th>resource_prefix</th><th>isBESS</th><th>delivery_date</th><th>hour_ending</th></tr><tr><td>str</td><td>str</td><td>str</td><td>f64</td><td>f64</td><td>f64</td><td>f64</td><td>f64</td><td>f64</td><td>f64</td><td>str</td><td>i32</td><td>date</td><td>i8</td></tr></thead><tbody><tr><td>&quot;QSUE66&quot;</td><td>&quot;7RNCHSLR_UNIT1&quot;</td><td>&quot;PVGR&quot;</td><td>0.0</td><td>0.0</td><td>0.0</td><td>0.0</td><td>0.0</td><td>0.0</td><td>0.0</td><td>&quot;7RNCHSLR&quot;</td><td>0</td><td>2023-11-02</td><td>1</td></tr><tr><td>&quot;QSUE66&quot;</td><td>&quot;7RNCHSLR_UNIT2&quot;</td><td>&quot;PVGR&quot;</td><td>0.0</td><td>0.0</td><td>0.0</td><td>0.0</td><td>0.0</td><td>0.0</td><td>0.0</td><td>&quot;7RNCHSLR&quot;</td><td>0</td><td>2023-11-02</td><td>1</td></tr><tr><td>&quot;QSUE66&quot;</td><td>&quot;7RNCHSLR_UNIT3&quot;</td><td>&quot;PVGR&quot;</td><td>0.0</td><td>0.0</td><td>0.0</td><td>0.0</td><td>0.0</td><td>0.0</td><td>0.0</td><td>&quot;7RNCHSLR&quot;</td><td>0</td><td>2023-11-02</td><td>1</td></tr><tr><td>&quot;QGOLDN&quot;</td><td>&quot;AEEC_ANTLP_1&quot;</td><td>&quot;DSL&quot;</td><td>0.0</td><td>0.0</td><td>0.0</td><td>0.0</td><td>0.0</td><td>0.0</td><td>0.0</td><td>&quot;AEEC&quot;</td><td>0</td><td>2023-11-02</td><td>1</td></tr><tr><td>&quot;QGOLDN&quot;</td><td>&quot;AEEC_ANTLP_2&quot;</td><td>&quot;DSL&quot;</td><td>0.0</td><td>0.0</td><td>0.0</td><td>0.0</td><td>0.0</td><td>0.0</td><td>0.0</td><td>&quot;AEEC&quot;</td><td>0</td><td>2023-11-02</td><td>1</td></tr></tbody></table></div>"
            ],
            "text/plain": [
              "shape: (5, 14)\n",
              "┌────────┬────────────┬────────────┬────────────┬───┬────────────┬────────┬────────────┬───────────┐\n",
              "│ qse    ┆ resource_n ┆ resource_t ┆ base_point ┆ … ┆ resource_p ┆ isBESS ┆ delivery_d ┆ hour_endi │\n",
              "│ ---    ┆ ame        ┆ ype        ┆ ---        ┆   ┆ refix      ┆ ---    ┆ ate        ┆ ng        │\n",
              "│ str    ┆ ---        ┆ ---        ┆ f64        ┆   ┆ ---        ┆ i32    ┆ ---        ┆ ---       │\n",
              "│        ┆ str        ┆ str        ┆            ┆   ┆ str        ┆        ┆ date       ┆ i8        │\n",
              "╞════════╪════════════╪════════════╪════════════╪═══╪════════════╪════════╪════════════╪═══════════╡\n",
              "│ QSUE66 ┆ 7RNCHSLR_U ┆ PVGR       ┆ 0.0        ┆ … ┆ 7RNCHSLR   ┆ 0      ┆ 2023-11-02 ┆ 1         │\n",
              "│        ┆ NIT1       ┆            ┆            ┆   ┆            ┆        ┆            ┆           │\n",
              "│ QSUE66 ┆ 7RNCHSLR_U ┆ PVGR       ┆ 0.0        ┆ … ┆ 7RNCHSLR   ┆ 0      ┆ 2023-11-02 ┆ 1         │\n",
              "│        ┆ NIT2       ┆            ┆            ┆   ┆            ┆        ┆            ┆           │\n",
              "│ QSUE66 ┆ 7RNCHSLR_U ┆ PVGR       ┆ 0.0        ┆ … ┆ 7RNCHSLR   ┆ 0      ┆ 2023-11-02 ┆ 1         │\n",
              "│        ┆ NIT3       ┆            ┆            ┆   ┆            ┆        ┆            ┆           │\n",
              "│ QGOLDN ┆ AEEC_ANTLP ┆ DSL        ┆ 0.0        ┆ … ┆ AEEC       ┆ 0      ┆ 2023-11-02 ┆ 1         │\n",
              "│        ┆ _1         ┆            ┆            ┆   ┆            ┆        ┆            ┆           │\n",
              "│ QGOLDN ┆ AEEC_ANTLP ┆ DSL        ┆ 0.0        ┆ … ┆ AEEC       ┆ 0      ┆ 2023-11-02 ┆ 1         │\n",
              "│        ┆ _2         ┆            ┆            ┆   ┆            ┆        ┆            ┆           │\n",
              "└────────┴────────────┴────────────┴────────────┴───┴────────────┴────────┴────────────┴───────────┘"
            ]
          },
          "execution_count": 193,
          "metadata": {},
          "output_type": "execute_result"
        }
      ],
      "source": [
        "sced_gen = sced_gen.drop([\"sced_time_stamp\", \"dme\", \"output_schedule\", \"repeated_hour_flag\", \"hsl\", \"hasl\", \"hdl\", \"lsl\", \"lasl\", \"ldl\",\n",
        "                         \"telemetered_resource_status\", \"telemetered_net_output_\", \"bid_type\", \"start_up_cold_offer\",\n",
        "                         \"start_up_hot_offer\", \"start_up_inter_offer\", \"min_gen_cost\", \"proxy_extension\"])\n",
        "sced_gen.head()"
      ]
    },
    {
      "cell_type": "code",
      "execution_count": null,
      "id": "304eef67-aca8-412f-a846-d237610481b6",
      "metadata": {
        "id": "304eef67-aca8-412f-a846-d237610481b6"
      },
      "outputs": [],
      "source": [
        "# 3. adjsut timestamp format\n",
        "# Convert the 'date' column to datetime (already in YYYY-MM-DD format, so no need for a specific format)\n",
        "sced_gen = sced_gen.with_columns(\n",
        "    pl.col('delivery_date').cast(pl.Datetime).alias('delivery_date')\n",
        ")\n",
        "\n",
        "# Add duration\n",
        "sced_gen = sced_gen.with_columns(\n",
        "    (pl.col('delivery_date') + pl.duration(hours=pl.col('hour_ending'))).alias('date_time')\n",
        ")\n",
        "\n",
        "# Format the date_time column as '%m/%d/%Y %H:%M'\n",
        "sced_gen = sced_gen.with_columns(\n",
        "    pl.col('date_time').dt.strftime('%m/%d/%Y %H:%M').alias('date_time')\n",
        ")\n",
        "\n",
        "# Fix: Convert date_time to datetime format\n",
        "sced_gen = sced_gen.with_columns(\n",
        "    pl.col('date_time').str.to_datetime(\"%m/%d/%Y %H:%M\", strict=False)\n",
        ")"
      ]
    },
    {
      "cell_type": "code",
      "execution_count": null,
      "id": "9a72a85e-5597-412c-8260-e738118f11cd",
      "metadata": {
        "id": "9a72a85e-5597-412c-8260-e738118f11cd",
        "outputId": "0bc995c0-7760-4183-a763-e38d04a5c283"
      },
      "outputs": [
        {
          "data": {
            "text/html": [
              "<div><style>\n",
              ".dataframe > thead > tr,\n",
              ".dataframe > tbody > tr {\n",
              "  text-align: right;\n",
              "  white-space: pre-wrap;\n",
              "}\n",
              "</style>\n",
              "<small>shape: (5, 15)</small><table border=\"1\" class=\"dataframe\"><thead><tr><th>qse</th><th>resource_name</th><th>resource_type</th><th>base_point</th><th>ancillary_service_regup</th><th>ancillary_service_regdn</th><th>ancillary_service_rrs</th><th>ancillary_service_rrsffr</th><th>ancillary_service_nsrs</th><th>ancillary_service_ecrs</th><th>resource_prefix</th><th>isBESS</th><th>delivery_date</th><th>hour_ending</th><th>date_time</th></tr><tr><td>str</td><td>str</td><td>str</td><td>f64</td><td>f64</td><td>f64</td><td>f64</td><td>f64</td><td>f64</td><td>f64</td><td>str</td><td>i32</td><td>datetime[μs]</td><td>i8</td><td>datetime[μs]</td></tr></thead><tbody><tr><td>&quot;QSUE66&quot;</td><td>&quot;7RNCHSLR_UNIT1&quot;</td><td>&quot;PVGR&quot;</td><td>0.0</td><td>0.0</td><td>0.0</td><td>0.0</td><td>0.0</td><td>0.0</td><td>0.0</td><td>&quot;7RNCHSLR&quot;</td><td>0</td><td>2023-11-02 00:00:00</td><td>1</td><td>2023-11-02 01:00:00</td></tr><tr><td>&quot;QSUE66&quot;</td><td>&quot;7RNCHSLR_UNIT2&quot;</td><td>&quot;PVGR&quot;</td><td>0.0</td><td>0.0</td><td>0.0</td><td>0.0</td><td>0.0</td><td>0.0</td><td>0.0</td><td>&quot;7RNCHSLR&quot;</td><td>0</td><td>2023-11-02 00:00:00</td><td>1</td><td>2023-11-02 01:00:00</td></tr><tr><td>&quot;QSUE66&quot;</td><td>&quot;7RNCHSLR_UNIT3&quot;</td><td>&quot;PVGR&quot;</td><td>0.0</td><td>0.0</td><td>0.0</td><td>0.0</td><td>0.0</td><td>0.0</td><td>0.0</td><td>&quot;7RNCHSLR&quot;</td><td>0</td><td>2023-11-02 00:00:00</td><td>1</td><td>2023-11-02 01:00:00</td></tr><tr><td>&quot;QGOLDN&quot;</td><td>&quot;AEEC_ANTLP_1&quot;</td><td>&quot;DSL&quot;</td><td>0.0</td><td>0.0</td><td>0.0</td><td>0.0</td><td>0.0</td><td>0.0</td><td>0.0</td><td>&quot;AEEC&quot;</td><td>0</td><td>2023-11-02 00:00:00</td><td>1</td><td>2023-11-02 01:00:00</td></tr><tr><td>&quot;QGOLDN&quot;</td><td>&quot;AEEC_ANTLP_2&quot;</td><td>&quot;DSL&quot;</td><td>0.0</td><td>0.0</td><td>0.0</td><td>0.0</td><td>0.0</td><td>0.0</td><td>0.0</td><td>&quot;AEEC&quot;</td><td>0</td><td>2023-11-02 00:00:00</td><td>1</td><td>2023-11-02 01:00:00</td></tr></tbody></table></div>"
            ],
            "text/plain": [
              "shape: (5, 15)\n",
              "┌────────┬────────────┬────────────┬────────────┬───┬────────┬────────────┬────────────┬───────────┐\n",
              "│ qse    ┆ resource_n ┆ resource_t ┆ base_point ┆ … ┆ isBESS ┆ delivery_d ┆ hour_endin ┆ date_time │\n",
              "│ ---    ┆ ame        ┆ ype        ┆ ---        ┆   ┆ ---    ┆ ate        ┆ g          ┆ ---       │\n",
              "│ str    ┆ ---        ┆ ---        ┆ f64        ┆   ┆ i32    ┆ ---        ┆ ---        ┆ datetime[ │\n",
              "│        ┆ str        ┆ str        ┆            ┆   ┆        ┆ datetime[μ ┆ i8         ┆ μs]       │\n",
              "│        ┆            ┆            ┆            ┆   ┆        ┆ s]         ┆            ┆           │\n",
              "╞════════╪════════════╪════════════╪════════════╪═══╪════════╪════════════╪════════════╪═══════════╡\n",
              "│ QSUE66 ┆ 7RNCHSLR_U ┆ PVGR       ┆ 0.0        ┆ … ┆ 0      ┆ 2023-11-02 ┆ 1          ┆ 2023-11-0 │\n",
              "│        ┆ NIT1       ┆            ┆            ┆   ┆        ┆ 00:00:00   ┆            ┆ 2         │\n",
              "│        ┆            ┆            ┆            ┆   ┆        ┆            ┆            ┆ 01:00:00  │\n",
              "│ QSUE66 ┆ 7RNCHSLR_U ┆ PVGR       ┆ 0.0        ┆ … ┆ 0      ┆ 2023-11-02 ┆ 1          ┆ 2023-11-0 │\n",
              "│        ┆ NIT2       ┆            ┆            ┆   ┆        ┆ 00:00:00   ┆            ┆ 2         │\n",
              "│        ┆            ┆            ┆            ┆   ┆        ┆            ┆            ┆ 01:00:00  │\n",
              "│ QSUE66 ┆ 7RNCHSLR_U ┆ PVGR       ┆ 0.0        ┆ … ┆ 0      ┆ 2023-11-02 ┆ 1          ┆ 2023-11-0 │\n",
              "│        ┆ NIT3       ┆            ┆            ┆   ┆        ┆ 00:00:00   ┆            ┆ 2         │\n",
              "│        ┆            ┆            ┆            ┆   ┆        ┆            ┆            ┆ 01:00:00  │\n",
              "│ QGOLDN ┆ AEEC_ANTLP ┆ DSL        ┆ 0.0        ┆ … ┆ 0      ┆ 2023-11-02 ┆ 1          ┆ 2023-11-0 │\n",
              "│        ┆ _1         ┆            ┆            ┆   ┆        ┆ 00:00:00   ┆            ┆ 2         │\n",
              "│        ┆            ┆            ┆            ┆   ┆        ┆            ┆            ┆ 01:00:00  │\n",
              "│ QGOLDN ┆ AEEC_ANTLP ┆ DSL        ┆ 0.0        ┆ … ┆ 0      ┆ 2023-11-02 ┆ 1          ┆ 2023-11-0 │\n",
              "│        ┆ _2         ┆            ┆            ┆   ┆        ┆ 00:00:00   ┆            ┆ 2         │\n",
              "│        ┆            ┆            ┆            ┆   ┆        ┆            ┆            ┆ 01:00:00  │\n",
              "└────────┴────────────┴────────────┴────────────┴───┴────────┴────────────┴────────────┴───────────┘"
            ]
          },
          "execution_count": 195,
          "metadata": {},
          "output_type": "execute_result"
        }
      ],
      "source": [
        "sced_gen.head()"
      ]
    },
    {
      "cell_type": "code",
      "execution_count": null,
      "id": "cd8ecc71-9db0-48e1-aff9-31f7d259f4d7",
      "metadata": {
        "id": "cd8ecc71-9db0-48e1-aff9-31f7d259f4d7"
      },
      "outputs": [],
      "source": [
        "column_order1 = [\"date_time\", \"resource_name\", \"resource_type\", \"resource_prefix\", \"isBESS\"]\n",
        "column_order2 = [col for col in sced_gen.columns if col not in column_order1]\n",
        "column_order = column_order1 + column_order2\n",
        "# Reorder the DataFrame\n",
        "sced_gen = sced_gen.select(column_order)"
      ]
    },
    {
      "cell_type": "code",
      "execution_count": null,
      "id": "43c4aaae-520c-4453-9123-4e0362ec12f5",
      "metadata": {
        "id": "43c4aaae-520c-4453-9123-4e0362ec12f5",
        "outputId": "9a402acf-be35-4003-ecee-7b406b891ce8"
      },
      "outputs": [
        {
          "data": {
            "text/html": [
              "<div><style>\n",
              ".dataframe > thead > tr,\n",
              ".dataframe > tbody > tr {\n",
              "  text-align: right;\n",
              "  white-space: pre-wrap;\n",
              "}\n",
              "</style>\n",
              "<small>shape: (5, 12)</small><table border=\"1\" class=\"dataframe\"><thead><tr><th>date_time</th><th>resource_name</th><th>resource_type</th><th>resource_prefix</th><th>isBESS</th><th>base_point</th><th>ancillary_service_regup</th><th>ancillary_service_regdn</th><th>ancillary_service_rrs</th><th>ancillary_service_rrsffr</th><th>ancillary_service_nsrs</th><th>ancillary_service_ecrs</th></tr><tr><td>datetime[μs]</td><td>str</td><td>str</td><td>str</td><td>i32</td><td>f64</td><td>f64</td><td>f64</td><td>f64</td><td>f64</td><td>f64</td><td>f64</td></tr></thead><tbody><tr><td>2023-11-02 01:00:00</td><td>&quot;7RNCHSLR_UNIT1&quot;</td><td>&quot;PVGR&quot;</td><td>&quot;7RNCHSLR&quot;</td><td>0</td><td>0.0</td><td>0.0</td><td>0.0</td><td>0.0</td><td>0.0</td><td>0.0</td><td>0.0</td></tr><tr><td>2023-11-02 01:00:00</td><td>&quot;7RNCHSLR_UNIT2&quot;</td><td>&quot;PVGR&quot;</td><td>&quot;7RNCHSLR&quot;</td><td>0</td><td>0.0</td><td>0.0</td><td>0.0</td><td>0.0</td><td>0.0</td><td>0.0</td><td>0.0</td></tr><tr><td>2023-11-02 01:00:00</td><td>&quot;7RNCHSLR_UNIT3&quot;</td><td>&quot;PVGR&quot;</td><td>&quot;7RNCHSLR&quot;</td><td>0</td><td>0.0</td><td>0.0</td><td>0.0</td><td>0.0</td><td>0.0</td><td>0.0</td><td>0.0</td></tr><tr><td>2023-11-02 01:00:00</td><td>&quot;AEEC_ANTLP_1&quot;</td><td>&quot;DSL&quot;</td><td>&quot;AEEC&quot;</td><td>0</td><td>0.0</td><td>0.0</td><td>0.0</td><td>0.0</td><td>0.0</td><td>0.0</td><td>0.0</td></tr><tr><td>2023-11-02 01:00:00</td><td>&quot;AEEC_ANTLP_2&quot;</td><td>&quot;DSL&quot;</td><td>&quot;AEEC&quot;</td><td>0</td><td>0.0</td><td>0.0</td><td>0.0</td><td>0.0</td><td>0.0</td><td>0.0</td><td>0.0</td></tr></tbody></table></div>"
            ],
            "text/plain": [
              "shape: (5, 12)\n",
              "┌───────────┬───────────┬───────────┬───────────┬───┬───────────┬───────────┬───────────┬──────────┐\n",
              "│ date_time ┆ resource_ ┆ resource_ ┆ resource_ ┆ … ┆ ancillary ┆ ancillary ┆ ancillary ┆ ancillar │\n",
              "│ ---       ┆ name      ┆ type      ┆ prefix    ┆   ┆ _service_ ┆ _service_ ┆ _service_ ┆ y_servic │\n",
              "│ datetime[ ┆ ---       ┆ ---       ┆ ---       ┆   ┆ rrs       ┆ rrsffr    ┆ nsrs      ┆ e_ecrs   │\n",
              "│ μs]       ┆ str       ┆ str       ┆ str       ┆   ┆ ---       ┆ ---       ┆ ---       ┆ ---      │\n",
              "│           ┆           ┆           ┆           ┆   ┆ f64       ┆ f64       ┆ f64       ┆ f64      │\n",
              "╞═══════════╪═══════════╪═══════════╪═══════════╪═══╪═══════════╪═══════════╪═══════════╪══════════╡\n",
              "│ 2023-11-0 ┆ 7RNCHSLR_ ┆ PVGR      ┆ 7RNCHSLR  ┆ … ┆ 0.0       ┆ 0.0       ┆ 0.0       ┆ 0.0      │\n",
              "│ 2         ┆ UNIT1     ┆           ┆           ┆   ┆           ┆           ┆           ┆          │\n",
              "│ 01:00:00  ┆           ┆           ┆           ┆   ┆           ┆           ┆           ┆          │\n",
              "│ 2023-11-0 ┆ 7RNCHSLR_ ┆ PVGR      ┆ 7RNCHSLR  ┆ … ┆ 0.0       ┆ 0.0       ┆ 0.0       ┆ 0.0      │\n",
              "│ 2         ┆ UNIT2     ┆           ┆           ┆   ┆           ┆           ┆           ┆          │\n",
              "│ 01:00:00  ┆           ┆           ┆           ┆   ┆           ┆           ┆           ┆          │\n",
              "│ 2023-11-0 ┆ 7RNCHSLR_ ┆ PVGR      ┆ 7RNCHSLR  ┆ … ┆ 0.0       ┆ 0.0       ┆ 0.0       ┆ 0.0      │\n",
              "│ 2         ┆ UNIT3     ┆           ┆           ┆   ┆           ┆           ┆           ┆          │\n",
              "│ 01:00:00  ┆           ┆           ┆           ┆   ┆           ┆           ┆           ┆          │\n",
              "│ 2023-11-0 ┆ AEEC_ANTL ┆ DSL       ┆ AEEC      ┆ … ┆ 0.0       ┆ 0.0       ┆ 0.0       ┆ 0.0      │\n",
              "│ 2         ┆ P_1       ┆           ┆           ┆   ┆           ┆           ┆           ┆          │\n",
              "│ 01:00:00  ┆           ┆           ┆           ┆   ┆           ┆           ┆           ┆          │\n",
              "│ 2023-11-0 ┆ AEEC_ANTL ┆ DSL       ┆ AEEC      ┆ … ┆ 0.0       ┆ 0.0       ┆ 0.0       ┆ 0.0      │\n",
              "│ 2         ┆ P_2       ┆           ┆           ┆   ┆           ┆           ┆           ┆          │\n",
              "│ 01:00:00  ┆           ┆           ┆           ┆   ┆           ┆           ┆           ┆          │\n",
              "└───────────┴───────────┴───────────┴───────────┴───┴───────────┴───────────┴───────────┴──────────┘"
            ]
          },
          "execution_count": 197,
          "metadata": {},
          "output_type": "execute_result"
        }
      ],
      "source": [
        "sced_gen = sced_gen.drop([\"qse\", \"delivery_date\", \"hour_ending\"])\n",
        "sced_gen.head()"
      ]
    },
    {
      "cell_type": "code",
      "execution_count": null,
      "id": "a64212ae-8369-40d2-9dbb-666879e72ff1",
      "metadata": {
        "id": "a64212ae-8369-40d2-9dbb-666879e72ff1",
        "outputId": "5d3374e1-3de8-46c7-812c-c29e8c5d8225"
      },
      "outputs": [
        {
          "data": {
            "text/plain": [
              "39343320"
            ]
          },
          "execution_count": 198,
          "metadata": {},
          "output_type": "execute_result"
        }
      ],
      "source": [
        "sced_gen.height"
      ]
    },
    {
      "cell_type": "code",
      "execution_count": null,
      "id": "1fcb7cec-2df4-4e56-b7a3-ab8f657800d0",
      "metadata": {
        "id": "1fcb7cec-2df4-4e56-b7a3-ab8f657800d0"
      },
      "outputs": [],
      "source": [
        "# aggregate columns\n",
        "def aggregate_sced(df: pl.DataFrame) -> pl.DataFrame:\n",
        "    curve_cols = [col for col in df.columns if col.startswith('ancillary_service_')]\n",
        "\n",
        "    # Create aggregation expressions:\n",
        "    # - Calculate the mean for each ancillary_service_ column\n",
        "    # - Calculate the sum for 'base_point'\n",
        "    agg_exprs = [pl.col(col).sum().alias(col) for col in curve_cols]\n",
        "    agg_exprs.append(pl.col('base_point').sum().alias('base_point'))\n",
        "\n",
        "    # Group by the composite primary keys and perform the aggregation\n",
        "    return df.group_by(['date_time', 'resource_name', 'resource_type', 'resource_prefix', 'isBESS']).agg(agg_exprs)"
      ]
    },
    {
      "cell_type": "code",
      "execution_count": null,
      "id": "0b4d8222-efb6-4532-a2b4-279a229245f7",
      "metadata": {
        "id": "0b4d8222-efb6-4532-a2b4-279a229245f7"
      },
      "outputs": [],
      "source": [
        "sced_gen = aggregate_sced(sced_gen)"
      ]
    },
    {
      "cell_type": "code",
      "execution_count": null,
      "id": "8166ad6d-d6e7-4e04-aafe-82e9e8ac875b",
      "metadata": {
        "id": "8166ad6d-d6e7-4e04-aafe-82e9e8ac875b"
      },
      "outputs": [],
      "source": [
        "sced_gen = sced_gen.sort([\"date_time\"])"
      ]
    },
    {
      "cell_type": "code",
      "execution_count": null,
      "id": "218330ef-b475-418a-9e13-39b439ad2d13",
      "metadata": {
        "id": "218330ef-b475-418a-9e13-39b439ad2d13",
        "outputId": "79a87eae-68da-42ed-aaa5-104d0d7f07ff"
      },
      "outputs": [
        {
          "data": {
            "text/html": [
              "<div><style>\n",
              ".dataframe > thead > tr,\n",
              ".dataframe > tbody > tr {\n",
              "  text-align: right;\n",
              "  white-space: pre-wrap;\n",
              "}\n",
              "</style>\n",
              "<small>shape: (5, 12)</small><table border=\"1\" class=\"dataframe\"><thead><tr><th>date_time</th><th>resource_name</th><th>resource_type</th><th>resource_prefix</th><th>isBESS</th><th>ancillary_service_regup</th><th>ancillary_service_regdn</th><th>ancillary_service_rrs</th><th>ancillary_service_rrsffr</th><th>ancillary_service_nsrs</th><th>ancillary_service_ecrs</th><th>base_point</th></tr><tr><td>datetime[μs]</td><td>str</td><td>str</td><td>str</td><td>i32</td><td>f64</td><td>f64</td><td>f64</td><td>f64</td><td>f64</td><td>f64</td><td>f64</td></tr></thead><tbody><tr><td>2023-11-02 01:00:00</td><td>&quot;BRAUNIG_VHB6CT5&quot;</td><td>&quot;SCLE90&quot;</td><td>&quot;BRAUNIG&quot;</td><td>0</td><td>0.0</td><td>0.0</td><td>0.0</td><td>0.0</td><td>0.0</td><td>0.0</td><td>0.0</td></tr><tr><td>2023-11-02 01:00:00</td><td>&quot;PRSPERO2_UNIT1&quot;</td><td>&quot;PVGR&quot;</td><td>&quot;PRSPERO2&quot;</td><td>0</td><td>0.0</td><td>0.0</td><td>0.0</td><td>0.0</td><td>0.0</td><td>0.0</td><td>0.0</td></tr><tr><td>2023-11-02 01:00:00</td><td>&quot;RAYBURN_CC1_1&quot;</td><td>&quot;CCLE90&quot;</td><td>&quot;RAYBURN&quot;</td><td>0</td><td>0.0</td><td>0.0</td><td>0.0</td><td>0.0</td><td>0.0</td><td>0.0</td><td>0.0</td></tr><tr><td>2023-11-02 01:00:00</td><td>&quot;BOSQUESW_CC1_1&quot;</td><td>&quot;CCGT90&quot;</td><td>&quot;BOSQUESW&quot;</td><td>0</td><td>0.0</td><td>0.0</td><td>0.0</td><td>0.0</td><td>0.0</td><td>0.0</td><td>0.0</td></tr><tr><td>2023-11-02 01:00:00</td><td>&quot;W_HARLIN_BESS&quot;</td><td>&quot;PWRSTR&quot;</td><td>&quot;W&quot;</td><td>1</td><td>0.0</td><td>0.0</td><td>0.0</td><td>0.0</td><td>0.0</td><td>0.0</td><td>0.0</td></tr></tbody></table></div>"
            ],
            "text/plain": [
              "shape: (5, 12)\n",
              "┌───────────┬───────────┬───────────┬───────────┬───┬───────────┬───────────┬───────────┬──────────┐\n",
              "│ date_time ┆ resource_ ┆ resource_ ┆ resource_ ┆ … ┆ ancillary ┆ ancillary ┆ ancillary ┆ base_poi │\n",
              "│ ---       ┆ name      ┆ type      ┆ prefix    ┆   ┆ _service_ ┆ _service_ ┆ _service_ ┆ nt       │\n",
              "│ datetime[ ┆ ---       ┆ ---       ┆ ---       ┆   ┆ rrsffr    ┆ nsrs      ┆ ecrs      ┆ ---      │\n",
              "│ μs]       ┆ str       ┆ str       ┆ str       ┆   ┆ ---       ┆ ---       ┆ ---       ┆ f64      │\n",
              "│           ┆           ┆           ┆           ┆   ┆ f64       ┆ f64       ┆ f64       ┆          │\n",
              "╞═══════════╪═══════════╪═══════════╪═══════════╪═══╪═══════════╪═══════════╪═══════════╪══════════╡\n",
              "│ 2023-11-0 ┆ BRAUNIG_V ┆ SCLE90    ┆ BRAUNIG   ┆ … ┆ 0.0       ┆ 0.0       ┆ 0.0       ┆ 0.0      │\n",
              "│ 2         ┆ HB6CT5    ┆           ┆           ┆   ┆           ┆           ┆           ┆          │\n",
              "│ 01:00:00  ┆           ┆           ┆           ┆   ┆           ┆           ┆           ┆          │\n",
              "│ 2023-11-0 ┆ PRSPERO2_ ┆ PVGR      ┆ PRSPERO2  ┆ … ┆ 0.0       ┆ 0.0       ┆ 0.0       ┆ 0.0      │\n",
              "│ 2         ┆ UNIT1     ┆           ┆           ┆   ┆           ┆           ┆           ┆          │\n",
              "│ 01:00:00  ┆           ┆           ┆           ┆   ┆           ┆           ┆           ┆          │\n",
              "│ 2023-11-0 ┆ RAYBURN_C ┆ CCLE90    ┆ RAYBURN   ┆ … ┆ 0.0       ┆ 0.0       ┆ 0.0       ┆ 0.0      │\n",
              "│ 2         ┆ C1_1      ┆           ┆           ┆   ┆           ┆           ┆           ┆          │\n",
              "│ 01:00:00  ┆           ┆           ┆           ┆   ┆           ┆           ┆           ┆          │\n",
              "│ 2023-11-0 ┆ BOSQUESW_ ┆ CCGT90    ┆ BOSQUESW  ┆ … ┆ 0.0       ┆ 0.0       ┆ 0.0       ┆ 0.0      │\n",
              "│ 2         ┆ CC1_1     ┆           ┆           ┆   ┆           ┆           ┆           ┆          │\n",
              "│ 01:00:00  ┆           ┆           ┆           ┆   ┆           ┆           ┆           ┆          │\n",
              "│ 2023-11-0 ┆ W_HARLIN_ ┆ PWRSTR    ┆ W         ┆ … ┆ 0.0       ┆ 0.0       ┆ 0.0       ┆ 0.0      │\n",
              "│ 2         ┆ BESS      ┆           ┆           ┆   ┆           ┆           ┆           ┆          │\n",
              "│ 01:00:00  ┆           ┆           ┆           ┆   ┆           ┆           ┆           ┆          │\n",
              "└───────────┴───────────┴───────────┴───────────┴───┴───────────┴───────────┴───────────┴──────────┘"
            ]
          },
          "execution_count": 202,
          "metadata": {},
          "output_type": "execute_result"
        }
      ],
      "source": [
        "sced_gen.head()"
      ]
    },
    {
      "cell_type": "code",
      "execution_count": null,
      "id": "69178e59-ffd9-4def-9144-d5e6590b4bcb",
      "metadata": {
        "id": "69178e59-ffd9-4def-9144-d5e6590b4bcb",
        "outputId": "a9993309-4f0f-4957-95ba-8805aa662afa"
      },
      "outputs": [
        {
          "data": {
            "text/plain": [
              "9281170"
            ]
          },
          "execution_count": 203,
          "metadata": {},
          "output_type": "execute_result"
        }
      ],
      "source": [
        "sced_gen.height"
      ]
    },
    {
      "cell_type": "code",
      "execution_count": null,
      "id": "0b9d1c10-ca4a-4810-8d47-9e473899af34",
      "metadata": {
        "id": "0b9d1c10-ca4a-4810-8d47-9e473899af34"
      },
      "outputs": [],
      "source": [
        "# 5. export file\n",
        "sced_gen.write_csv(\"SCED_GEN_FINAL.csv\")\n",
        "sced_gen.write_parquet(\"SCED_GEN_FINAL.parquet\")"
      ]
    },
    {
      "cell_type": "markdown",
      "id": "8e04faa0-09f5-4bd0-956e-4dce726addb6",
      "metadata": {
        "id": "8e04faa0-09f5-4bd0-956e-4dce726addb6"
      },
      "source": [
        "## SCED LOAD"
      ]
    },
    {
      "cell_type": "code",
      "execution_count": null,
      "id": "7ad063fa-33c7-424f-aa7b-2f94bba99831",
      "metadata": {
        "id": "7ad063fa-33c7-424f-aa7b-2f94bba99831"
      },
      "outputs": [],
      "source": [
        "sced_load=pl.read_csv(\"sced_load_clean.csv\")"
      ]
    },
    {
      "cell_type": "code",
      "execution_count": null,
      "id": "d7c394f7-f5f9-4697-a08f-6a595b516ddf",
      "metadata": {
        "id": "d7c394f7-f5f9-4697-a08f-6a595b516ddf",
        "outputId": "dece797c-6de2-4b53-f6d7-fe51465d1f3a"
      },
      "outputs": [
        {
          "data": {
            "text/html": [
              "<div><style>\n",
              ".dataframe > thead > tr,\n",
              ".dataframe > tbody > tr {\n",
              "  text-align: right;\n",
              "  white-space: pre-wrap;\n",
              "}\n",
              "</style>\n",
              "<small>shape: (5, 24)</small><table border=\"1\" class=\"dataframe\"><thead><tr><th>delivery_date</th><th>hour_ending</th><th>resource_name</th><th>sced_bid_to_buy_curve_mw1</th><th>sced_bid_to_buy_curve_price1</th><th>sced_bid_to_buy_curve_mw2</th><th>sced_bid_to_buy_curve_price2</th><th>sced_bid_to_buy_curve_mw3</th><th>sced_bid_to_buy_curve_price3</th><th>sced_bid_to_buy_curve_mw4</th><th>sced_bid_to_buy_curve_price4</th><th>sced_bid_to_buy_curve_mw5</th><th>sced_bid_to_buy_curve_price5</th><th>sced_bid_to_buy_curve_mw6</th><th>sced_bid_to_buy_curve_price6</th><th>sced_bid_to_buy_curve_mw7</th><th>sced_bid_to_buy_curve_price7</th><th>sced_bid_to_buy_curve_mw8</th><th>sced_bid_to_buy_curve_price8</th><th>sced_bid_to_buy_curve_mw9</th><th>sced_bid_to_buy_curve_price9</th><th>sced_bid_to_buy_curve_mw10</th><th>sced_bid_to_buy_curve_price10</th><th>base_point</th></tr><tr><td>str</td><td>i64</td><td>str</td><td>f64</td><td>f64</td><td>f64</td><td>f64</td><td>f64</td><td>f64</td><td>f64</td><td>f64</td><td>f64</td><td>f64</td><td>f64</td><td>f64</td><td>f64</td><td>f64</td><td>str</td><td>str</td><td>str</td><td>str</td><td>str</td><td>str</td><td>f64</td></tr></thead><tbody><tr><td>&quot;2023-05-02&quot;</td><td>1</td><td>&quot;JARDIN_LD2&quot;</td><td>null</td><td>null</td><td>null</td><td>null</td><td>null</td><td>null</td><td>null</td><td>null</td><td>null</td><td>null</td><td>null</td><td>null</td><td>null</td><td>null</td><td>null</td><td>null</td><td>null</td><td>null</td><td>null</td><td>null</td><td>0.0</td></tr><tr><td>&quot;2023-05-02&quot;</td><td>1</td><td>&quot;GYVLM_LD2&quot;</td><td>null</td><td>null</td><td>null</td><td>null</td><td>null</td><td>null</td><td>null</td><td>null</td><td>null</td><td>null</td><td>null</td><td>null</td><td>null</td><td>null</td><td>null</td><td>null</td><td>null</td><td>null</td><td>null</td><td>null</td><td>0.0</td></tr><tr><td>&quot;2023-05-02&quot;</td><td>1</td><td>&quot;CLBSN_LD1&quot;</td><td>null</td><td>null</td><td>null</td><td>null</td><td>null</td><td>null</td><td>null</td><td>null</td><td>null</td><td>null</td><td>null</td><td>null</td><td>null</td><td>null</td><td>null</td><td>null</td><td>null</td><td>null</td><td>null</td><td>null</td><td>0.0</td></tr><tr><td>&quot;2023-05-02&quot;</td><td>1</td><td>&quot;DUN_LD2&quot;</td><td>null</td><td>null</td><td>null</td><td>null</td><td>null</td><td>null</td><td>null</td><td>null</td><td>null</td><td>null</td><td>null</td><td>null</td><td>null</td><td>null</td><td>null</td><td>null</td><td>null</td><td>null</td><td>null</td><td>null</td><td>0.0</td></tr><tr><td>&quot;2023-05-02&quot;</td><td>1</td><td>&quot;CHICW_LD4&quot;</td><td>null</td><td>null</td><td>null</td><td>null</td><td>null</td><td>null</td><td>null</td><td>null</td><td>null</td><td>null</td><td>null</td><td>null</td><td>null</td><td>null</td><td>null</td><td>null</td><td>null</td><td>null</td><td>null</td><td>null</td><td>0.0</td></tr></tbody></table></div>"
            ],
            "text/plain": [
              "shape: (5, 24)\n",
              "┌───────────┬───────────┬───────────┬───────────┬───┬───────────┬───────────┬───────────┬──────────┐\n",
              "│ delivery_ ┆ hour_endi ┆ resource_ ┆ sced_bid_ ┆ … ┆ sced_bid_ ┆ sced_bid_ ┆ sced_bid_ ┆ base_poi │\n",
              "│ date      ┆ ng        ┆ name      ┆ to_buy_cu ┆   ┆ to_buy_cu ┆ to_buy_cu ┆ to_buy_cu ┆ nt       │\n",
              "│ ---       ┆ ---       ┆ ---       ┆ rve_mw1   ┆   ┆ rve_price ┆ rve_mw10  ┆ rve_price ┆ ---      │\n",
              "│ str       ┆ i64       ┆ str       ┆ ---       ┆   ┆ 9         ┆ ---       ┆ 10        ┆ f64      │\n",
              "│           ┆           ┆           ┆ f64       ┆   ┆ ---       ┆ str       ┆ ---       ┆          │\n",
              "│           ┆           ┆           ┆           ┆   ┆ str       ┆           ┆ str       ┆          │\n",
              "╞═══════════╪═══════════╪═══════════╪═══════════╪═══╪═══════════╪═══════════╪═══════════╪══════════╡\n",
              "│ 2023-05-0 ┆ 1         ┆ JARDIN_LD ┆ null      ┆ … ┆ null      ┆ null      ┆ null      ┆ 0.0      │\n",
              "│ 2         ┆           ┆ 2         ┆           ┆   ┆           ┆           ┆           ┆          │\n",
              "│ 2023-05-0 ┆ 1         ┆ GYVLM_LD2 ┆ null      ┆ … ┆ null      ┆ null      ┆ null      ┆ 0.0      │\n",
              "│ 2         ┆           ┆           ┆           ┆   ┆           ┆           ┆           ┆          │\n",
              "│ 2023-05-0 ┆ 1         ┆ CLBSN_LD1 ┆ null      ┆ … ┆ null      ┆ null      ┆ null      ┆ 0.0      │\n",
              "│ 2         ┆           ┆           ┆           ┆   ┆           ┆           ┆           ┆          │\n",
              "│ 2023-05-0 ┆ 1         ┆ DUN_LD2   ┆ null      ┆ … ┆ null      ┆ null      ┆ null      ┆ 0.0      │\n",
              "│ 2         ┆           ┆           ┆           ┆   ┆           ┆           ┆           ┆          │\n",
              "│ 2023-05-0 ┆ 1         ┆ CHICW_LD4 ┆ null      ┆ … ┆ null      ┆ null      ┆ null      ┆ 0.0      │\n",
              "│ 2         ┆           ┆           ┆           ┆   ┆           ┆           ┆           ┆          │\n",
              "└───────────┴───────────┴───────────┴───────────┴───┴───────────┴───────────┴───────────┴──────────┘"
            ]
          },
          "execution_count": 154,
          "metadata": {},
          "output_type": "execute_result"
        }
      ],
      "source": [
        "sced_load.head()"
      ]
    },
    {
      "cell_type": "code",
      "execution_count": null,
      "id": "abb599d7-756a-4819-bd30-c3b2b6b9db06",
      "metadata": {
        "id": "abb599d7-756a-4819-bd30-c3b2b6b9db06"
      },
      "outputs": [],
      "source": [
        "# 1. extract name prefix into a column\n",
        "sced_load = sced_load.with_columns(\n",
        "    pl.col(\"resource_name\").str.split(\"_\").list.get(0).alias(\"resource_prefix\")\n",
        ")"
      ]
    },
    {
      "cell_type": "code",
      "execution_count": null,
      "id": "9680d4b5-0aca-4d7a-9e38-9c2ed963dc7b",
      "metadata": {
        "id": "9680d4b5-0aca-4d7a-9e38-9c2ed963dc7b",
        "outputId": "0da34bd0-88d2-44e1-eb50-370926d28b3d"
      },
      "outputs": [
        {
          "data": {
            "text/html": [
              "<div><style>\n",
              ".dataframe > thead > tr,\n",
              ".dataframe > tbody > tr {\n",
              "  text-align: right;\n",
              "  white-space: pre-wrap;\n",
              "}\n",
              "</style>\n",
              "<small>shape: (5, 25)</small><table border=\"1\" class=\"dataframe\"><thead><tr><th>delivery_date</th><th>hour_ending</th><th>resource_name</th><th>sced_bid_to_buy_curve_mw1</th><th>sced_bid_to_buy_curve_price1</th><th>sced_bid_to_buy_curve_mw2</th><th>sced_bid_to_buy_curve_price2</th><th>sced_bid_to_buy_curve_mw3</th><th>sced_bid_to_buy_curve_price3</th><th>sced_bid_to_buy_curve_mw4</th><th>sced_bid_to_buy_curve_price4</th><th>sced_bid_to_buy_curve_mw5</th><th>sced_bid_to_buy_curve_price5</th><th>sced_bid_to_buy_curve_mw6</th><th>sced_bid_to_buy_curve_price6</th><th>sced_bid_to_buy_curve_mw7</th><th>sced_bid_to_buy_curve_price7</th><th>sced_bid_to_buy_curve_mw8</th><th>sced_bid_to_buy_curve_price8</th><th>sced_bid_to_buy_curve_mw9</th><th>sced_bid_to_buy_curve_price9</th><th>sced_bid_to_buy_curve_mw10</th><th>sced_bid_to_buy_curve_price10</th><th>base_point</th><th>resource_prefix</th></tr><tr><td>str</td><td>i64</td><td>str</td><td>f64</td><td>f64</td><td>f64</td><td>f64</td><td>f64</td><td>f64</td><td>f64</td><td>f64</td><td>f64</td><td>f64</td><td>f64</td><td>f64</td><td>f64</td><td>f64</td><td>str</td><td>str</td><td>str</td><td>str</td><td>str</td><td>str</td><td>f64</td><td>str</td></tr></thead><tbody><tr><td>&quot;2023-05-02&quot;</td><td>1</td><td>&quot;JARDIN_LD2&quot;</td><td>null</td><td>null</td><td>null</td><td>null</td><td>null</td><td>null</td><td>null</td><td>null</td><td>null</td><td>null</td><td>null</td><td>null</td><td>null</td><td>null</td><td>null</td><td>null</td><td>null</td><td>null</td><td>null</td><td>null</td><td>0.0</td><td>&quot;JARDIN&quot;</td></tr><tr><td>&quot;2023-05-02&quot;</td><td>1</td><td>&quot;GYVLM_LD2&quot;</td><td>null</td><td>null</td><td>null</td><td>null</td><td>null</td><td>null</td><td>null</td><td>null</td><td>null</td><td>null</td><td>null</td><td>null</td><td>null</td><td>null</td><td>null</td><td>null</td><td>null</td><td>null</td><td>null</td><td>null</td><td>0.0</td><td>&quot;GYVLM&quot;</td></tr><tr><td>&quot;2023-05-02&quot;</td><td>1</td><td>&quot;CLBSN_LD1&quot;</td><td>null</td><td>null</td><td>null</td><td>null</td><td>null</td><td>null</td><td>null</td><td>null</td><td>null</td><td>null</td><td>null</td><td>null</td><td>null</td><td>null</td><td>null</td><td>null</td><td>null</td><td>null</td><td>null</td><td>null</td><td>0.0</td><td>&quot;CLBSN&quot;</td></tr><tr><td>&quot;2023-05-02&quot;</td><td>1</td><td>&quot;DUN_LD2&quot;</td><td>null</td><td>null</td><td>null</td><td>null</td><td>null</td><td>null</td><td>null</td><td>null</td><td>null</td><td>null</td><td>null</td><td>null</td><td>null</td><td>null</td><td>null</td><td>null</td><td>null</td><td>null</td><td>null</td><td>null</td><td>0.0</td><td>&quot;DUN&quot;</td></tr><tr><td>&quot;2023-05-02&quot;</td><td>1</td><td>&quot;CHICW_LD4&quot;</td><td>null</td><td>null</td><td>null</td><td>null</td><td>null</td><td>null</td><td>null</td><td>null</td><td>null</td><td>null</td><td>null</td><td>null</td><td>null</td><td>null</td><td>null</td><td>null</td><td>null</td><td>null</td><td>null</td><td>null</td><td>0.0</td><td>&quot;CHICW&quot;</td></tr></tbody></table></div>"
            ],
            "text/plain": [
              "shape: (5, 25)\n",
              "┌───────────┬───────────┬───────────┬───────────┬───┬───────────┬───────────┬───────────┬──────────┐\n",
              "│ delivery_ ┆ hour_endi ┆ resource_ ┆ sced_bid_ ┆ … ┆ sced_bid_ ┆ sced_bid_ ┆ base_poin ┆ resource │\n",
              "│ date      ┆ ng        ┆ name      ┆ to_buy_cu ┆   ┆ to_buy_cu ┆ to_buy_cu ┆ t         ┆ _prefix  │\n",
              "│ ---       ┆ ---       ┆ ---       ┆ rve_mw1   ┆   ┆ rve_mw10  ┆ rve_price ┆ ---       ┆ ---      │\n",
              "│ str       ┆ i64       ┆ str       ┆ ---       ┆   ┆ ---       ┆ 10        ┆ f64       ┆ str      │\n",
              "│           ┆           ┆           ┆ f64       ┆   ┆ str       ┆ ---       ┆           ┆          │\n",
              "│           ┆           ┆           ┆           ┆   ┆           ┆ str       ┆           ┆          │\n",
              "╞═══════════╪═══════════╪═══════════╪═══════════╪═══╪═══════════╪═══════════╪═══════════╪══════════╡\n",
              "│ 2023-05-0 ┆ 1         ┆ JARDIN_LD ┆ null      ┆ … ┆ null      ┆ null      ┆ 0.0       ┆ JARDIN   │\n",
              "│ 2         ┆           ┆ 2         ┆           ┆   ┆           ┆           ┆           ┆          │\n",
              "│ 2023-05-0 ┆ 1         ┆ GYVLM_LD2 ┆ null      ┆ … ┆ null      ┆ null      ┆ 0.0       ┆ GYVLM    │\n",
              "│ 2         ┆           ┆           ┆           ┆   ┆           ┆           ┆           ┆          │\n",
              "│ 2023-05-0 ┆ 1         ┆ CLBSN_LD1 ┆ null      ┆ … ┆ null      ┆ null      ┆ 0.0       ┆ CLBSN    │\n",
              "│ 2         ┆           ┆           ┆           ┆   ┆           ┆           ┆           ┆          │\n",
              "│ 2023-05-0 ┆ 1         ┆ DUN_LD2   ┆ null      ┆ … ┆ null      ┆ null      ┆ 0.0       ┆ DUN      │\n",
              "│ 2         ┆           ┆           ┆           ┆   ┆           ┆           ┆           ┆          │\n",
              "│ 2023-05-0 ┆ 1         ┆ CHICW_LD4 ┆ null      ┆ … ┆ null      ┆ null      ┆ 0.0       ┆ CHICW    │\n",
              "│ 2         ┆           ┆           ┆           ┆   ┆           ┆           ┆           ┆          │\n",
              "└───────────┴───────────┴───────────┴───────────┴───┴───────────┴───────────┴───────────┴──────────┘"
            ]
          },
          "execution_count": 157,
          "metadata": {},
          "output_type": "execute_result"
        }
      ],
      "source": [
        "sced_load.head()"
      ]
    },
    {
      "cell_type": "code",
      "execution_count": null,
      "id": "d2770ddc-82ab-402b-ae87-f5ea3dc8922f",
      "metadata": {
        "id": "d2770ddc-82ab-402b-ae87-f5ea3dc8922f"
      },
      "outputs": [],
      "source": [
        "# 2. add 'isBESS' dummy column by comparing to DAM Gen\n",
        "\n",
        "# get interim bess prefix list from Gen\n",
        "bess_prefixes = set(sced_gen.filter(pl.col('isBESS') == 1)['resource_prefix'].to_list())\n",
        "\n",
        "# lookup values from the list to create column in Load\n",
        "sced_load = sced_load.with_columns(\n",
        "    pl.when(pl.col('resource_prefix').is_in(bess_prefixes))\n",
        "    .then(1)\n",
        "    .otherwise(0)\n",
        "    .alias(\"isBESS\")\n",
        ")"
      ]
    },
    {
      "cell_type": "code",
      "execution_count": null,
      "id": "6af684b5-e8bc-44d6-8a8c-46adf71d3694",
      "metadata": {
        "id": "6af684b5-e8bc-44d6-8a8c-46adf71d3694",
        "outputId": "f386a159-dc51-4a77-b4a7-bdf3875bf7aa"
      },
      "outputs": [
        {
          "data": {
            "text/html": [
              "<div><style>\n",
              ".dataframe > thead > tr,\n",
              ".dataframe > tbody > tr {\n",
              "  text-align: right;\n",
              "  white-space: pre-wrap;\n",
              "}\n",
              "</style>\n",
              "<small>shape: (5, 26)</small><table border=\"1\" class=\"dataframe\"><thead><tr><th>delivery_date</th><th>hour_ending</th><th>resource_name</th><th>sced_bid_to_buy_curve_mw1</th><th>sced_bid_to_buy_curve_price1</th><th>sced_bid_to_buy_curve_mw2</th><th>sced_bid_to_buy_curve_price2</th><th>sced_bid_to_buy_curve_mw3</th><th>sced_bid_to_buy_curve_price3</th><th>sced_bid_to_buy_curve_mw4</th><th>sced_bid_to_buy_curve_price4</th><th>sced_bid_to_buy_curve_mw5</th><th>sced_bid_to_buy_curve_price5</th><th>sced_bid_to_buy_curve_mw6</th><th>sced_bid_to_buy_curve_price6</th><th>sced_bid_to_buy_curve_mw7</th><th>sced_bid_to_buy_curve_price7</th><th>sced_bid_to_buy_curve_mw8</th><th>sced_bid_to_buy_curve_price8</th><th>sced_bid_to_buy_curve_mw9</th><th>sced_bid_to_buy_curve_price9</th><th>sced_bid_to_buy_curve_mw10</th><th>sced_bid_to_buy_curve_price10</th><th>base_point</th><th>resource_prefix</th><th>isBESS</th></tr><tr><td>str</td><td>i64</td><td>str</td><td>f64</td><td>f64</td><td>f64</td><td>f64</td><td>f64</td><td>f64</td><td>f64</td><td>f64</td><td>f64</td><td>f64</td><td>f64</td><td>f64</td><td>f64</td><td>f64</td><td>str</td><td>str</td><td>str</td><td>str</td><td>str</td><td>str</td><td>f64</td><td>str</td><td>i32</td></tr></thead><tbody><tr><td>&quot;2023-05-02&quot;</td><td>1</td><td>&quot;MIDWY_LD7&quot;</td><td>null</td><td>null</td><td>null</td><td>null</td><td>null</td><td>null</td><td>null</td><td>null</td><td>null</td><td>null</td><td>null</td><td>null</td><td>null</td><td>null</td><td>null</td><td>null</td><td>null</td><td>null</td><td>null</td><td>null</td><td>0.0</td><td>&quot;MIDWY&quot;</td><td>1</td></tr><tr><td>&quot;2023-05-02&quot;</td><td>1</td><td>&quot;ESTONIAN_LD1&quot;</td><td>null</td><td>null</td><td>null</td><td>null</td><td>null</td><td>null</td><td>null</td><td>null</td><td>null</td><td>null</td><td>null</td><td>null</td><td>null</td><td>null</td><td>null</td><td>null</td><td>null</td><td>null</td><td>null</td><td>null</td><td>0.0</td><td>&quot;ESTONIAN&quot;</td><td>1</td></tr><tr><td>&quot;2023-05-02&quot;</td><td>1</td><td>&quot;SLCNHLS_LD2&quot;</td><td>0.0</td><td>12.03</td><td>44.025</td><td>12.01</td><td>44.125</td><td>-249.99</td><td>50.0</td><td>-250.0</td><td>null</td><td>null</td><td>null</td><td>null</td><td>null</td><td>null</td><td>null</td><td>null</td><td>null</td><td>null</td><td>null</td><td>null</td><td>44.170002</td><td>&quot;SLCNHLS&quot;</td><td>1</td></tr><tr><td>&quot;2023-05-02&quot;</td><td>1</td><td>&quot;TURQBESS_LD1&quot;</td><td>null</td><td>null</td><td>null</td><td>null</td><td>null</td><td>null</td><td>null</td><td>null</td><td>null</td><td>null</td><td>null</td><td>null</td><td>null</td><td>null</td><td>null</td><td>null</td><td>null</td><td>null</td><td>null</td><td>null</td><td>0.0</td><td>&quot;TURQBESS&quot;</td><td>1</td></tr><tr><td>&quot;2023-05-02&quot;</td><td>1</td><td>&quot;SADLBACK_LD6&quot;</td><td>null</td><td>null</td><td>null</td><td>null</td><td>null</td><td>null</td><td>null</td><td>null</td><td>null</td><td>null</td><td>null</td><td>null</td><td>null</td><td>null</td><td>null</td><td>null</td><td>null</td><td>null</td><td>null</td><td>null</td><td>0.0</td><td>&quot;SADLBACK&quot;</td><td>1</td></tr></tbody></table></div>"
            ],
            "text/plain": [
              "shape: (5, 26)\n",
              "┌────────────┬────────────┬───────────┬───────────┬───┬───────────┬───────────┬───────────┬────────┐\n",
              "│ delivery_d ┆ hour_endin ┆ resource_ ┆ sced_bid_ ┆ … ┆ sced_bid_ ┆ base_poin ┆ resource_ ┆ isBESS │\n",
              "│ ate        ┆ g          ┆ name      ┆ to_buy_cu ┆   ┆ to_buy_cu ┆ t         ┆ prefix    ┆ ---    │\n",
              "│ ---        ┆ ---        ┆ ---       ┆ rve_mw1   ┆   ┆ rve_price ┆ ---       ┆ ---       ┆ i32    │\n",
              "│ str        ┆ i64        ┆ str       ┆ ---       ┆   ┆ 10        ┆ f64       ┆ str       ┆        │\n",
              "│            ┆            ┆           ┆ f64       ┆   ┆ ---       ┆           ┆           ┆        │\n",
              "│            ┆            ┆           ┆           ┆   ┆ str       ┆           ┆           ┆        │\n",
              "╞════════════╪════════════╪═══════════╪═══════════╪═══╪═══════════╪═══════════╪═══════════╪════════╡\n",
              "│ 2023-05-02 ┆ 1          ┆ MIDWY_LD7 ┆ null      ┆ … ┆ null      ┆ 0.0       ┆ MIDWY     ┆ 1      │\n",
              "│ 2023-05-02 ┆ 1          ┆ ESTONIAN_ ┆ null      ┆ … ┆ null      ┆ 0.0       ┆ ESTONIAN  ┆ 1      │\n",
              "│            ┆            ┆ LD1       ┆           ┆   ┆           ┆           ┆           ┆        │\n",
              "│ 2023-05-02 ┆ 1          ┆ SLCNHLS_L ┆ 0.0       ┆ … ┆ null      ┆ 44.170002 ┆ SLCNHLS   ┆ 1      │\n",
              "│            ┆            ┆ D2        ┆           ┆   ┆           ┆           ┆           ┆        │\n",
              "│ 2023-05-02 ┆ 1          ┆ TURQBESS_ ┆ null      ┆ … ┆ null      ┆ 0.0       ┆ TURQBESS  ┆ 1      │\n",
              "│            ┆            ┆ LD1       ┆           ┆   ┆           ┆           ┆           ┆        │\n",
              "│ 2023-05-02 ┆ 1          ┆ SADLBACK_ ┆ null      ┆ … ┆ null      ┆ 0.0       ┆ SADLBACK  ┆ 1      │\n",
              "│            ┆            ┆ LD6       ┆           ┆   ┆           ┆           ┆           ┆        │\n",
              "└────────────┴────────────┴───────────┴───────────┴───┴───────────┴───────────┴───────────┴────────┘"
            ]
          },
          "execution_count": 160,
          "metadata": {},
          "output_type": "execute_result"
        }
      ],
      "source": [
        "# check\n",
        "sced_load.filter(pl.col('isBESS') == 1).head()"
      ]
    },
    {
      "cell_type": "code",
      "execution_count": null,
      "id": "876634ba-013a-42de-96f7-a54170b2b171",
      "metadata": {
        "id": "876634ba-013a-42de-96f7-a54170b2b171"
      },
      "outputs": [],
      "source": [
        "sced_load = sced_load.with_columns(\n",
        "    pl.col(\"delivery_date\").str.to_date(format=\"%Y-%m-%d\")\n",
        ")"
      ]
    },
    {
      "cell_type": "code",
      "execution_count": null,
      "id": "216f78b8-003d-47f3-bc5b-d534dcc17445",
      "metadata": {
        "id": "216f78b8-003d-47f3-bc5b-d534dcc17445"
      },
      "outputs": [],
      "source": [
        "#sced_load.schema"
      ]
    },
    {
      "cell_type": "code",
      "execution_count": null,
      "id": "92eda6f0-1dd3-4f22-bbd1-e4715561d0d8",
      "metadata": {
        "id": "92eda6f0-1dd3-4f22-bbd1-e4715561d0d8"
      },
      "outputs": [],
      "source": [
        "# 3. adjsut timestamp format\n",
        "# Convert the 'date' column to datetime (already in YYYY-MM-DD format, so no need for a specific format)\n",
        "sced_load = sced_load.with_columns(\n",
        "    pl.col('delivery_date').cast(pl.Datetime).alias('delivery_date')\n",
        ")\n",
        "\n",
        "# Add duration\n",
        "sced_load = sced_load.with_columns(\n",
        "    (pl.col('delivery_date') + pl.duration(hours=pl.col('hour_ending'))).alias('date_time')\n",
        ")\n",
        "\n",
        "# Format the date_time column as '%m/%d/%Y %H:%M'\n",
        "sced_load = sced_load.with_columns(\n",
        "    pl.col('date_time').dt.strftime('%m/%d/%Y %H:%M').alias('date_time')\n",
        ")\n",
        "\n",
        "# Fix: Convert date_time to datetime format\n",
        "sced_load = sced_load.with_columns(\n",
        "    pl.col('date_time').str.to_datetime(\"%m/%d/%Y %H:%M\", strict=False)\n",
        ")"
      ]
    },
    {
      "cell_type": "code",
      "execution_count": null,
      "id": "65c258bc-e6c5-4179-8c57-55f62af9ad9a",
      "metadata": {
        "id": "65c258bc-e6c5-4179-8c57-55f62af9ad9a",
        "outputId": "41cd228b-b2c2-4bcc-da45-4c5aee8a089b"
      },
      "outputs": [
        {
          "data": {
            "text/html": [
              "<div><style>\n",
              ".dataframe > thead > tr,\n",
              ".dataframe > tbody > tr {\n",
              "  text-align: right;\n",
              "  white-space: pre-wrap;\n",
              "}\n",
              "</style>\n",
              "<small>shape: (5, 27)</small><table border=\"1\" class=\"dataframe\"><thead><tr><th>delivery_date</th><th>hour_ending</th><th>resource_name</th><th>sced_bid_to_buy_curve_mw1</th><th>sced_bid_to_buy_curve_price1</th><th>sced_bid_to_buy_curve_mw2</th><th>sced_bid_to_buy_curve_price2</th><th>sced_bid_to_buy_curve_mw3</th><th>sced_bid_to_buy_curve_price3</th><th>sced_bid_to_buy_curve_mw4</th><th>sced_bid_to_buy_curve_price4</th><th>sced_bid_to_buy_curve_mw5</th><th>sced_bid_to_buy_curve_price5</th><th>sced_bid_to_buy_curve_mw6</th><th>sced_bid_to_buy_curve_price6</th><th>sced_bid_to_buy_curve_mw7</th><th>sced_bid_to_buy_curve_price7</th><th>sced_bid_to_buy_curve_mw8</th><th>sced_bid_to_buy_curve_price8</th><th>sced_bid_to_buy_curve_mw9</th><th>sced_bid_to_buy_curve_price9</th><th>sced_bid_to_buy_curve_mw10</th><th>sced_bid_to_buy_curve_price10</th><th>base_point</th><th>resource_prefix</th><th>isBESS</th><th>date_time</th></tr><tr><td>datetime[μs]</td><td>i64</td><td>str</td><td>f64</td><td>f64</td><td>f64</td><td>f64</td><td>f64</td><td>f64</td><td>f64</td><td>f64</td><td>f64</td><td>f64</td><td>f64</td><td>f64</td><td>f64</td><td>f64</td><td>str</td><td>str</td><td>str</td><td>str</td><td>str</td><td>str</td><td>f64</td><td>str</td><td>i32</td><td>datetime[μs]</td></tr></thead><tbody><tr><td>2023-05-02 00:00:00</td><td>1</td><td>&quot;JARDIN_LD2&quot;</td><td>null</td><td>null</td><td>null</td><td>null</td><td>null</td><td>null</td><td>null</td><td>null</td><td>null</td><td>null</td><td>null</td><td>null</td><td>null</td><td>null</td><td>null</td><td>null</td><td>null</td><td>null</td><td>null</td><td>null</td><td>0.0</td><td>&quot;JARDIN&quot;</td><td>0</td><td>2023-05-02 01:00:00</td></tr><tr><td>2023-05-02 00:00:00</td><td>1</td><td>&quot;GYVLM_LD2&quot;</td><td>null</td><td>null</td><td>null</td><td>null</td><td>null</td><td>null</td><td>null</td><td>null</td><td>null</td><td>null</td><td>null</td><td>null</td><td>null</td><td>null</td><td>null</td><td>null</td><td>null</td><td>null</td><td>null</td><td>null</td><td>0.0</td><td>&quot;GYVLM&quot;</td><td>0</td><td>2023-05-02 01:00:00</td></tr><tr><td>2023-05-02 00:00:00</td><td>1</td><td>&quot;CLBSN_LD1&quot;</td><td>null</td><td>null</td><td>null</td><td>null</td><td>null</td><td>null</td><td>null</td><td>null</td><td>null</td><td>null</td><td>null</td><td>null</td><td>null</td><td>null</td><td>null</td><td>null</td><td>null</td><td>null</td><td>null</td><td>null</td><td>0.0</td><td>&quot;CLBSN&quot;</td><td>0</td><td>2023-05-02 01:00:00</td></tr><tr><td>2023-05-02 00:00:00</td><td>1</td><td>&quot;DUN_LD2&quot;</td><td>null</td><td>null</td><td>null</td><td>null</td><td>null</td><td>null</td><td>null</td><td>null</td><td>null</td><td>null</td><td>null</td><td>null</td><td>null</td><td>null</td><td>null</td><td>null</td><td>null</td><td>null</td><td>null</td><td>null</td><td>0.0</td><td>&quot;DUN&quot;</td><td>0</td><td>2023-05-02 01:00:00</td></tr><tr><td>2023-05-02 00:00:00</td><td>1</td><td>&quot;CHICW_LD4&quot;</td><td>null</td><td>null</td><td>null</td><td>null</td><td>null</td><td>null</td><td>null</td><td>null</td><td>null</td><td>null</td><td>null</td><td>null</td><td>null</td><td>null</td><td>null</td><td>null</td><td>null</td><td>null</td><td>null</td><td>null</td><td>0.0</td><td>&quot;CHICW&quot;</td><td>0</td><td>2023-05-02 01:00:00</td></tr></tbody></table></div>"
            ],
            "text/plain": [
              "shape: (5, 27)\n",
              "┌────────────┬────────────┬───────────┬───────────┬───┬───────────┬───────────┬────────┬───────────┐\n",
              "│ delivery_d ┆ hour_endin ┆ resource_ ┆ sced_bid_ ┆ … ┆ base_poin ┆ resource_ ┆ isBESS ┆ date_time │\n",
              "│ ate        ┆ g          ┆ name      ┆ to_buy_cu ┆   ┆ t         ┆ prefix    ┆ ---    ┆ ---       │\n",
              "│ ---        ┆ ---        ┆ ---       ┆ rve_mw1   ┆   ┆ ---       ┆ ---       ┆ i32    ┆ datetime[ │\n",
              "│ datetime[μ ┆ i64        ┆ str       ┆ ---       ┆   ┆ f64       ┆ str       ┆        ┆ μs]       │\n",
              "│ s]         ┆            ┆           ┆ f64       ┆   ┆           ┆           ┆        ┆           │\n",
              "╞════════════╪════════════╪═══════════╪═══════════╪═══╪═══════════╪═══════════╪════════╪═══════════╡\n",
              "│ 2023-05-02 ┆ 1          ┆ JARDIN_LD ┆ null      ┆ … ┆ 0.0       ┆ JARDIN    ┆ 0      ┆ 2023-05-0 │\n",
              "│ 00:00:00   ┆            ┆ 2         ┆           ┆   ┆           ┆           ┆        ┆ 2         │\n",
              "│            ┆            ┆           ┆           ┆   ┆           ┆           ┆        ┆ 01:00:00  │\n",
              "│ 2023-05-02 ┆ 1          ┆ GYVLM_LD2 ┆ null      ┆ … ┆ 0.0       ┆ GYVLM     ┆ 0      ┆ 2023-05-0 │\n",
              "│ 00:00:00   ┆            ┆           ┆           ┆   ┆           ┆           ┆        ┆ 2         │\n",
              "│            ┆            ┆           ┆           ┆   ┆           ┆           ┆        ┆ 01:00:00  │\n",
              "│ 2023-05-02 ┆ 1          ┆ CLBSN_LD1 ┆ null      ┆ … ┆ 0.0       ┆ CLBSN     ┆ 0      ┆ 2023-05-0 │\n",
              "│ 00:00:00   ┆            ┆           ┆           ┆   ┆           ┆           ┆        ┆ 2         │\n",
              "│            ┆            ┆           ┆           ┆   ┆           ┆           ┆        ┆ 01:00:00  │\n",
              "│ 2023-05-02 ┆ 1          ┆ DUN_LD2   ┆ null      ┆ … ┆ 0.0       ┆ DUN       ┆ 0      ┆ 2023-05-0 │\n",
              "│ 00:00:00   ┆            ┆           ┆           ┆   ┆           ┆           ┆        ┆ 2         │\n",
              "│            ┆            ┆           ┆           ┆   ┆           ┆           ┆        ┆ 01:00:00  │\n",
              "│ 2023-05-02 ┆ 1          ┆ CHICW_LD4 ┆ null      ┆ … ┆ 0.0       ┆ CHICW     ┆ 0      ┆ 2023-05-0 │\n",
              "│ 00:00:00   ┆            ┆           ┆           ┆   ┆           ┆           ┆        ┆ 2         │\n",
              "│            ┆            ┆           ┆           ┆   ┆           ┆           ┆        ┆ 01:00:00  │\n",
              "└────────────┴────────────┴───────────┴───────────┴───┴───────────┴───────────┴────────┴───────────┘"
            ]
          },
          "execution_count": 164,
          "metadata": {},
          "output_type": "execute_result"
        }
      ],
      "source": [
        "sced_load.head()"
      ]
    },
    {
      "cell_type": "code",
      "execution_count": null,
      "id": "feef68a3-29fb-4852-b0af-988db559dd0e",
      "metadata": {
        "id": "feef68a3-29fb-4852-b0af-988db559dd0e",
        "outputId": "c4c9f88a-6dbc-4d55-beb2-43e3749a36bd"
      },
      "outputs": [
        {
          "data": {
            "text/html": [
              "<div><style>\n",
              ".dataframe > thead > tr,\n",
              ".dataframe > tbody > tr {\n",
              "  text-align: right;\n",
              "  white-space: pre-wrap;\n",
              "}\n",
              "</style>\n",
              "<small>shape: (5, 25)</small><table border=\"1\" class=\"dataframe\"><thead><tr><th>resource_name</th><th>sced_bid_to_buy_curve_mw1</th><th>sced_bid_to_buy_curve_price1</th><th>sced_bid_to_buy_curve_mw2</th><th>sced_bid_to_buy_curve_price2</th><th>sced_bid_to_buy_curve_mw3</th><th>sced_bid_to_buy_curve_price3</th><th>sced_bid_to_buy_curve_mw4</th><th>sced_bid_to_buy_curve_price4</th><th>sced_bid_to_buy_curve_mw5</th><th>sced_bid_to_buy_curve_price5</th><th>sced_bid_to_buy_curve_mw6</th><th>sced_bid_to_buy_curve_price6</th><th>sced_bid_to_buy_curve_mw7</th><th>sced_bid_to_buy_curve_price7</th><th>sced_bid_to_buy_curve_mw8</th><th>sced_bid_to_buy_curve_price8</th><th>sced_bid_to_buy_curve_mw9</th><th>sced_bid_to_buy_curve_price9</th><th>sced_bid_to_buy_curve_mw10</th><th>sced_bid_to_buy_curve_price10</th><th>base_point</th><th>resource_prefix</th><th>isBESS</th><th>date_time</th></tr><tr><td>str</td><td>f64</td><td>f64</td><td>f64</td><td>f64</td><td>f64</td><td>f64</td><td>f64</td><td>f64</td><td>f64</td><td>f64</td><td>f64</td><td>f64</td><td>f64</td><td>f64</td><td>str</td><td>str</td><td>str</td><td>str</td><td>str</td><td>str</td><td>f64</td><td>str</td><td>i32</td><td>datetime[μs]</td></tr></thead><tbody><tr><td>&quot;JARDIN_LD2&quot;</td><td>null</td><td>null</td><td>null</td><td>null</td><td>null</td><td>null</td><td>null</td><td>null</td><td>null</td><td>null</td><td>null</td><td>null</td><td>null</td><td>null</td><td>null</td><td>null</td><td>null</td><td>null</td><td>null</td><td>null</td><td>0.0</td><td>&quot;JARDIN&quot;</td><td>0</td><td>2023-05-02 01:00:00</td></tr><tr><td>&quot;GYVLM_LD2&quot;</td><td>null</td><td>null</td><td>null</td><td>null</td><td>null</td><td>null</td><td>null</td><td>null</td><td>null</td><td>null</td><td>null</td><td>null</td><td>null</td><td>null</td><td>null</td><td>null</td><td>null</td><td>null</td><td>null</td><td>null</td><td>0.0</td><td>&quot;GYVLM&quot;</td><td>0</td><td>2023-05-02 01:00:00</td></tr><tr><td>&quot;CLBSN_LD1&quot;</td><td>null</td><td>null</td><td>null</td><td>null</td><td>null</td><td>null</td><td>null</td><td>null</td><td>null</td><td>null</td><td>null</td><td>null</td><td>null</td><td>null</td><td>null</td><td>null</td><td>null</td><td>null</td><td>null</td><td>null</td><td>0.0</td><td>&quot;CLBSN&quot;</td><td>0</td><td>2023-05-02 01:00:00</td></tr><tr><td>&quot;DUN_LD2&quot;</td><td>null</td><td>null</td><td>null</td><td>null</td><td>null</td><td>null</td><td>null</td><td>null</td><td>null</td><td>null</td><td>null</td><td>null</td><td>null</td><td>null</td><td>null</td><td>null</td><td>null</td><td>null</td><td>null</td><td>null</td><td>0.0</td><td>&quot;DUN&quot;</td><td>0</td><td>2023-05-02 01:00:00</td></tr><tr><td>&quot;CHICW_LD4&quot;</td><td>null</td><td>null</td><td>null</td><td>null</td><td>null</td><td>null</td><td>null</td><td>null</td><td>null</td><td>null</td><td>null</td><td>null</td><td>null</td><td>null</td><td>null</td><td>null</td><td>null</td><td>null</td><td>null</td><td>null</td><td>0.0</td><td>&quot;CHICW&quot;</td><td>0</td><td>2023-05-02 01:00:00</td></tr></tbody></table></div>"
            ],
            "text/plain": [
              "shape: (5, 25)\n",
              "┌────────────┬────────────┬───────────┬───────────┬───┬───────────┬───────────┬────────┬───────────┐\n",
              "│ resource_n ┆ sced_bid_t ┆ sced_bid_ ┆ sced_bid_ ┆ … ┆ base_poin ┆ resource_ ┆ isBESS ┆ date_time │\n",
              "│ ame        ┆ o_buy_curv ┆ to_buy_cu ┆ to_buy_cu ┆   ┆ t         ┆ prefix    ┆ ---    ┆ ---       │\n",
              "│ ---        ┆ e_mw1      ┆ rve_price ┆ rve_mw2   ┆   ┆ ---       ┆ ---       ┆ i32    ┆ datetime[ │\n",
              "│ str        ┆ ---        ┆ 1         ┆ ---       ┆   ┆ f64       ┆ str       ┆        ┆ μs]       │\n",
              "│            ┆ f64        ┆ ---       ┆ f64       ┆   ┆           ┆           ┆        ┆           │\n",
              "│            ┆            ┆ f64       ┆           ┆   ┆           ┆           ┆        ┆           │\n",
              "╞════════════╪════════════╪═══════════╪═══════════╪═══╪═══════════╪═══════════╪════════╪═══════════╡\n",
              "│ JARDIN_LD2 ┆ null       ┆ null      ┆ null      ┆ … ┆ 0.0       ┆ JARDIN    ┆ 0      ┆ 2023-05-0 │\n",
              "│            ┆            ┆           ┆           ┆   ┆           ┆           ┆        ┆ 2         │\n",
              "│            ┆            ┆           ┆           ┆   ┆           ┆           ┆        ┆ 01:00:00  │\n",
              "│ GYVLM_LD2  ┆ null       ┆ null      ┆ null      ┆ … ┆ 0.0       ┆ GYVLM     ┆ 0      ┆ 2023-05-0 │\n",
              "│            ┆            ┆           ┆           ┆   ┆           ┆           ┆        ┆ 2         │\n",
              "│            ┆            ┆           ┆           ┆   ┆           ┆           ┆        ┆ 01:00:00  │\n",
              "│ CLBSN_LD1  ┆ null       ┆ null      ┆ null      ┆ … ┆ 0.0       ┆ CLBSN     ┆ 0      ┆ 2023-05-0 │\n",
              "│            ┆            ┆           ┆           ┆   ┆           ┆           ┆        ┆ 2         │\n",
              "│            ┆            ┆           ┆           ┆   ┆           ┆           ┆        ┆ 01:00:00  │\n",
              "│ DUN_LD2    ┆ null       ┆ null      ┆ null      ┆ … ┆ 0.0       ┆ DUN       ┆ 0      ┆ 2023-05-0 │\n",
              "│            ┆            ┆           ┆           ┆   ┆           ┆           ┆        ┆ 2         │\n",
              "│            ┆            ┆           ┆           ┆   ┆           ┆           ┆        ┆ 01:00:00  │\n",
              "│ CHICW_LD4  ┆ null       ┆ null      ┆ null      ┆ … ┆ 0.0       ┆ CHICW     ┆ 0      ┆ 2023-05-0 │\n",
              "│            ┆            ┆           ┆           ┆   ┆           ┆           ┆        ┆ 2         │\n",
              "│            ┆            ┆           ┆           ┆   ┆           ┆           ┆        ┆ 01:00:00  │\n",
              "└────────────┴────────────┴───────────┴───────────┴───┴───────────┴───────────┴────────┴───────────┘"
            ]
          },
          "execution_count": 165,
          "metadata": {},
          "output_type": "execute_result"
        }
      ],
      "source": [
        "sced_load = sced_load.drop([\"delivery_date\", \"hour_ending\"])\n",
        "#sced_load.head()"
      ]
    },
    {
      "cell_type": "code",
      "execution_count": null,
      "id": "5268105a-1a25-418b-bbb3-219e2a8dec5b",
      "metadata": {
        "id": "5268105a-1a25-418b-bbb3-219e2a8dec5b"
      },
      "outputs": [],
      "source": [
        "col_order1 = [\"date_time\", \"resource_name\", \"resource_prefix\", \"isBESS\"]\n",
        "col_order2 = [col for col in sced_load.columns if col not in col_order1]\n",
        "col_order = col_order1 + col_order2\n",
        "# Reorder the DataFrame\n",
        "sced_load = sced_load.select(col_order)"
      ]
    },
    {
      "cell_type": "code",
      "execution_count": null,
      "id": "e2093135-4122-4b59-a4c4-92eb8b8b76a9",
      "metadata": {
        "id": "e2093135-4122-4b59-a4c4-92eb8b8b76a9",
        "outputId": "816895bf-4f45-4c8e-fcba-b3cdce3e6958"
      },
      "outputs": [
        {
          "data": {
            "text/html": [
              "<div><style>\n",
              ".dataframe > thead > tr,\n",
              ".dataframe > tbody > tr {\n",
              "  text-align: right;\n",
              "  white-space: pre-wrap;\n",
              "}\n",
              "</style>\n",
              "<small>shape: (5, 25)</small><table border=\"1\" class=\"dataframe\"><thead><tr><th>date_time</th><th>resource_name</th><th>resource_prefix</th><th>isBESS</th><th>sced_bid_to_buy_curve_mw1</th><th>sced_bid_to_buy_curve_price1</th><th>sced_bid_to_buy_curve_mw2</th><th>sced_bid_to_buy_curve_price2</th><th>sced_bid_to_buy_curve_mw3</th><th>sced_bid_to_buy_curve_price3</th><th>sced_bid_to_buy_curve_mw4</th><th>sced_bid_to_buy_curve_price4</th><th>sced_bid_to_buy_curve_mw5</th><th>sced_bid_to_buy_curve_price5</th><th>sced_bid_to_buy_curve_mw6</th><th>sced_bid_to_buy_curve_price6</th><th>sced_bid_to_buy_curve_mw7</th><th>sced_bid_to_buy_curve_price7</th><th>sced_bid_to_buy_curve_mw8</th><th>sced_bid_to_buy_curve_price8</th><th>sced_bid_to_buy_curve_mw9</th><th>sced_bid_to_buy_curve_price9</th><th>sced_bid_to_buy_curve_mw10</th><th>sced_bid_to_buy_curve_price10</th><th>base_point</th></tr><tr><td>datetime[μs]</td><td>str</td><td>str</td><td>i32</td><td>f64</td><td>f64</td><td>f64</td><td>f64</td><td>f64</td><td>f64</td><td>f64</td><td>f64</td><td>f64</td><td>f64</td><td>f64</td><td>f64</td><td>f64</td><td>f64</td><td>str</td><td>str</td><td>str</td><td>str</td><td>str</td><td>str</td><td>f64</td></tr></thead><tbody><tr><td>2023-05-02 01:00:00</td><td>&quot;JARDIN_LD2&quot;</td><td>&quot;JARDIN&quot;</td><td>0</td><td>null</td><td>null</td><td>null</td><td>null</td><td>null</td><td>null</td><td>null</td><td>null</td><td>null</td><td>null</td><td>null</td><td>null</td><td>null</td><td>null</td><td>null</td><td>null</td><td>null</td><td>null</td><td>null</td><td>null</td><td>0.0</td></tr><tr><td>2023-05-02 01:00:00</td><td>&quot;GYVLM_LD2&quot;</td><td>&quot;GYVLM&quot;</td><td>0</td><td>null</td><td>null</td><td>null</td><td>null</td><td>null</td><td>null</td><td>null</td><td>null</td><td>null</td><td>null</td><td>null</td><td>null</td><td>null</td><td>null</td><td>null</td><td>null</td><td>null</td><td>null</td><td>null</td><td>null</td><td>0.0</td></tr><tr><td>2023-05-02 01:00:00</td><td>&quot;CLBSN_LD1&quot;</td><td>&quot;CLBSN&quot;</td><td>0</td><td>null</td><td>null</td><td>null</td><td>null</td><td>null</td><td>null</td><td>null</td><td>null</td><td>null</td><td>null</td><td>null</td><td>null</td><td>null</td><td>null</td><td>null</td><td>null</td><td>null</td><td>null</td><td>null</td><td>null</td><td>0.0</td></tr><tr><td>2023-05-02 01:00:00</td><td>&quot;DUN_LD2&quot;</td><td>&quot;DUN&quot;</td><td>0</td><td>null</td><td>null</td><td>null</td><td>null</td><td>null</td><td>null</td><td>null</td><td>null</td><td>null</td><td>null</td><td>null</td><td>null</td><td>null</td><td>null</td><td>null</td><td>null</td><td>null</td><td>null</td><td>null</td><td>null</td><td>0.0</td></tr><tr><td>2023-05-02 01:00:00</td><td>&quot;CHICW_LD4&quot;</td><td>&quot;CHICW&quot;</td><td>0</td><td>null</td><td>null</td><td>null</td><td>null</td><td>null</td><td>null</td><td>null</td><td>null</td><td>null</td><td>null</td><td>null</td><td>null</td><td>null</td><td>null</td><td>null</td><td>null</td><td>null</td><td>null</td><td>null</td><td>null</td><td>0.0</td></tr></tbody></table></div>"
            ],
            "text/plain": [
              "shape: (5, 25)\n",
              "┌────────────┬────────────┬───────────┬────────┬───┬───────────┬───────────┬───────────┬───────────┐\n",
              "│ date_time  ┆ resource_n ┆ resource_ ┆ isBESS ┆ … ┆ sced_bid_ ┆ sced_bid_ ┆ sced_bid_ ┆ base_poin │\n",
              "│ ---        ┆ ame        ┆ prefix    ┆ ---    ┆   ┆ to_buy_cu ┆ to_buy_cu ┆ to_buy_cu ┆ t         │\n",
              "│ datetime[μ ┆ ---        ┆ ---       ┆ i32    ┆   ┆ rve_price ┆ rve_mw10  ┆ rve_price ┆ ---       │\n",
              "│ s]         ┆ str        ┆ str       ┆        ┆   ┆ 9         ┆ ---       ┆ 10        ┆ f64       │\n",
              "│            ┆            ┆           ┆        ┆   ┆ ---       ┆ str       ┆ ---       ┆           │\n",
              "│            ┆            ┆           ┆        ┆   ┆ str       ┆           ┆ str       ┆           │\n",
              "╞════════════╪════════════╪═══════════╪════════╪═══╪═══════════╪═══════════╪═══════════╪═══════════╡\n",
              "│ 2023-05-02 ┆ JARDIN_LD2 ┆ JARDIN    ┆ 0      ┆ … ┆ null      ┆ null      ┆ null      ┆ 0.0       │\n",
              "│ 01:00:00   ┆            ┆           ┆        ┆   ┆           ┆           ┆           ┆           │\n",
              "│ 2023-05-02 ┆ GYVLM_LD2  ┆ GYVLM     ┆ 0      ┆ … ┆ null      ┆ null      ┆ null      ┆ 0.0       │\n",
              "│ 01:00:00   ┆            ┆           ┆        ┆   ┆           ┆           ┆           ┆           │\n",
              "│ 2023-05-02 ┆ CLBSN_LD1  ┆ CLBSN     ┆ 0      ┆ … ┆ null      ┆ null      ┆ null      ┆ 0.0       │\n",
              "│ 01:00:00   ┆            ┆           ┆        ┆   ┆           ┆           ┆           ┆           │\n",
              "│ 2023-05-02 ┆ DUN_LD2    ┆ DUN       ┆ 0      ┆ … ┆ null      ┆ null      ┆ null      ┆ 0.0       │\n",
              "│ 01:00:00   ┆            ┆           ┆        ┆   ┆           ┆           ┆           ┆           │\n",
              "│ 2023-05-02 ┆ CHICW_LD4  ┆ CHICW     ┆ 0      ┆ … ┆ null      ┆ null      ┆ null      ┆ 0.0       │\n",
              "│ 01:00:00   ┆            ┆           ┆        ┆   ┆           ┆           ┆           ┆           │\n",
              "└────────────┴────────────┴───────────┴────────┴───┴───────────┴───────────┴───────────┴───────────┘"
            ]
          },
          "execution_count": 168,
          "metadata": {},
          "output_type": "execute_result"
        }
      ],
      "source": [
        "sced_load.head()"
      ]
    },
    {
      "cell_type": "code",
      "execution_count": null,
      "id": "5ca99b36-b25b-4de6-b3bf-88bf5a8e0258",
      "metadata": {
        "id": "5ca99b36-b25b-4de6-b3bf-88bf5a8e0258"
      },
      "outputs": [],
      "source": [
        "# 5. export file\n",
        "sced_load.write_csv(\"SCED_LOAD_FINAL.csv\")\n",
        "sced_load.write_parquet(\"SCED_LOAD_FINAL.parquet\")"
      ]
    },
    {
      "cell_type": "code",
      "execution_count": null,
      "id": "91be570c-25fd-434e-8722-3e9df907d2b6",
      "metadata": {
        "id": "91be570c-25fd-434e-8722-3e9df907d2b6"
      },
      "outputs": [],
      "source": []
    }
  ],
  "metadata": {
    "kernelspec": {
      "display_name": "Python 3 (ipykernel)",
      "language": "python",
      "name": "python3"
    },
    "language_info": {
      "codemirror_mode": {
        "name": "ipython",
        "version": 3
      },
      "file_extension": ".py",
      "mimetype": "text/x-python",
      "name": "python",
      "nbconvert_exporter": "python",
      "pygments_lexer": "ipython3",
      "version": "3.11.11"
    },
    "colab": {
      "provenance": []
    }
  },
  "nbformat": 4,
  "nbformat_minor": 5
}